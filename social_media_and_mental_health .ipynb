{
 "cells": [
  {
   "cell_type": "markdown",
   "metadata": {
    "cell_id": "feeeec184cfd4f85befa878110095eae",
    "deepnote_cell_type": "text-cell-h1",
    "formattedRanges": []
   },
   "source": [
    "# SC1015 Mini Project: FCSE Group 04 "
   ]
  },
  {
   "cell_type": "markdown",
   "metadata": {
    "cell_id": "15ee09c287ce4bfd8108813ff2b17249",
    "deepnote_cell_type": "markdown"
   },
   "source": [
    "Group members: CHEAH JUN AN DOUGLAS, KOH PING HUI BRYAN, LI ZHONGYUAN"
   ]
  },
  {
   "cell_type": "markdown",
   "metadata": {
    "cell_id": "7339f9beddba4272a9d58deee1828fdb",
    "deepnote_cell_type": "text-cell-h1",
    "formattedRanges": []
   },
   "source": [
    "# Part 1: Data Cleaning and Preparation"
   ]
  },
  {
   "cell_type": "markdown",
   "metadata": {
    "cell_id": "21bb74fd04074a83a3ff2495a1b15f75",
    "deepnote_app_block_visible": false,
    "deepnote_cell_type": "markdown"
   },
   "source": [
    "## Importing of data from our dataset "
   ]
  },
  {
   "cell_type": "code",
   "execution_count": 1,
   "metadata": {
    "cell_id": "e61986c939af4464a988d507365b5d1d",
    "deepnote_cell_type": "code",
    "deepnote_to_be_reexecuted": false,
    "execution_millis": 9367,
    "execution_start": 1713966474268,
    "source_hash": "4141392a"
   },
   "outputs": [
    {
     "name": "stdout",
     "output_type": "stream",
     "text": [
      "Requirement already satisfied: kmodes in /root/venv/lib/python3.9/site-packages (0.12.2)\n",
      "Requirement already satisfied: numpy>=1.10.4 in /shared-libs/python3.9/py/lib/python3.9/site-packages (from kmodes) (1.23.4)\n",
      "Requirement already satisfied: scipy>=0.13.3 in /shared-libs/python3.9/py/lib/python3.9/site-packages (from kmodes) (1.9.3)\n",
      "Requirement already satisfied: scikit-learn>=0.22.0 in /shared-libs/python3.9/py/lib/python3.9/site-packages (from kmodes) (1.1.2)\n",
      "Requirement already satisfied: joblib>=0.11 in /shared-libs/python3.9/py/lib/python3.9/site-packages (from kmodes) (1.2.0)\n",
      "Requirement already satisfied: threadpoolctl>=2.0.0 in /shared-libs/python3.9/py/lib/python3.9/site-packages (from scikit-learn>=0.22.0->kmodes) (3.1.0)\n",
      "\n",
      "\u001b[1m[\u001b[0m\u001b[34;49mnotice\u001b[0m\u001b[1;39;49m]\u001b[0m\u001b[39;49m A new release of pip is available: \u001b[0m\u001b[31;49m23.0.1\u001b[0m\u001b[39;49m -> \u001b[0m\u001b[32;49m24.0\u001b[0m\n",
      "\u001b[1m[\u001b[0m\u001b[34;49mnotice\u001b[0m\u001b[1;39;49m]\u001b[0m\u001b[39;49m To update, run: \u001b[0m\u001b[32;49mpip install --upgrade pip\u001b[0m\n",
      "Requirement already satisfied: statsmodels==0.14.1 in /root/venv/lib/python3.9/site-packages (0.14.1)\n",
      "Requirement already satisfied: patsy>=0.5.4 in /root/venv/lib/python3.9/site-packages (from statsmodels==0.14.1) (0.5.6)\n",
      "Requirement already satisfied: scipy!=1.9.2,>=1.4 in /shared-libs/python3.9/py/lib/python3.9/site-packages (from statsmodels==0.14.1) (1.9.3)\n",
      "Requirement already satisfied: pandas!=2.1.0,>=1.0 in /shared-libs/python3.9/py/lib/python3.9/site-packages (from statsmodels==0.14.1) (2.1.4)\n",
      "Requirement already satisfied: numpy<2,>=1.18 in /shared-libs/python3.9/py/lib/python3.9/site-packages (from statsmodels==0.14.1) (1.23.4)\n",
      "Requirement already satisfied: packaging>=21.3 in /shared-libs/python3.9/py-core/lib/python3.9/site-packages (from statsmodels==0.14.1) (21.3)\n",
      "Requirement already satisfied: pyparsing!=3.0.5,>=2.0.2 in /shared-libs/python3.9/py-core/lib/python3.9/site-packages (from packaging>=21.3->statsmodels==0.14.1) (3.0.9)\n",
      "Requirement already satisfied: pytz>=2020.1 in /shared-libs/python3.9/py/lib/python3.9/site-packages (from pandas!=2.1.0,>=1.0->statsmodels==0.14.1) (2022.5)\n",
      "Requirement already satisfied: python-dateutil>=2.8.2 in /shared-libs/python3.9/py-core/lib/python3.9/site-packages (from pandas!=2.1.0,>=1.0->statsmodels==0.14.1) (2.8.2)\n",
      "Requirement already satisfied: tzdata>=2022.1 in /shared-libs/python3.9/py/lib/python3.9/site-packages (from pandas!=2.1.0,>=1.0->statsmodels==0.14.1) (2022.5)\n",
      "Requirement already satisfied: six in /shared-libs/python3.9/py-core/lib/python3.9/site-packages (from patsy>=0.5.4->statsmodels==0.14.1) (1.16.0)\n",
      "\n",
      "\u001b[1m[\u001b[0m\u001b[34;49mnotice\u001b[0m\u001b[1;39;49m]\u001b[0m\u001b[39;49m A new release of pip is available: \u001b[0m\u001b[31;49m23.0.1\u001b[0m\u001b[39;49m -> \u001b[0m\u001b[32;49m24.0\u001b[0m\n",
      "\u001b[1m[\u001b[0m\u001b[34;49mnotice\u001b[0m\u001b[1;39;49m]\u001b[0m\u001b[39;49m To update, run: \u001b[0m\u001b[32;49mpip install --upgrade pip\u001b[0m\n"
     ]
    }
   ],
   "source": [
    "!pip install kmodes\n",
    "!pip install statsmodels==0.14.1\n",
    "\n",
    "import pandas as pd\n",
    "import numpy as np\n",
    "import seaborn as sb\n",
    "import matplotlib.pyplot as plt\n",
    "import scipy as scp\n",
    "import sklearn\n",
    "sb.set() # set the default Seaborn style for graphics\n",
    "\n",
    "from sklearn.model_selection import train_test_split\n",
    "from sklearn.metrics import accuracy_score\n",
    "from sklearn.linear_model import LogisticRegression\n",
    "from sklearn.metrics import classification_report\n",
    "from sklearn import metrics \n",
    "from sklearn.metrics import confusion_matrix\n",
    "from sklearn.ensemble import VotingClassifier\n",
    "import statsmodels.api as sm\n",
    "from scipy.stats import chi2_contingency      # for chi-sqaure test \n",
    "from IPython.display import clear_output\n",
    "from kmodes.kmodes import KModes\n",
    "from sklearn.svm import SVC\n",
    "\n",
    "data = pd.read_csv('smmh.csv')"
   ]
  },
  {
   "cell_type": "markdown",
   "metadata": {
    "cell_id": "60d9f804c207465ba82689360693335d",
    "deepnote_cell_type": "markdown"
   },
   "source": [
    "## Option Renaming\n",
    "\n"
   ]
  },
  {
   "cell_type": "markdown",
   "metadata": {
    "cell_id": "747be62b41484df7a9bb8b19364d06e0",
    "deepnote_cell_type": "markdown"
   },
   "source": [
    "### Columns\n",
    "\n",
    "The first thing we will rename are the columns for easier reference. "
   ]
  },
  {
   "cell_type": "code",
   "execution_count": 2,
   "metadata": {
    "cell_id": "56088f0e1c8e483caf1a907dae3d830b",
    "deepnote_cell_type": "code",
    "deepnote_table_loading": false,
    "deepnote_table_state": {
     "filters": [],
     "pageIndex": 0,
     "pageSize": 10,
     "sortBy": []
    },
    "deepnote_to_be_reexecuted": false,
    "execution_millis": 341,
    "execution_start": 1713966483640,
    "source_hash": "7e2aced5"
   },
   "outputs": [
    {
     "data": {
      "application/vnd.deepnote.dataframe.v3+json": {
       "column_count": 21,
       "columns": [
        {
         "dtype": "object",
         "name": "Timestamp",
         "stats": {
          "categories": [
           {
            "count": 2,
            "name": "5/11/2022 22:54:32"
           },
           {
            "count": 1,
            "name": "4/18/2022 19:18:47"
           },
           {
            "count": 478,
            "name": "478 others"
           }
          ],
          "nan_count": 0,
          "unique_count": 480
         }
        },
        {
         "dtype": "float64",
         "name": "Age",
         "stats": {
          "histogram": [
           {
            "bin_end": 20.8,
            "bin_start": 13,
            "count": 96
           },
           {
            "bin_end": 28.6,
            "bin_start": 20.8,
            "count": 284
           },
           {
            "bin_end": 36.4,
            "bin_start": 28.6,
            "count": 36
           },
           {
            "bin_end": 44.2,
            "bin_start": 36.4,
            "count": 13
           },
           {
            "bin_end": 52,
            "bin_start": 44.2,
            "count": 43
           },
           {
            "bin_end": 59.8,
            "bin_start": 52,
            "count": 5
           },
           {
            "bin_end": 67.6,
            "bin_start": 59.8,
            "count": 2
           },
           {
            "bin_end": 75.4,
            "bin_start": 67.6,
            "count": 1
           },
           {
            "bin_end": 83.2,
            "bin_start": 75.4,
            "count": 0
           },
           {
            "bin_end": 91,
            "bin_start": 83.2,
            "count": 1
           }
          ],
          "max": "91.0",
          "min": "13.0",
          "nan_count": 0,
          "unique_count": 46
         }
        },
        {
         "dtype": "object",
         "name": "Gender",
         "stats": {
          "categories": [
           {
            "count": 263,
            "name": "Female"
           },
           {
            "count": 211,
            "name": "Male"
           },
           {
            "count": 7,
            "name": "7 others"
           }
          ],
          "nan_count": 0,
          "unique_count": 9
         }
        },
        {
         "dtype": "object",
         "name": "Relationship Status",
         "stats": {
          "categories": [
           {
            "count": 285,
            "name": "Single"
           },
           {
            "count": 101,
            "name": "Married"
           },
           {
            "count": 95,
            "name": "2 others"
           }
          ],
          "nan_count": 0,
          "unique_count": 4
         }
        },
        {
         "dtype": "object",
         "name": "Occupation",
         "stats": {
          "categories": [
           {
            "count": 292,
            "name": "University Student"
           },
           {
            "count": 132,
            "name": "Salaried Worker"
           },
           {
            "count": 57,
            "name": "2 others"
           }
          ],
          "nan_count": 0,
          "unique_count": 4
         }
        },
        {
         "dtype": "object",
         "name": "Affiliations",
         "stats": {
          "categories": [
           {
            "count": 239,
            "name": "University"
           },
           {
            "count": 212,
            "name": "17 others"
           },
           {
            "count": 30,
            "name": "Missing"
           }
          ],
          "nan_count": 30,
          "unique_count": 18
         }
        },
        {
         "dtype": "object",
         "name": "Social Media User?",
         "stats": {
          "categories": [
           {
            "count": 478,
            "name": "Yes"
           },
           {
            "count": 3,
            "name": "No"
           }
          ],
          "nan_count": 0,
          "unique_count": 2
         }
        },
        {
         "dtype": "object",
         "name": "Platforms Used",
         "stats": {
          "categories": [
           {
            "count": 35,
            "name": "Facebook, Instagram, YouTube"
           },
           {
            "count": 30,
            "name": "Facebook, YouTube"
           },
           {
            "count": 416,
            "name": "123 others"
           }
          ],
          "nan_count": 0,
          "unique_count": 125
         }
        },
        {
         "dtype": "object",
         "name": "Time_Spent",
         "stats": {
          "categories": [
           {
            "count": 116,
            "name": "More than 5 hours"
           },
           {
            "count": 101,
            "name": "Between 2 and 3 hours"
           },
           {
            "count": 264,
            "name": "4 others"
           }
          ],
          "nan_count": 0,
          "unique_count": 6
         }
        },
        {
         "dtype": "int64",
         "name": "Mindless Scrolling Frequency",
         "stats": {
          "histogram": [
           {
            "bin_end": 1.4,
            "bin_start": 1,
            "count": 20
           },
           {
            "bin_end": 1.8,
            "bin_start": 1.4,
            "count": 0
           },
           {
            "bin_end": 2.2,
            "bin_start": 1.8,
            "count": 65
           },
           {
            "bin_end": 2.6,
            "bin_start": 2.2,
            "count": 0
           },
           {
            "bin_end": 3,
            "bin_start": 2.6,
            "count": 0
           },
           {
            "bin_end": 3.4000000000000004,
            "bin_start": 3,
            "count": 129
           },
           {
            "bin_end": 3.8000000000000003,
            "bin_start": 3.4000000000000004,
            "count": 0
           },
           {
            "bin_end": 4.2,
            "bin_start": 3.8000000000000003,
            "count": 163
           },
           {
            "bin_end": 4.6,
            "bin_start": 4.2,
            "count": 0
           },
           {
            "bin_end": 5,
            "bin_start": 4.6,
            "count": 104
           }
          ],
          "max": "5",
          "min": "1",
          "nan_count": 0,
          "unique_count": 5
         }
        },
        {
         "dtype": "int64",
         "name": "Social Media distraction Frequency",
         "stats": {
          "histogram": [
           {
            "bin_end": 1.4,
            "bin_start": 1,
            "count": 56
           },
           {
            "bin_end": 1.8,
            "bin_start": 1.4,
            "count": 0
           },
           {
            "bin_end": 2.2,
            "bin_start": 1.8,
            "count": 86
           },
           {
            "bin_end": 2.6,
            "bin_start": 2.2,
            "count": 0
           },
           {
            "bin_end": 3,
            "bin_start": 2.6,
            "count": 0
           },
           {
            "bin_end": 3.4000000000000004,
            "bin_start": 3,
            "count": 104
           },
           {
            "bin_end": 3.8000000000000003,
            "bin_start": 3.4000000000000004,
            "count": 0
           },
           {
            "bin_end": 4.2,
            "bin_start": 3.8000000000000003,
            "count": 118
           },
           {
            "bin_end": 4.6,
            "bin_start": 4.2,
            "count": 0
           },
           {
            "bin_end": 5,
            "bin_start": 4.6,
            "count": 117
           }
          ],
          "max": "5",
          "min": "1",
          "nan_count": 0,
          "unique_count": 5
         }
        },
        {
         "dtype": "int64",
         "name": "Restlessness Frequency",
         "stats": {
          "histogram": [
           {
            "bin_end": 1.4,
            "bin_start": 1,
            "count": 117
           },
           {
            "bin_end": 1.8,
            "bin_start": 1.4,
            "count": 0
           },
           {
            "bin_end": 2.2,
            "bin_start": 1.8,
            "count": 124
           },
           {
            "bin_end": 2.6,
            "bin_start": 2.2,
            "count": 0
           },
           {
            "bin_end": 3,
            "bin_start": 2.6,
            "count": 0
           },
           {
            "bin_end": 3.4000000000000004,
            "bin_start": 3,
            "count": 124
           },
           {
            "bin_end": 3.8000000000000003,
            "bin_start": 3.4000000000000004,
            "count": 0
           },
           {
            "bin_end": 4.2,
            "bin_start": 3.8000000000000003,
            "count": 72
           },
           {
            "bin_end": 4.6,
            "bin_start": 4.2,
            "count": 0
           },
           {
            "bin_end": 5,
            "bin_start": 4.6,
            "count": 44
           }
          ],
          "max": "5",
          "min": "1",
          "nan_count": 0,
          "unique_count": 5
         }
        },
        {
         "dtype": "int64",
         "name": "Distracted frequency",
         "stats": {
          "histogram": [
           {
            "bin_end": 1.4,
            "bin_start": 1,
            "count": 33
           },
           {
            "bin_end": 1.8,
            "bin_start": 1.4,
            "count": 0
           },
           {
            "bin_end": 2.2,
            "bin_start": 1.8,
            "count": 77
           },
           {
            "bin_end": 2.6,
            "bin_start": 2.2,
            "count": 0
           },
           {
            "bin_end": 3,
            "bin_start": 2.6,
            "count": 0
           },
           {
            "bin_end": 3.4000000000000004,
            "bin_start": 3,
            "count": 161
           },
           {
            "bin_end": 3.8000000000000003,
            "bin_start": 3.4000000000000004,
            "count": 0
           },
           {
            "bin_end": 4.2,
            "bin_start": 3.8000000000000003,
            "count": 109
           },
           {
            "bin_end": 4.6,
            "bin_start": 4.2,
            "count": 0
           },
           {
            "bin_end": 5,
            "bin_start": 4.6,
            "count": 101
           }
          ],
          "max": "5",
          "min": "1",
          "nan_count": 0,
          "unique_count": 5
         }
        },
        {
         "dtype": "int64",
         "name": "Worry frequency",
         "stats": {
          "histogram": [
           {
            "bin_end": 1.4,
            "bin_start": 1,
            "count": 40
           },
           {
            "bin_end": 1.8,
            "bin_start": 1.4,
            "count": 0
           },
           {
            "bin_end": 2.2,
            "bin_start": 1.8,
            "count": 71
           },
           {
            "bin_end": 2.6,
            "bin_start": 2.2,
            "count": 0
           },
           {
            "bin_end": 3,
            "bin_start": 2.6,
            "count": 0
           },
           {
            "bin_end": 3.4000000000000004,
            "bin_start": 3,
            "count": 95
           },
           {
            "bin_end": 3.8000000000000003,
            "bin_start": 3.4000000000000004,
            "count": 0
           },
           {
            "bin_end": 4.2,
            "bin_start": 3.8000000000000003,
            "count": 130
           },
           {
            "bin_end": 4.6,
            "bin_start": 4.2,
            "count": 0
           },
           {
            "bin_end": 5,
            "bin_start": 4.6,
            "count": 145
           }
          ],
          "max": "5",
          "min": "1",
          "nan_count": 0,
          "unique_count": 5
         }
        },
        {
         "dtype": "int64",
         "name": "Concentration difficulty frequency",
         "stats": {
          "histogram": [
           {
            "bin_end": 1.4,
            "bin_start": 1,
            "count": 67
           },
           {
            "bin_end": 1.8,
            "bin_start": 1.4,
            "count": 0
           },
           {
            "bin_end": 2.2,
            "bin_start": 1.8,
            "count": 81
           },
           {
            "bin_end": 2.6,
            "bin_start": 2.2,
            "count": 0
           },
           {
            "bin_end": 3,
            "bin_start": 2.6,
            "count": 0
           },
           {
            "bin_end": 3.4000000000000004,
            "bin_start": 3,
            "count": 109
           },
           {
            "bin_end": 3.8000000000000003,
            "bin_start": 3.4000000000000004,
            "count": 0
           },
           {
            "bin_end": 4.2,
            "bin_start": 3.8000000000000003,
            "count": 115
           },
           {
            "bin_end": 4.6,
            "bin_start": 4.2,
            "count": 0
           },
           {
            "bin_end": 5,
            "bin_start": 4.6,
            "count": 109
           }
          ],
          "max": "5",
          "min": "1",
          "nan_count": 0,
          "unique_count": 5
         }
        },
        {
         "dtype": "int64",
         "name": "Self comparisons frequency",
         "stats": {
          "histogram": [
           {
            "bin_end": 1.4,
            "bin_start": 1,
            "count": 110
           },
           {
            "bin_end": 1.8,
            "bin_start": 1.4,
            "count": 0
           },
           {
            "bin_end": 2.2,
            "bin_start": 1.8,
            "count": 108
           },
           {
            "bin_end": 2.6,
            "bin_start": 2.2,
            "count": 0
           },
           {
            "bin_end": 3,
            "bin_start": 2.6,
            "count": 0
           },
           {
            "bin_end": 3.4000000000000004,
            "bin_start": 3,
            "count": 101
           },
           {
            "bin_end": 3.8000000000000003,
            "bin_start": 3.4000000000000004,
            "count": 0
           },
           {
            "bin_end": 4.2,
            "bin_start": 3.8000000000000003,
            "count": 77
           },
           {
            "bin_end": 4.6,
            "bin_start": 4.2,
            "count": 0
           },
           {
            "bin_end": 5,
            "bin_start": 4.6,
            "count": 85
           }
          ],
          "max": "5",
          "min": "1",
          "nan_count": 0,
          "unique_count": 5
         }
        },
        {
         "dtype": "int64",
         "name": "Self invalidation frequency",
         "stats": {
          "histogram": [
           {
            "bin_end": 1.4,
            "bin_start": 1,
            "count": 66
           },
           {
            "bin_end": 1.8,
            "bin_start": 1.4,
            "count": 0
           },
           {
            "bin_end": 2.2,
            "bin_start": 1.8,
            "count": 103
           },
           {
            "bin_end": 2.6,
            "bin_start": 2.2,
            "count": 0
           },
           {
            "bin_end": 3,
            "bin_start": 2.6,
            "count": 0
           },
           {
            "bin_end": 3.4000000000000004,
            "bin_start": 3,
            "count": 218
           },
           {
            "bin_end": 3.8000000000000003,
            "bin_start": 3.4000000000000004,
            "count": 0
           },
           {
            "bin_end": 4.2,
            "bin_start": 3.8000000000000003,
            "count": 61
           },
           {
            "bin_end": 4.6,
            "bin_start": 4.2,
            "count": 0
           },
           {
            "bin_end": 5,
            "bin_start": 4.6,
            "count": 33
           }
          ],
          "max": "5",
          "min": "1",
          "nan_count": 0,
          "unique_count": 5
         }
        },
        {
         "dtype": "int64",
         "name": "Social media validation seeking frequency",
         "stats": {
          "histogram": [
           {
            "bin_end": 1.4,
            "bin_start": 1,
            "count": 150
           },
           {
            "bin_end": 1.8,
            "bin_start": 1.4,
            "count": 0
           },
           {
            "bin_end": 2.2,
            "bin_start": 1.8,
            "count": 99
           },
           {
            "bin_end": 2.6,
            "bin_start": 2.2,
            "count": 0
           },
           {
            "bin_end": 3,
            "bin_start": 2.6,
            "count": 0
           },
           {
            "bin_end": 3.4000000000000004,
            "bin_start": 3,
            "count": 122
           },
           {
            "bin_end": 3.8000000000000003,
            "bin_start": 3.4000000000000004,
            "count": 0
           },
           {
            "bin_end": 4.2,
            "bin_start": 3.8000000000000003,
            "count": 83
           },
           {
            "bin_end": 4.6,
            "bin_start": 4.2,
            "count": 0
           },
           {
            "bin_end": 5,
            "bin_start": 4.6,
            "count": 27
           }
          ],
          "max": "5",
          "min": "1",
          "nan_count": 0,
          "unique_count": 5
         }
        },
        {
         "dtype": "int64",
         "name": "Depressed emotion frequency",
         "stats": {
          "histogram": [
           {
            "bin_end": 1.4,
            "bin_start": 1,
            "count": 60
           },
           {
            "bin_end": 1.8,
            "bin_start": 1.4,
            "count": 0
           },
           {
            "bin_end": 2.2,
            "bin_start": 1.8,
            "count": 83
           },
           {
            "bin_end": 2.6,
            "bin_start": 2.2,
            "count": 0
           },
           {
            "bin_end": 3,
            "bin_start": 2.6,
            "count": 0
           },
           {
            "bin_end": 3.4000000000000004,
            "bin_start": 3,
            "count": 117
           },
           {
            "bin_end": 3.8000000000000003,
            "bin_start": 3.4000000000000004,
            "count": 0
           },
           {
            "bin_end": 4.2,
            "bin_start": 3.8000000000000003,
            "count": 116
           },
           {
            "bin_end": 4.6,
            "bin_start": 4.2,
            "count": 0
           },
           {
            "bin_end": 5,
            "bin_start": 4.6,
            "count": 105
           }
          ],
          "max": "5",
          "min": "1",
          "nan_count": 0,
          "unique_count": 5
         }
        },
        {
         "dtype": "int64",
         "name": "Daily activity interest fluctuation frequency",
         "stats": {
          "histogram": [
           {
            "bin_end": 1.4,
            "bin_start": 1,
            "count": 50
           },
           {
            "bin_end": 1.8,
            "bin_start": 1.4,
            "count": 0
           },
           {
            "bin_end": 2.2,
            "bin_start": 1.8,
            "count": 109
           },
           {
            "bin_end": 2.6,
            "bin_start": 2.2,
            "count": 0
           },
           {
            "bin_end": 3,
            "bin_start": 2.6,
            "count": 0
           },
           {
            "bin_end": 3.4000000000000004,
            "bin_start": 3,
            "count": 117
           },
           {
            "bin_end": 3.8000000000000003,
            "bin_start": 3.4000000000000004,
            "count": 0
           },
           {
            "bin_end": 4.2,
            "bin_start": 3.8000000000000003,
            "count": 119
           },
           {
            "bin_end": 4.6,
            "bin_start": 4.2,
            "count": 0
           },
           {
            "bin_end": 5,
            "bin_start": 4.6,
            "count": 86
           }
          ],
          "max": "5",
          "min": "1",
          "nan_count": 0,
          "unique_count": 5
         }
        },
        {
         "dtype": "int64",
         "name": "Sleep issue frequency",
         "stats": {
          "histogram": [
           {
            "bin_end": 1.4,
            "bin_start": 1,
            "count": 86
           },
           {
            "bin_end": 1.8,
            "bin_start": 1.4,
            "count": 0
           },
           {
            "bin_end": 2.2,
            "bin_start": 1.8,
            "count": 91
           },
           {
            "bin_end": 2.6,
            "bin_start": 2.2,
            "count": 0
           },
           {
            "bin_end": 3,
            "bin_start": 2.6,
            "count": 0
           },
           {
            "bin_end": 3.4000000000000004,
            "bin_start": 3,
            "count": 69
           },
           {
            "bin_end": 3.8000000000000003,
            "bin_start": 3.4000000000000004,
            "count": 0
           },
           {
            "bin_end": 4.2,
            "bin_start": 3.8000000000000003,
            "count": 110
           },
           {
            "bin_end": 4.6,
            "bin_start": 4.2,
            "count": 0
           },
           {
            "bin_end": 5,
            "bin_start": 4.6,
            "count": 125
           }
          ],
          "max": "5",
          "min": "1",
          "nan_count": 0,
          "unique_count": 5
         }
        },
        {
         "dtype": "int64",
         "name": "_deepnote_index_column"
        }
       ],
       "row_count": 481,
       "rows": [
        {
         "Affiliations": "University",
         "Age": 21,
         "Concentration difficulty frequency": 5,
         "Daily activity interest fluctuation frequency": 4,
         "Depressed emotion frequency": 5,
         "Distracted frequency": 5,
         "Gender": "Male",
         "Mindless Scrolling Frequency": 5,
         "Occupation": "University Student",
         "Platforms Used": "Facebook, Twitter, Instagram, YouTube, Discord, Reddit",
         "Relationship Status": "In a relationship",
         "Restlessness Frequency": 2,
         "Self comparisons frequency": 2,
         "Self invalidation frequency": 3,
         "Sleep issue frequency": 5,
         "Social Media User?": "Yes",
         "Social Media distraction Frequency": 3,
         "Social media validation seeking frequency": 2,
         "Time_Spent": "Between 2 and 3 hours",
         "Timestamp": "4/18/2022 19:18:47",
         "Worry frequency": 2,
         "_deepnote_index_column": 0
        },
        {
         "Affiliations": "University",
         "Age": 21,
         "Concentration difficulty frequency": 4,
         "Daily activity interest fluctuation frequency": 4,
         "Depressed emotion frequency": 5,
         "Distracted frequency": 4,
         "Gender": "Female",
         "Mindless Scrolling Frequency": 4,
         "Occupation": "University Student",
         "Platforms Used": "Facebook, Twitter, Instagram, YouTube, Discord, Reddit",
         "Relationship Status": "Single",
         "Restlessness Frequency": 2,
         "Self comparisons frequency": 5,
         "Self invalidation frequency": 1,
         "Sleep issue frequency": 5,
         "Social Media User?": "Yes",
         "Social Media distraction Frequency": 3,
         "Social media validation seeking frequency": 1,
         "Time_Spent": "More than 5 hours",
         "Timestamp": "4/18/2022 19:19:28",
         "Worry frequency": 5,
         "_deepnote_index_column": 1
        },
        {
         "Affiliations": "University",
         "Age": 21,
         "Concentration difficulty frequency": 4,
         "Daily activity interest fluctuation frequency": 2,
         "Depressed emotion frequency": 4,
         "Distracted frequency": 2,
         "Gender": "Female",
         "Mindless Scrolling Frequency": 3,
         "Occupation": "University Student",
         "Platforms Used": "Facebook, Instagram, YouTube, Pinterest",
         "Relationship Status": "Single",
         "Restlessness Frequency": 1,
         "Self comparisons frequency": 3,
         "Self invalidation frequency": 3,
         "Sleep issue frequency": 5,
         "Social Media User?": "Yes",
         "Social Media distraction Frequency": 2,
         "Social media validation seeking frequency": 1,
         "Time_Spent": "Between 3 and 4 hours",
         "Timestamp": "4/18/2022 19:25:59",
         "Worry frequency": 5,
         "_deepnote_index_column": 2
        },
        {
         "Affiliations": "University",
         "Age": 21,
         "Concentration difficulty frequency": 3,
         "Daily activity interest fluctuation frequency": 3,
         "Depressed emotion frequency": 4,
         "Distracted frequency": 3,
         "Gender": "Female",
         "Mindless Scrolling Frequency": 4,
         "Occupation": "University Student",
         "Platforms Used": "Facebook, Instagram",
         "Relationship Status": "Single",
         "Restlessness Frequency": 1,
         "Self comparisons frequency": 5,
         "Self invalidation frequency": 1,
         "Sleep issue frequency": 2,
         "Social Media User?": "Yes",
         "Social Media distraction Frequency": 2,
         "Social media validation seeking frequency": 2,
         "Time_Spent": "More than 5 hours",
         "Timestamp": "4/18/2022 19:29:43",
         "Worry frequency": 5,
         "_deepnote_index_column": 3
        },
        {
         "Affiliations": "University",
         "Age": 21,
         "Concentration difficulty frequency": 5,
         "Daily activity interest fluctuation frequency": 4,
         "Depressed emotion frequency": 4,
         "Distracted frequency": 4,
         "Gender": "Female",
         "Mindless Scrolling Frequency": 3,
         "Occupation": "University Student",
         "Platforms Used": "Facebook, Instagram, YouTube",
         "Relationship Status": "Single",
         "Restlessness Frequency": 4,
         "Self comparisons frequency": 3,
         "Self invalidation frequency": 3,
         "Sleep issue frequency": 1,
         "Social Media User?": "Yes",
         "Social Media distraction Frequency": 5,
         "Social media validation seeking frequency": 3,
         "Time_Spent": "Between 2 and 3 hours",
         "Timestamp": "4/18/2022 19:33:31",
         "Worry frequency": 5,
         "_deepnote_index_column": 4
        },
        {
         "Affiliations": "University",
         "Age": 22,
         "Concentration difficulty frequency": 3,
         "Daily activity interest fluctuation frequency": 2,
         "Depressed emotion frequency": 3,
         "Distracted frequency": 3,
         "Gender": "Female",
         "Mindless Scrolling Frequency": 4,
         "Occupation": "University Student",
         "Platforms Used": "Facebook, Twitter, Instagram, YouTube, Discord, Pinterest, TikTok",
         "Relationship Status": "Single",
         "Restlessness Frequency": 2,
         "Self comparisons frequency": 4,
         "Self invalidation frequency": 4,
         "Sleep issue frequency": 4,
         "Social Media User?": "Yes",
         "Social Media distraction Frequency": 4,
         "Social media validation seeking frequency": 3,
         "Time_Spent": "Between 2 and 3 hours",
         "Timestamp": "4/18/2022 19:33:48",
         "Worry frequency": 4,
         "_deepnote_index_column": 5
        },
        {
         "Affiliations": "University",
         "Age": 21,
         "Concentration difficulty frequency": 3,
         "Daily activity interest fluctuation frequency": 5,
         "Depressed emotion frequency": 5,
         "Distracted frequency": 2,
         "Gender": "Female",
         "Mindless Scrolling Frequency": 4,
         "Occupation": "University Student",
         "Platforms Used": "Facebook, Instagram, YouTube, Snapchat, TikTok",
         "Relationship Status": "Married",
         "Restlessness Frequency": 2,
         "Self comparisons frequency": 5,
         "Self invalidation frequency": 3,
         "Sleep issue frequency": 3,
         "Social Media User?": "Yes",
         "Social Media distraction Frequency": 3,
         "Social media validation seeking frequency": 4,
         "Time_Spent": "Between 3 and 4 hours",
         "Timestamp": "4/18/2022 19:36:12",
         "Worry frequency": 4,
         "_deepnote_index_column": 6
        },
        {
         "Affiliations": "University",
         "Age": 21,
         "Concentration difficulty frequency": 1,
         "Daily activity interest fluctuation frequency": 5,
         "Depressed emotion frequency": 5,
         "Distracted frequency": 3,
         "Gender": "Female",
         "Mindless Scrolling Frequency": 5,
         "Occupation": "University Student",
         "Platforms Used": "Facebook, Instagram, YouTube",
         "Relationship Status": "In a relationship",
         "Restlessness Frequency": 3,
         "Self comparisons frequency": 1,
         "Self invalidation frequency": 3,
         "Sleep issue frequency": 1,
         "Social Media User?": "Yes",
         "Social Media distraction Frequency": 2,
         "Social media validation seeking frequency": 1,
         "Time_Spent": "More than 5 hours",
         "Timestamp": "4/18/2022 19:36:17",
         "Worry frequency": 3,
         "_deepnote_index_column": 7
        },
        {
         "Affiliations": "University",
         "Age": 21,
         "Concentration difficulty frequency": 1,
         "Daily activity interest fluctuation frequency": 5,
         "Depressed emotion frequency": 5,
         "Distracted frequency": 3,
         "Gender": "Female",
         "Mindless Scrolling Frequency": 5,
         "Occupation": "University Student",
         "Platforms Used": "Facebook, Instagram, YouTube",
         "Relationship Status": "In a relationship",
         "Restlessness Frequency": 3,
         "Self comparisons frequency": 1,
         "Self invalidation frequency": 3,
         "Sleep issue frequency": 1,
         "Social Media User?": "Yes",
         "Social Media distraction Frequency": 2,
         "Social media validation seeking frequency": 1,
         "Time_Spent": "More than 5 hours",
         "Timestamp": "4/18/2022 19:39:36",
         "Worry frequency": 1,
         "_deepnote_index_column": 8
        },
        {
         "Affiliations": "University",
         "Age": 20,
         "Concentration difficulty frequency": 1,
         "Daily activity interest fluctuation frequency": 1,
         "Depressed emotion frequency": 1,
         "Distracted frequency": 1,
         "Gender": "Male",
         "Mindless Scrolling Frequency": 1,
         "Occupation": "University Student",
         "Platforms Used": "Reddit, Pinterest",
         "Relationship Status": "Single",
         "Restlessness Frequency": 1,
         "Self comparisons frequency": 1,
         "Self invalidation frequency": 1,
         "Sleep issue frequency": 1,
         "Social Media User?": "No",
         "Social Media distraction Frequency": 1,
         "Social media validation seeking frequency": 1,
         "Time_Spent": "Less than an Hour",
         "Timestamp": "4/18/2022 19:41:34",
         "Worry frequency": 1,
         "_deepnote_index_column": 9
        }
       ]
      },
      "text/html": [
       "<div>\n",
       "<style scoped>\n",
       "    .dataframe tbody tr th:only-of-type {\n",
       "        vertical-align: middle;\n",
       "    }\n",
       "\n",
       "    .dataframe tbody tr th {\n",
       "        vertical-align: top;\n",
       "    }\n",
       "\n",
       "    .dataframe thead th {\n",
       "        text-align: right;\n",
       "    }\n",
       "</style>\n",
       "<table border=\"1\" class=\"dataframe\">\n",
       "  <thead>\n",
       "    <tr style=\"text-align: right;\">\n",
       "      <th></th>\n",
       "      <th>Timestamp</th>\n",
       "      <th>Age</th>\n",
       "      <th>Gender</th>\n",
       "      <th>Relationship Status</th>\n",
       "      <th>Occupation</th>\n",
       "      <th>Affiliations</th>\n",
       "      <th>Social Media User?</th>\n",
       "      <th>Platforms Used</th>\n",
       "      <th>Time_Spent</th>\n",
       "      <th>Mindless Scrolling Frequency</th>\n",
       "      <th>...</th>\n",
       "      <th>Restlessness Frequency</th>\n",
       "      <th>Distracted frequency</th>\n",
       "      <th>Worry frequency</th>\n",
       "      <th>Concentration difficulty frequency</th>\n",
       "      <th>Self comparisons frequency</th>\n",
       "      <th>Self invalidation frequency</th>\n",
       "      <th>Social media validation seeking frequency</th>\n",
       "      <th>Depressed emotion frequency</th>\n",
       "      <th>Daily activity interest fluctuation frequency</th>\n",
       "      <th>Sleep issue frequency</th>\n",
       "    </tr>\n",
       "  </thead>\n",
       "  <tbody>\n",
       "    <tr>\n",
       "      <th>0</th>\n",
       "      <td>4/18/2022 19:18:47</td>\n",
       "      <td>21.0</td>\n",
       "      <td>Male</td>\n",
       "      <td>In a relationship</td>\n",
       "      <td>University Student</td>\n",
       "      <td>University</td>\n",
       "      <td>Yes</td>\n",
       "      <td>Facebook, Twitter, Instagram, YouTube, Discord...</td>\n",
       "      <td>Between 2 and 3 hours</td>\n",
       "      <td>5</td>\n",
       "      <td>...</td>\n",
       "      <td>2</td>\n",
       "      <td>5</td>\n",
       "      <td>2</td>\n",
       "      <td>5</td>\n",
       "      <td>2</td>\n",
       "      <td>3</td>\n",
       "      <td>2</td>\n",
       "      <td>5</td>\n",
       "      <td>4</td>\n",
       "      <td>5</td>\n",
       "    </tr>\n",
       "    <tr>\n",
       "      <th>1</th>\n",
       "      <td>4/18/2022 19:19:28</td>\n",
       "      <td>21.0</td>\n",
       "      <td>Female</td>\n",
       "      <td>Single</td>\n",
       "      <td>University Student</td>\n",
       "      <td>University</td>\n",
       "      <td>Yes</td>\n",
       "      <td>Facebook, Twitter, Instagram, YouTube, Discord...</td>\n",
       "      <td>More than 5 hours</td>\n",
       "      <td>4</td>\n",
       "      <td>...</td>\n",
       "      <td>2</td>\n",
       "      <td>4</td>\n",
       "      <td>5</td>\n",
       "      <td>4</td>\n",
       "      <td>5</td>\n",
       "      <td>1</td>\n",
       "      <td>1</td>\n",
       "      <td>5</td>\n",
       "      <td>4</td>\n",
       "      <td>5</td>\n",
       "    </tr>\n",
       "    <tr>\n",
       "      <th>2</th>\n",
       "      <td>4/18/2022 19:25:59</td>\n",
       "      <td>21.0</td>\n",
       "      <td>Female</td>\n",
       "      <td>Single</td>\n",
       "      <td>University Student</td>\n",
       "      <td>University</td>\n",
       "      <td>Yes</td>\n",
       "      <td>Facebook, Instagram, YouTube, Pinterest</td>\n",
       "      <td>Between 3 and 4 hours</td>\n",
       "      <td>3</td>\n",
       "      <td>...</td>\n",
       "      <td>1</td>\n",
       "      <td>2</td>\n",
       "      <td>5</td>\n",
       "      <td>4</td>\n",
       "      <td>3</td>\n",
       "      <td>3</td>\n",
       "      <td>1</td>\n",
       "      <td>4</td>\n",
       "      <td>2</td>\n",
       "      <td>5</td>\n",
       "    </tr>\n",
       "    <tr>\n",
       "      <th>3</th>\n",
       "      <td>4/18/2022 19:29:43</td>\n",
       "      <td>21.0</td>\n",
       "      <td>Female</td>\n",
       "      <td>Single</td>\n",
       "      <td>University Student</td>\n",
       "      <td>University</td>\n",
       "      <td>Yes</td>\n",
       "      <td>Facebook, Instagram</td>\n",
       "      <td>More than 5 hours</td>\n",
       "      <td>4</td>\n",
       "      <td>...</td>\n",
       "      <td>1</td>\n",
       "      <td>3</td>\n",
       "      <td>5</td>\n",
       "      <td>3</td>\n",
       "      <td>5</td>\n",
       "      <td>1</td>\n",
       "      <td>2</td>\n",
       "      <td>4</td>\n",
       "      <td>3</td>\n",
       "      <td>2</td>\n",
       "    </tr>\n",
       "    <tr>\n",
       "      <th>4</th>\n",
       "      <td>4/18/2022 19:33:31</td>\n",
       "      <td>21.0</td>\n",
       "      <td>Female</td>\n",
       "      <td>Single</td>\n",
       "      <td>University Student</td>\n",
       "      <td>University</td>\n",
       "      <td>Yes</td>\n",
       "      <td>Facebook, Instagram, YouTube</td>\n",
       "      <td>Between 2 and 3 hours</td>\n",
       "      <td>3</td>\n",
       "      <td>...</td>\n",
       "      <td>4</td>\n",
       "      <td>4</td>\n",
       "      <td>5</td>\n",
       "      <td>5</td>\n",
       "      <td>3</td>\n",
       "      <td>3</td>\n",
       "      <td>3</td>\n",
       "      <td>4</td>\n",
       "      <td>4</td>\n",
       "      <td>1</td>\n",
       "    </tr>\n",
       "    <tr>\n",
       "      <th>...</th>\n",
       "      <td>...</td>\n",
       "      <td>...</td>\n",
       "      <td>...</td>\n",
       "      <td>...</td>\n",
       "      <td>...</td>\n",
       "      <td>...</td>\n",
       "      <td>...</td>\n",
       "      <td>...</td>\n",
       "      <td>...</td>\n",
       "      <td>...</td>\n",
       "      <td>...</td>\n",
       "      <td>...</td>\n",
       "      <td>...</td>\n",
       "      <td>...</td>\n",
       "      <td>...</td>\n",
       "      <td>...</td>\n",
       "      <td>...</td>\n",
       "      <td>...</td>\n",
       "      <td>...</td>\n",
       "      <td>...</td>\n",
       "      <td>...</td>\n",
       "    </tr>\n",
       "    <tr>\n",
       "      <th>476</th>\n",
       "      <td>5/21/2022 23:38:28</td>\n",
       "      <td>24.0</td>\n",
       "      <td>Male</td>\n",
       "      <td>Single</td>\n",
       "      <td>Salaried Worker</td>\n",
       "      <td>University, Private</td>\n",
       "      <td>Yes</td>\n",
       "      <td>Facebook, Instagram, YouTube</td>\n",
       "      <td>Between 2 and 3 hours</td>\n",
       "      <td>3</td>\n",
       "      <td>...</td>\n",
       "      <td>3</td>\n",
       "      <td>4</td>\n",
       "      <td>3</td>\n",
       "      <td>4</td>\n",
       "      <td>4</td>\n",
       "      <td>2</td>\n",
       "      <td>4</td>\n",
       "      <td>3</td>\n",
       "      <td>4</td>\n",
       "      <td>4</td>\n",
       "    </tr>\n",
       "    <tr>\n",
       "      <th>477</th>\n",
       "      <td>5/22/2022 0:01:05</td>\n",
       "      <td>26.0</td>\n",
       "      <td>Female</td>\n",
       "      <td>Married</td>\n",
       "      <td>Salaried Worker</td>\n",
       "      <td>University</td>\n",
       "      <td>Yes</td>\n",
       "      <td>Facebook, YouTube</td>\n",
       "      <td>Between 1 and 2 hours</td>\n",
       "      <td>2</td>\n",
       "      <td>...</td>\n",
       "      <td>2</td>\n",
       "      <td>3</td>\n",
       "      <td>4</td>\n",
       "      <td>4</td>\n",
       "      <td>4</td>\n",
       "      <td>2</td>\n",
       "      <td>4</td>\n",
       "      <td>4</td>\n",
       "      <td>4</td>\n",
       "      <td>1</td>\n",
       "    </tr>\n",
       "    <tr>\n",
       "      <th>478</th>\n",
       "      <td>5/22/2022 10:29:21</td>\n",
       "      <td>29.0</td>\n",
       "      <td>Female</td>\n",
       "      <td>Married</td>\n",
       "      <td>Salaried Worker</td>\n",
       "      <td>University</td>\n",
       "      <td>Yes</td>\n",
       "      <td>Facebook, YouTube</td>\n",
       "      <td>Between 2 and 3 hours</td>\n",
       "      <td>3</td>\n",
       "      <td>...</td>\n",
       "      <td>4</td>\n",
       "      <td>3</td>\n",
       "      <td>2</td>\n",
       "      <td>3</td>\n",
       "      <td>3</td>\n",
       "      <td>3</td>\n",
       "      <td>4</td>\n",
       "      <td>2</td>\n",
       "      <td>2</td>\n",
       "      <td>2</td>\n",
       "    </tr>\n",
       "    <tr>\n",
       "      <th>479</th>\n",
       "      <td>7/14/2022 19:33:47</td>\n",
       "      <td>21.0</td>\n",
       "      <td>Male</td>\n",
       "      <td>Single</td>\n",
       "      <td>University Student</td>\n",
       "      <td>University</td>\n",
       "      <td>Yes</td>\n",
       "      <td>Facebook, Twitter, Instagram, YouTube, Discord...</td>\n",
       "      <td>Between 2 and 3 hours</td>\n",
       "      <td>2</td>\n",
       "      <td>...</td>\n",
       "      <td>2</td>\n",
       "      <td>3</td>\n",
       "      <td>3</td>\n",
       "      <td>2</td>\n",
       "      <td>2</td>\n",
       "      <td>3</td>\n",
       "      <td>4</td>\n",
       "      <td>4</td>\n",
       "      <td>5</td>\n",
       "      <td>4</td>\n",
       "    </tr>\n",
       "    <tr>\n",
       "      <th>480</th>\n",
       "      <td>11/12/2022 13:16:50</td>\n",
       "      <td>53.0</td>\n",
       "      <td>Male</td>\n",
       "      <td>Married</td>\n",
       "      <td>Salaried Worker</td>\n",
       "      <td>Private</td>\n",
       "      <td>Yes</td>\n",
       "      <td>Facebook, YouTube</td>\n",
       "      <td>Less than an Hour</td>\n",
       "      <td>2</td>\n",
       "      <td>...</td>\n",
       "      <td>1</td>\n",
       "      <td>3</td>\n",
       "      <td>1</td>\n",
       "      <td>1</td>\n",
       "      <td>3</td>\n",
       "      <td>3</td>\n",
       "      <td>2</td>\n",
       "      <td>2</td>\n",
       "      <td>2</td>\n",
       "      <td>3</td>\n",
       "    </tr>\n",
       "  </tbody>\n",
       "</table>\n",
       "<p>481 rows × 21 columns</p>\n",
       "</div>"
      ],
      "text/plain": [
       "               Timestamp   Age  Gender Relationship Status  \\\n",
       "0     4/18/2022 19:18:47  21.0    Male   In a relationship   \n",
       "1     4/18/2022 19:19:28  21.0  Female              Single   \n",
       "2     4/18/2022 19:25:59  21.0  Female              Single   \n",
       "3     4/18/2022 19:29:43  21.0  Female              Single   \n",
       "4     4/18/2022 19:33:31  21.0  Female              Single   \n",
       "..                   ...   ...     ...                 ...   \n",
       "476   5/21/2022 23:38:28  24.0    Male              Single   \n",
       "477    5/22/2022 0:01:05  26.0  Female             Married   \n",
       "478   5/22/2022 10:29:21  29.0  Female             Married   \n",
       "479   7/14/2022 19:33:47  21.0    Male              Single   \n",
       "480  11/12/2022 13:16:50  53.0    Male             Married   \n",
       "\n",
       "             Occupation         Affiliations Social Media User?  \\\n",
       "0    University Student           University                Yes   \n",
       "1    University Student           University                Yes   \n",
       "2    University Student           University                Yes   \n",
       "3    University Student           University                Yes   \n",
       "4    University Student           University                Yes   \n",
       "..                  ...                  ...                ...   \n",
       "476     Salaried Worker  University, Private                Yes   \n",
       "477     Salaried Worker           University                Yes   \n",
       "478     Salaried Worker           University                Yes   \n",
       "479  University Student           University                Yes   \n",
       "480     Salaried Worker              Private                Yes   \n",
       "\n",
       "                                        Platforms Used             Time_Spent  \\\n",
       "0    Facebook, Twitter, Instagram, YouTube, Discord...  Between 2 and 3 hours   \n",
       "1    Facebook, Twitter, Instagram, YouTube, Discord...      More than 5 hours   \n",
       "2              Facebook, Instagram, YouTube, Pinterest  Between 3 and 4 hours   \n",
       "3                                  Facebook, Instagram      More than 5 hours   \n",
       "4                         Facebook, Instagram, YouTube  Between 2 and 3 hours   \n",
       "..                                                 ...                    ...   \n",
       "476                       Facebook, Instagram, YouTube  Between 2 and 3 hours   \n",
       "477                                  Facebook, YouTube  Between 1 and 2 hours   \n",
       "478                                  Facebook, YouTube  Between 2 and 3 hours   \n",
       "479  Facebook, Twitter, Instagram, YouTube, Discord...  Between 2 and 3 hours   \n",
       "480                                  Facebook, YouTube      Less than an Hour   \n",
       "\n",
       "     Mindless Scrolling Frequency  ...  Restlessness Frequency  \\\n",
       "0                               5  ...                       2   \n",
       "1                               4  ...                       2   \n",
       "2                               3  ...                       1   \n",
       "3                               4  ...                       1   \n",
       "4                               3  ...                       4   \n",
       "..                            ...  ...                     ...   \n",
       "476                             3  ...                       3   \n",
       "477                             2  ...                       2   \n",
       "478                             3  ...                       4   \n",
       "479                             2  ...                       2   \n",
       "480                             2  ...                       1   \n",
       "\n",
       "     Distracted frequency  Worry frequency  \\\n",
       "0                       5                2   \n",
       "1                       4                5   \n",
       "2                       2                5   \n",
       "3                       3                5   \n",
       "4                       4                5   \n",
       "..                    ...              ...   \n",
       "476                     4                3   \n",
       "477                     3                4   \n",
       "478                     3                2   \n",
       "479                     3                3   \n",
       "480                     3                1   \n",
       "\n",
       "     Concentration difficulty frequency  Self comparisons frequency  \\\n",
       "0                                     5                           2   \n",
       "1                                     4                           5   \n",
       "2                                     4                           3   \n",
       "3                                     3                           5   \n",
       "4                                     5                           3   \n",
       "..                                  ...                         ...   \n",
       "476                                   4                           4   \n",
       "477                                   4                           4   \n",
       "478                                   3                           3   \n",
       "479                                   2                           2   \n",
       "480                                   1                           3   \n",
       "\n",
       "     Self invalidation frequency  Social media validation seeking frequency  \\\n",
       "0                              3                                          2   \n",
       "1                              1                                          1   \n",
       "2                              3                                          1   \n",
       "3                              1                                          2   \n",
       "4                              3                                          3   \n",
       "..                           ...                                        ...   \n",
       "476                            2                                          4   \n",
       "477                            2                                          4   \n",
       "478                            3                                          4   \n",
       "479                            3                                          4   \n",
       "480                            3                                          2   \n",
       "\n",
       "     Depressed emotion frequency  \\\n",
       "0                              5   \n",
       "1                              5   \n",
       "2                              4   \n",
       "3                              4   \n",
       "4                              4   \n",
       "..                           ...   \n",
       "476                            3   \n",
       "477                            4   \n",
       "478                            2   \n",
       "479                            4   \n",
       "480                            2   \n",
       "\n",
       "     Daily activity interest fluctuation frequency  Sleep issue frequency  \n",
       "0                                                4                      5  \n",
       "1                                                4                      5  \n",
       "2                                                2                      5  \n",
       "3                                                3                      2  \n",
       "4                                                4                      1  \n",
       "..                                             ...                    ...  \n",
       "476                                              4                      4  \n",
       "477                                              4                      1  \n",
       "478                                              2                      2  \n",
       "479                                              5                      4  \n",
       "480                                              2                      3  \n",
       "\n",
       "[481 rows x 21 columns]"
      ]
     },
     "execution_count": 2,
     "metadata": {},
     "output_type": "execute_result"
    }
   ],
   "source": [
    "data.rename(columns = {'1. What is your age?':'Age','2. Gender':'Gender','3. Relationship Status':'Relationship Status',\n",
    "                       '4. Occupation Status':'Occupation',\n",
    "                       '5. What type of organizations are you affiliated with?':'Affiliations',\n",
    "                       '6. Do you use social media?':'Social Media User?',\n",
    "                       '7. What social media platforms do you commonly use?':'Platforms Used',\n",
    "                       '8. What is the average time you spend on social media every day?':'Time_Spent',\n",
    "                       '9. How often do you find yourself using Social media without a specific purpose?':'Mindless Scrolling Frequency',\n",
    "                       '10. How often do you get distracted by Social media when you are busy doing something?':'Social Media distraction Frequency',\n",
    "                       \"11. Do you feel restless if you haven't used Social media in a while?\":'Restlessness Frequency',\n",
    "                       '12. On a scale of 1 to 5, how easily distracted are you?':'Distracted frequency',\n",
    "                       '13. On a scale of 1 to 5, how much are you bothered by worries?':'Worry frequency',\n",
    "                       '14. Do you find it difficult to concentrate on things?':'Concentration difficulty frequency',\n",
    "                       '15. On a scale of 1-5, how often do you compare yourself to other successful people through the use of social media?':'Self comparisons frequency',\n",
    "                       '16. Following the previous question, how do you feel about these comparisons, generally speaking?':'Self invalidation frequency',\n",
    "                       '17. How often do you look to seek validation from features of social media?':'Social media validation seeking frequency',\n",
    "                       '18. How often do you feel depressed or down?':'Depressed emotion frequency',\n",
    "                       '19. On a scale of 1 to 5, how frequently does your interest in daily activities fluctuate?':'Daily activity interest fluctuation frequency',\n",
    "                       '20. On a scale of 1 to 5, how often do you face issues regarding sleep?':'Sleep issue frequency'\n",
    "                       },inplace=True)\n",
    "\n",
    "CleansedDF = data\n",
    "CleansedDF                      "
   ]
  },
  {
   "cell_type": "markdown",
   "metadata": {
    "cell_id": "28ce610e23b8444291dd08c3f9330d26",
    "deepnote_cell_type": "markdown"
   },
   "source": [
    "### Time category\n",
    "\n",
    "Next, we will rename the time value from a string to integer."
   ]
  },
  {
   "cell_type": "code",
   "execution_count": 3,
   "metadata": {
    "cell_id": "aa7cbbb3d8e2439bb03f070f7e075a36",
    "deepnote_cell_type": "code",
    "deepnote_to_be_reexecuted": false,
    "execution_millis": 573,
    "execution_start": 1713966483744,
    "source_hash": "7d6cb75e"
   },
   "outputs": [],
   "source": [
    "# Convert average time spent on social media to numeric value\n",
    "def convert_time_category_to_value(a):\n",
    "    if a == \"More than 5 hours\":\n",
    "        return 5\n",
    "    elif a == \"Between 4 and 5 hours\":\n",
    "        return 4\n",
    "    elif a == \"Between 3 and 4 hours\":\n",
    "        return 3\n",
    "    elif a == \"Between 2 and 3 hours\":\n",
    "        return 2\n",
    "    elif a == \"Between 1 and 2 hours\":\n",
    "        return 1\n",
    "    elif a == \"Less than an Hour\":\n",
    "        return 1\n",
    "    else:\n",
    "        return None \n",
    "\n",
    "CleansedDF['Time_Spent'] = CleansedDF['Time_Spent'].apply(convert_time_category_to_value)"
   ]
  },
  {
   "cell_type": "markdown",
   "metadata": {
    "cell_id": "726b2ee4000d4bd0862034fe9988a7d7",
    "deepnote_cell_type": "markdown"
   },
   "source": [
    "## Data Elimination\n",
    "\n",
    "### Students\n",
    "\n",
    "Next, we shall eliminate anyone that are not students"
   ]
  },
  {
   "cell_type": "code",
   "execution_count": 4,
   "metadata": {
    "cell_id": "66cff8441cdb442a8000b79a73fcdfa6",
    "deepnote_cell_type": "code",
    "deepnote_table_loading": false,
    "deepnote_table_state": {
     "filters": [],
     "pageIndex": 34,
     "pageSize": 10,
     "sortBy": []
    },
    "deepnote_to_be_reexecuted": false,
    "execution_millis": 572,
    "execution_start": 1713966483745,
    "source_hash": "2a9b2ca1"
   },
   "outputs": [],
   "source": [
    "student = CleansedDF[CleansedDF[\"Occupation\"].str.contains(\"Student\") == True]"
   ]
  },
  {
   "cell_type": "markdown",
   "metadata": {
    "cell_id": "4beeedac6ef04c0bbadad988156a7f27",
    "deepnote_cell_type": "markdown"
   },
   "source": [
    "### Non Social Media users\n",
    "Next, we remove non social media users."
   ]
  },
  {
   "cell_type": "code",
   "execution_count": 5,
   "metadata": {
    "cell_id": "afdc38da70ca4e51a4bf40dd08dc3dad",
    "deepnote_cell_type": "code",
    "deepnote_to_be_reexecuted": false,
    "execution_millis": 544,
    "execution_start": 1713966483774,
    "source_hash": "4f6026e7"
   },
   "outputs": [],
   "source": [
    "student_noSocial = student[student[\"Social Media User?\"].str.contains(\"No\") == False]"
   ]
  },
  {
   "cell_type": "markdown",
   "metadata": {
    "cell_id": "c2c7c722e70043e29763274688a5e668",
    "deepnote_app_block_visible": false,
    "deepnote_cell_type": "markdown"
   },
   "source": [
    "### Unneeded Miscellaneous Details \n",
    "\n",
    "Following up with that, we will remove \n",
    "\n",
    "'Relationship Status','Platforms Used','Gender' , 'Timestamp', 'Age','Occupation','Affiliations', 'Social Media User?'\n",
    "\n",
    "colums, with the justification that we are only exploring this problem for students and social media users, making these details unneeded."
   ]
  },
  {
   "cell_type": "code",
   "execution_count": 6,
   "metadata": {
    "cell_id": "04ce4ef8a4c34bfebfed23a66d4d4a51",
    "deepnote_cell_type": "code",
    "deepnote_table_loading": false,
    "deepnote_table_state": {
     "filters": [],
     "pageIndex": 0,
     "pageSize": 10,
     "sortBy": []
    },
    "deepnote_to_be_reexecuted": false,
    "execution_millis": 540,
    "execution_start": 1713966483778,
    "source_hash": "7204ae1e"
   },
   "outputs": [
    {
     "data": {
      "application/vnd.deepnote.dataframe.v3+json": {
       "column_count": 13,
       "columns": [
        {
         "dtype": "int64",
         "name": "Time_Spent",
         "stats": {
          "histogram": [
           {
            "bin_end": 1.4,
            "bin_start": 1,
            "count": 44
           },
           {
            "bin_end": 1.8,
            "bin_start": 1.4,
            "count": 0
           },
           {
            "bin_end": 2.2,
            "bin_start": 1.8,
            "count": 67
           },
           {
            "bin_end": 2.6,
            "bin_start": 2.2,
            "count": 0
           },
           {
            "bin_end": 3,
            "bin_start": 2.6,
            "count": 0
           },
           {
            "bin_end": 3.4000000000000004,
            "bin_start": 3,
            "count": 77
           },
           {
            "bin_end": 3.8000000000000003,
            "bin_start": 3.4000000000000004,
            "count": 0
           },
           {
            "bin_end": 4.2,
            "bin_start": 3.8000000000000003,
            "count": 52
           },
           {
            "bin_end": 4.6,
            "bin_start": 4.2,
            "count": 0
           },
           {
            "bin_end": 5,
            "bin_start": 4.6,
            "count": 100
           }
          ],
          "max": "5",
          "min": "1",
          "nan_count": 0,
          "unique_count": 5
         }
        },
        {
         "dtype": "int64",
         "name": "Mindless Scrolling Frequency",
         "stats": {
          "histogram": [
           {
            "bin_end": 1.4,
            "bin_start": 1,
            "count": 8
           },
           {
            "bin_end": 1.8,
            "bin_start": 1.4,
            "count": 0
           },
           {
            "bin_end": 2.2,
            "bin_start": 1.8,
            "count": 39
           },
           {
            "bin_end": 2.6,
            "bin_start": 2.2,
            "count": 0
           },
           {
            "bin_end": 3,
            "bin_start": 2.6,
            "count": 0
           },
           {
            "bin_end": 3.4000000000000004,
            "bin_start": 3,
            "count": 89
           },
           {
            "bin_end": 3.8000000000000003,
            "bin_start": 3.4000000000000004,
            "count": 0
           },
           {
            "bin_end": 4.2,
            "bin_start": 3.8000000000000003,
            "count": 126
           },
           {
            "bin_end": 4.6,
            "bin_start": 4.2,
            "count": 0
           },
           {
            "bin_end": 5,
            "bin_start": 4.6,
            "count": 78
           }
          ],
          "max": "5",
          "min": "1",
          "nan_count": 0,
          "unique_count": 5
         }
        },
        {
         "dtype": "int64",
         "name": "Social Media distraction Frequency",
         "stats": {
          "histogram": [
           {
            "bin_end": 1.4,
            "bin_start": 1,
            "count": 23
           },
           {
            "bin_end": 1.8,
            "bin_start": 1.4,
            "count": 0
           },
           {
            "bin_end": 2.2,
            "bin_start": 1.8,
            "count": 58
           },
           {
            "bin_end": 2.6,
            "bin_start": 2.2,
            "count": 0
           },
           {
            "bin_end": 3,
            "bin_start": 2.6,
            "count": 0
           },
           {
            "bin_end": 3.4000000000000004,
            "bin_start": 3,
            "count": 72
           },
           {
            "bin_end": 3.8000000000000003,
            "bin_start": 3.4000000000000004,
            "count": 0
           },
           {
            "bin_end": 4.2,
            "bin_start": 3.8000000000000003,
            "count": 94
           },
           {
            "bin_end": 4.6,
            "bin_start": 4.2,
            "count": 0
           },
           {
            "bin_end": 5,
            "bin_start": 4.6,
            "count": 93
           }
          ],
          "max": "5",
          "min": "1",
          "nan_count": 0,
          "unique_count": 5
         }
        },
        {
         "dtype": "int64",
         "name": "Restlessness Frequency",
         "stats": {
          "histogram": [
           {
            "bin_end": 1.4,
            "bin_start": 1,
            "count": 65
           },
           {
            "bin_end": 1.8,
            "bin_start": 1.4,
            "count": 0
           },
           {
            "bin_end": 2.2,
            "bin_start": 1.8,
            "count": 96
           },
           {
            "bin_end": 2.6,
            "bin_start": 2.2,
            "count": 0
           },
           {
            "bin_end": 3,
            "bin_start": 2.6,
            "count": 0
           },
           {
            "bin_end": 3.4000000000000004,
            "bin_start": 3,
            "count": 88
           },
           {
            "bin_end": 3.8000000000000003,
            "bin_start": 3.4000000000000004,
            "count": 0
           },
           {
            "bin_end": 4.2,
            "bin_start": 3.8000000000000003,
            "count": 57
           },
           {
            "bin_end": 4.6,
            "bin_start": 4.2,
            "count": 0
           },
           {
            "bin_end": 5,
            "bin_start": 4.6,
            "count": 34
           }
          ],
          "max": "5",
          "min": "1",
          "nan_count": 0,
          "unique_count": 5
         }
        },
        {
         "dtype": "int64",
         "name": "Distracted frequency",
         "stats": {
          "histogram": [
           {
            "bin_end": 1.4,
            "bin_start": 1,
            "count": 16
           },
           {
            "bin_end": 1.8,
            "bin_start": 1.4,
            "count": 0
           },
           {
            "bin_end": 2.2,
            "bin_start": 1.8,
            "count": 47
           },
           {
            "bin_end": 2.6,
            "bin_start": 2.2,
            "count": 0
           },
           {
            "bin_end": 3,
            "bin_start": 2.6,
            "count": 0
           },
           {
            "bin_end": 3.4000000000000004,
            "bin_start": 3,
            "count": 106
           },
           {
            "bin_end": 3.8000000000000003,
            "bin_start": 3.4000000000000004,
            "count": 0
           },
           {
            "bin_end": 4.2,
            "bin_start": 3.8000000000000003,
            "count": 93
           },
           {
            "bin_end": 4.6,
            "bin_start": 4.2,
            "count": 0
           },
           {
            "bin_end": 5,
            "bin_start": 4.6,
            "count": 78
           }
          ],
          "max": "5",
          "min": "1",
          "nan_count": 0,
          "unique_count": 5
         }
        },
        {
         "dtype": "int64",
         "name": "Worry frequency",
         "stats": {
          "histogram": [
           {
            "bin_end": 1.4,
            "bin_start": 1,
            "count": 18
           },
           {
            "bin_end": 1.8,
            "bin_start": 1.4,
            "count": 0
           },
           {
            "bin_end": 2.2,
            "bin_start": 1.8,
            "count": 40
           },
           {
            "bin_end": 2.6,
            "bin_start": 2.2,
            "count": 0
           },
           {
            "bin_end": 3,
            "bin_start": 2.6,
            "count": 0
           },
           {
            "bin_end": 3.4000000000000004,
            "bin_start": 3,
            "count": 61
           },
           {
            "bin_end": 3.8000000000000003,
            "bin_start": 3.4000000000000004,
            "count": 0
           },
           {
            "bin_end": 4.2,
            "bin_start": 3.8000000000000003,
            "count": 100
           },
           {
            "bin_end": 4.6,
            "bin_start": 4.2,
            "count": 0
           },
           {
            "bin_end": 5,
            "bin_start": 4.6,
            "count": 121
           }
          ],
          "max": "5",
          "min": "1",
          "nan_count": 0,
          "unique_count": 5
         }
        },
        {
         "dtype": "int64",
         "name": "Concentration difficulty frequency",
         "stats": {
          "histogram": [
           {
            "bin_end": 1.4,
            "bin_start": 1,
            "count": 27
           },
           {
            "bin_end": 1.8,
            "bin_start": 1.4,
            "count": 0
           },
           {
            "bin_end": 2.2,
            "bin_start": 1.8,
            "count": 52
           },
           {
            "bin_end": 2.6,
            "bin_start": 2.2,
            "count": 0
           },
           {
            "bin_end": 3,
            "bin_start": 2.6,
            "count": 0
           },
           {
            "bin_end": 3.4000000000000004,
            "bin_start": 3,
            "count": 81
           },
           {
            "bin_end": 3.8000000000000003,
            "bin_start": 3.4000000000000004,
            "count": 0
           },
           {
            "bin_end": 4.2,
            "bin_start": 3.8000000000000003,
            "count": 91
           },
           {
            "bin_end": 4.6,
            "bin_start": 4.2,
            "count": 0
           },
           {
            "bin_end": 5,
            "bin_start": 4.6,
            "count": 89
           }
          ],
          "max": "5",
          "min": "1",
          "nan_count": 0,
          "unique_count": 5
         }
        },
        {
         "dtype": "int64",
         "name": "Self comparisons frequency",
         "stats": {
          "histogram": [
           {
            "bin_end": 1.4,
            "bin_start": 1,
            "count": 69
           },
           {
            "bin_end": 1.8,
            "bin_start": 1.4,
            "count": 0
           },
           {
            "bin_end": 2.2,
            "bin_start": 1.8,
            "count": 76
           },
           {
            "bin_end": 2.6,
            "bin_start": 2.2,
            "count": 0
           },
           {
            "bin_end": 3,
            "bin_start": 2.6,
            "count": 0
           },
           {
            "bin_end": 3.4000000000000004,
            "bin_start": 3,
            "count": 69
           },
           {
            "bin_end": 3.8000000000000003,
            "bin_start": 3.4000000000000004,
            "count": 0
           },
           {
            "bin_end": 4.2,
            "bin_start": 3.8000000000000003,
            "count": 53
           },
           {
            "bin_end": 4.6,
            "bin_start": 4.2,
            "count": 0
           },
           {
            "bin_end": 5,
            "bin_start": 4.6,
            "count": 73
           }
          ],
          "max": "5",
          "min": "1",
          "nan_count": 0,
          "unique_count": 5
         }
        },
        {
         "dtype": "int64",
         "name": "Self invalidation frequency",
         "stats": {
          "histogram": [
           {
            "bin_end": 1.4,
            "bin_start": 1,
            "count": 45
           },
           {
            "bin_end": 1.8,
            "bin_start": 1.4,
            "count": 0
           },
           {
            "bin_end": 2.2,
            "bin_start": 1.8,
            "count": 74
           },
           {
            "bin_end": 2.6,
            "bin_start": 2.2,
            "count": 0
           },
           {
            "bin_end": 3,
            "bin_start": 2.6,
            "count": 0
           },
           {
            "bin_end": 3.4000000000000004,
            "bin_start": 3,
            "count": 158
           },
           {
            "bin_end": 3.8000000000000003,
            "bin_start": 3.4000000000000004,
            "count": 0
           },
           {
            "bin_end": 4.2,
            "bin_start": 3.8000000000000003,
            "count": 37
           },
           {
            "bin_end": 4.6,
            "bin_start": 4.2,
            "count": 0
           },
           {
            "bin_end": 5,
            "bin_start": 4.6,
            "count": 26
           }
          ],
          "max": "5",
          "min": "1",
          "nan_count": 0,
          "unique_count": 5
         }
        },
        {
         "dtype": "int64",
         "name": "Social media validation seeking frequency",
         "stats": {
          "histogram": [
           {
            "bin_end": 1.4,
            "bin_start": 1,
            "count": 98
           },
           {
            "bin_end": 1.8,
            "bin_start": 1.4,
            "count": 0
           },
           {
            "bin_end": 2.2,
            "bin_start": 1.8,
            "count": 72
           },
           {
            "bin_end": 2.6,
            "bin_start": 2.2,
            "count": 0
           },
           {
            "bin_end": 3,
            "bin_start": 2.6,
            "count": 0
           },
           {
            "bin_end": 3.4000000000000004,
            "bin_start": 3,
            "count": 86
           },
           {
            "bin_end": 3.8000000000000003,
            "bin_start": 3.4000000000000004,
            "count": 0
           },
           {
            "bin_end": 4.2,
            "bin_start": 3.8000000000000003,
            "count": 64
           },
           {
            "bin_end": 4.6,
            "bin_start": 4.2,
            "count": 0
           },
           {
            "bin_end": 5,
            "bin_start": 4.6,
            "count": 20
           }
          ],
          "max": "5",
          "min": "1",
          "nan_count": 0,
          "unique_count": 5
         }
        },
        {
         "dtype": "int64",
         "name": "Depressed emotion frequency",
         "stats": {
          "histogram": [
           {
            "bin_end": 1.4,
            "bin_start": 1,
            "count": 25
           },
           {
            "bin_end": 1.8,
            "bin_start": 1.4,
            "count": 0
           },
           {
            "bin_end": 2.2,
            "bin_start": 1.8,
            "count": 46
           },
           {
            "bin_end": 2.6,
            "bin_start": 2.2,
            "count": 0
           },
           {
            "bin_end": 3,
            "bin_start": 2.6,
            "count": 0
           },
           {
            "bin_end": 3.4000000000000004,
            "bin_start": 3,
            "count": 88
           },
           {
            "bin_end": 3.8000000000000003,
            "bin_start": 3.4000000000000004,
            "count": 0
           },
           {
            "bin_end": 4.2,
            "bin_start": 3.8000000000000003,
            "count": 94
           },
           {
            "bin_end": 4.6,
            "bin_start": 4.2,
            "count": 0
           },
           {
            "bin_end": 5,
            "bin_start": 4.6,
            "count": 87
           }
          ],
          "max": "5",
          "min": "1",
          "nan_count": 0,
          "unique_count": 5
         }
        },
        {
         "dtype": "int64",
         "name": "Daily activity interest fluctuation frequency",
         "stats": {
          "histogram": [
           {
            "bin_end": 1.4,
            "bin_start": 1,
            "count": 24
           },
           {
            "bin_end": 1.8,
            "bin_start": 1.4,
            "count": 0
           },
           {
            "bin_end": 2.2,
            "bin_start": 1.8,
            "count": 63
           },
           {
            "bin_end": 2.6,
            "bin_start": 2.2,
            "count": 0
           },
           {
            "bin_end": 3,
            "bin_start": 2.6,
            "count": 0
           },
           {
            "bin_end": 3.4000000000000004,
            "bin_start": 3,
            "count": 86
           },
           {
            "bin_end": 3.8000000000000003,
            "bin_start": 3.4000000000000004,
            "count": 0
           },
           {
            "bin_end": 4.2,
            "bin_start": 3.8000000000000003,
            "count": 101
           },
           {
            "bin_end": 4.6,
            "bin_start": 4.2,
            "count": 0
           },
           {
            "bin_end": 5,
            "bin_start": 4.6,
            "count": 66
           }
          ],
          "max": "5",
          "min": "1",
          "nan_count": 0,
          "unique_count": 5
         }
        },
        {
         "dtype": "int64",
         "name": "Sleep issue frequency",
         "stats": {
          "histogram": [
           {
            "bin_end": 1.4,
            "bin_start": 1,
            "count": 47
           },
           {
            "bin_end": 1.8,
            "bin_start": 1.4,
            "count": 0
           },
           {
            "bin_end": 2.2,
            "bin_start": 1.8,
            "count": 58
           },
           {
            "bin_end": 2.6,
            "bin_start": 2.2,
            "count": 0
           },
           {
            "bin_end": 3,
            "bin_start": 2.6,
            "count": 0
           },
           {
            "bin_end": 3.4000000000000004,
            "bin_start": 3,
            "count": 53
           },
           {
            "bin_end": 3.8000000000000003,
            "bin_start": 3.4000000000000004,
            "count": 0
           },
           {
            "bin_end": 4.2,
            "bin_start": 3.8000000000000003,
            "count": 76
           },
           {
            "bin_end": 4.6,
            "bin_start": 4.2,
            "count": 0
           },
           {
            "bin_end": 5,
            "bin_start": 4.6,
            "count": 106
           }
          ],
          "max": "5",
          "min": "1",
          "nan_count": 0,
          "unique_count": 5
         }
        },
        {
         "dtype": "int64",
         "name": "_deepnote_index_column"
        }
       ],
       "row_count": 340,
       "rows": [
        {
         "Concentration difficulty frequency": 5,
         "Daily activity interest fluctuation frequency": 4,
         "Depressed emotion frequency": 5,
         "Distracted frequency": 5,
         "Mindless Scrolling Frequency": 5,
         "Restlessness Frequency": 2,
         "Self comparisons frequency": 2,
         "Self invalidation frequency": 3,
         "Sleep issue frequency": 5,
         "Social Media distraction Frequency": 3,
         "Social media validation seeking frequency": 2,
         "Time_Spent": 2,
         "Worry frequency": 2,
         "_deepnote_index_column": 0
        },
        {
         "Concentration difficulty frequency": 4,
         "Daily activity interest fluctuation frequency": 4,
         "Depressed emotion frequency": 5,
         "Distracted frequency": 4,
         "Mindless Scrolling Frequency": 4,
         "Restlessness Frequency": 2,
         "Self comparisons frequency": 5,
         "Self invalidation frequency": 1,
         "Sleep issue frequency": 5,
         "Social Media distraction Frequency": 3,
         "Social media validation seeking frequency": 1,
         "Time_Spent": 5,
         "Worry frequency": 5,
         "_deepnote_index_column": 1
        },
        {
         "Concentration difficulty frequency": 4,
         "Daily activity interest fluctuation frequency": 2,
         "Depressed emotion frequency": 4,
         "Distracted frequency": 2,
         "Mindless Scrolling Frequency": 3,
         "Restlessness Frequency": 1,
         "Self comparisons frequency": 3,
         "Self invalidation frequency": 3,
         "Sleep issue frequency": 5,
         "Social Media distraction Frequency": 2,
         "Social media validation seeking frequency": 1,
         "Time_Spent": 3,
         "Worry frequency": 5,
         "_deepnote_index_column": 2
        },
        {
         "Concentration difficulty frequency": 3,
         "Daily activity interest fluctuation frequency": 3,
         "Depressed emotion frequency": 4,
         "Distracted frequency": 3,
         "Mindless Scrolling Frequency": 4,
         "Restlessness Frequency": 1,
         "Self comparisons frequency": 5,
         "Self invalidation frequency": 1,
         "Sleep issue frequency": 2,
         "Social Media distraction Frequency": 2,
         "Social media validation seeking frequency": 2,
         "Time_Spent": 5,
         "Worry frequency": 5,
         "_deepnote_index_column": 3
        },
        {
         "Concentration difficulty frequency": 5,
         "Daily activity interest fluctuation frequency": 4,
         "Depressed emotion frequency": 4,
         "Distracted frequency": 4,
         "Mindless Scrolling Frequency": 3,
         "Restlessness Frequency": 4,
         "Self comparisons frequency": 3,
         "Self invalidation frequency": 3,
         "Sleep issue frequency": 1,
         "Social Media distraction Frequency": 5,
         "Social media validation seeking frequency": 3,
         "Time_Spent": 2,
         "Worry frequency": 5,
         "_deepnote_index_column": 4
        },
        {
         "Concentration difficulty frequency": 3,
         "Daily activity interest fluctuation frequency": 2,
         "Depressed emotion frequency": 3,
         "Distracted frequency": 3,
         "Mindless Scrolling Frequency": 4,
         "Restlessness Frequency": 2,
         "Self comparisons frequency": 4,
         "Self invalidation frequency": 4,
         "Sleep issue frequency": 4,
         "Social Media distraction Frequency": 4,
         "Social media validation seeking frequency": 3,
         "Time_Spent": 2,
         "Worry frequency": 4,
         "_deepnote_index_column": 5
        },
        {
         "Concentration difficulty frequency": 3,
         "Daily activity interest fluctuation frequency": 5,
         "Depressed emotion frequency": 5,
         "Distracted frequency": 2,
         "Mindless Scrolling Frequency": 4,
         "Restlessness Frequency": 2,
         "Self comparisons frequency": 5,
         "Self invalidation frequency": 3,
         "Sleep issue frequency": 3,
         "Social Media distraction Frequency": 3,
         "Social media validation seeking frequency": 4,
         "Time_Spent": 3,
         "Worry frequency": 4,
         "_deepnote_index_column": 6
        },
        {
         "Concentration difficulty frequency": 1,
         "Daily activity interest fluctuation frequency": 5,
         "Depressed emotion frequency": 5,
         "Distracted frequency": 3,
         "Mindless Scrolling Frequency": 5,
         "Restlessness Frequency": 3,
         "Self comparisons frequency": 1,
         "Self invalidation frequency": 3,
         "Sleep issue frequency": 1,
         "Social Media distraction Frequency": 2,
         "Social media validation seeking frequency": 1,
         "Time_Spent": 5,
         "Worry frequency": 3,
         "_deepnote_index_column": 7
        },
        {
         "Concentration difficulty frequency": 1,
         "Daily activity interest fluctuation frequency": 5,
         "Depressed emotion frequency": 5,
         "Distracted frequency": 3,
         "Mindless Scrolling Frequency": 5,
         "Restlessness Frequency": 3,
         "Self comparisons frequency": 1,
         "Self invalidation frequency": 3,
         "Sleep issue frequency": 1,
         "Social Media distraction Frequency": 2,
         "Social media validation seeking frequency": 1,
         "Time_Spent": 5,
         "Worry frequency": 1,
         "_deepnote_index_column": 8
        },
        {
         "Concentration difficulty frequency": 5,
         "Daily activity interest fluctuation frequency": 4,
         "Depressed emotion frequency": 5,
         "Distracted frequency": 4,
         "Mindless Scrolling Frequency": 5,
         "Restlessness Frequency": 2,
         "Self comparisons frequency": 4,
         "Self invalidation frequency": 2,
         "Sleep issue frequency": 5,
         "Social Media distraction Frequency": 5,
         "Social media validation seeking frequency": 3,
         "Time_Spent": 2,
         "Worry frequency": 3,
         "_deepnote_index_column": 10
        }
       ]
      },
      "text/html": [
       "<div>\n",
       "<style scoped>\n",
       "    .dataframe tbody tr th:only-of-type {\n",
       "        vertical-align: middle;\n",
       "    }\n",
       "\n",
       "    .dataframe tbody tr th {\n",
       "        vertical-align: top;\n",
       "    }\n",
       "\n",
       "    .dataframe thead th {\n",
       "        text-align: right;\n",
       "    }\n",
       "</style>\n",
       "<table border=\"1\" class=\"dataframe\">\n",
       "  <thead>\n",
       "    <tr style=\"text-align: right;\">\n",
       "      <th></th>\n",
       "      <th>Time_Spent</th>\n",
       "      <th>Mindless Scrolling Frequency</th>\n",
       "      <th>Social Media distraction Frequency</th>\n",
       "      <th>Restlessness Frequency</th>\n",
       "      <th>Distracted frequency</th>\n",
       "      <th>Worry frequency</th>\n",
       "      <th>Concentration difficulty frequency</th>\n",
       "      <th>Self comparisons frequency</th>\n",
       "      <th>Self invalidation frequency</th>\n",
       "      <th>Social media validation seeking frequency</th>\n",
       "      <th>Depressed emotion frequency</th>\n",
       "      <th>Daily activity interest fluctuation frequency</th>\n",
       "      <th>Sleep issue frequency</th>\n",
       "    </tr>\n",
       "  </thead>\n",
       "  <tbody>\n",
       "    <tr>\n",
       "      <th>0</th>\n",
       "      <td>2</td>\n",
       "      <td>5</td>\n",
       "      <td>3</td>\n",
       "      <td>2</td>\n",
       "      <td>5</td>\n",
       "      <td>2</td>\n",
       "      <td>5</td>\n",
       "      <td>2</td>\n",
       "      <td>3</td>\n",
       "      <td>2</td>\n",
       "      <td>5</td>\n",
       "      <td>4</td>\n",
       "      <td>5</td>\n",
       "    </tr>\n",
       "    <tr>\n",
       "      <th>1</th>\n",
       "      <td>5</td>\n",
       "      <td>4</td>\n",
       "      <td>3</td>\n",
       "      <td>2</td>\n",
       "      <td>4</td>\n",
       "      <td>5</td>\n",
       "      <td>4</td>\n",
       "      <td>5</td>\n",
       "      <td>1</td>\n",
       "      <td>1</td>\n",
       "      <td>5</td>\n",
       "      <td>4</td>\n",
       "      <td>5</td>\n",
       "    </tr>\n",
       "    <tr>\n",
       "      <th>2</th>\n",
       "      <td>3</td>\n",
       "      <td>3</td>\n",
       "      <td>2</td>\n",
       "      <td>1</td>\n",
       "      <td>2</td>\n",
       "      <td>5</td>\n",
       "      <td>4</td>\n",
       "      <td>3</td>\n",
       "      <td>3</td>\n",
       "      <td>1</td>\n",
       "      <td>4</td>\n",
       "      <td>2</td>\n",
       "      <td>5</td>\n",
       "    </tr>\n",
       "    <tr>\n",
       "      <th>3</th>\n",
       "      <td>5</td>\n",
       "      <td>4</td>\n",
       "      <td>2</td>\n",
       "      <td>1</td>\n",
       "      <td>3</td>\n",
       "      <td>5</td>\n",
       "      <td>3</td>\n",
       "      <td>5</td>\n",
       "      <td>1</td>\n",
       "      <td>2</td>\n",
       "      <td>4</td>\n",
       "      <td>3</td>\n",
       "      <td>2</td>\n",
       "    </tr>\n",
       "    <tr>\n",
       "      <th>4</th>\n",
       "      <td>2</td>\n",
       "      <td>3</td>\n",
       "      <td>5</td>\n",
       "      <td>4</td>\n",
       "      <td>4</td>\n",
       "      <td>5</td>\n",
       "      <td>5</td>\n",
       "      <td>3</td>\n",
       "      <td>3</td>\n",
       "      <td>3</td>\n",
       "      <td>4</td>\n",
       "      <td>4</td>\n",
       "      <td>1</td>\n",
       "    </tr>\n",
       "    <tr>\n",
       "      <th>...</th>\n",
       "      <td>...</td>\n",
       "      <td>...</td>\n",
       "      <td>...</td>\n",
       "      <td>...</td>\n",
       "      <td>...</td>\n",
       "      <td>...</td>\n",
       "      <td>...</td>\n",
       "      <td>...</td>\n",
       "      <td>...</td>\n",
       "      <td>...</td>\n",
       "      <td>...</td>\n",
       "      <td>...</td>\n",
       "      <td>...</td>\n",
       "    </tr>\n",
       "    <tr>\n",
       "      <th>469</th>\n",
       "      <td>4</td>\n",
       "      <td>1</td>\n",
       "      <td>1</td>\n",
       "      <td>1</td>\n",
       "      <td>3</td>\n",
       "      <td>3</td>\n",
       "      <td>3</td>\n",
       "      <td>3</td>\n",
       "      <td>3</td>\n",
       "      <td>3</td>\n",
       "      <td>1</td>\n",
       "      <td>1</td>\n",
       "      <td>1</td>\n",
       "    </tr>\n",
       "    <tr>\n",
       "      <th>470</th>\n",
       "      <td>1</td>\n",
       "      <td>2</td>\n",
       "      <td>2</td>\n",
       "      <td>1</td>\n",
       "      <td>3</td>\n",
       "      <td>5</td>\n",
       "      <td>3</td>\n",
       "      <td>5</td>\n",
       "      <td>1</td>\n",
       "      <td>2</td>\n",
       "      <td>5</td>\n",
       "      <td>4</td>\n",
       "      <td>5</td>\n",
       "    </tr>\n",
       "    <tr>\n",
       "      <th>471</th>\n",
       "      <td>5</td>\n",
       "      <td>5</td>\n",
       "      <td>4</td>\n",
       "      <td>2</td>\n",
       "      <td>4</td>\n",
       "      <td>5</td>\n",
       "      <td>3</td>\n",
       "      <td>1</td>\n",
       "      <td>3</td>\n",
       "      <td>2</td>\n",
       "      <td>4</td>\n",
       "      <td>3</td>\n",
       "      <td>4</td>\n",
       "    </tr>\n",
       "    <tr>\n",
       "      <th>473</th>\n",
       "      <td>2</td>\n",
       "      <td>4</td>\n",
       "      <td>4</td>\n",
       "      <td>3</td>\n",
       "      <td>3</td>\n",
       "      <td>4</td>\n",
       "      <td>4</td>\n",
       "      <td>4</td>\n",
       "      <td>5</td>\n",
       "      <td>3</td>\n",
       "      <td>4</td>\n",
       "      <td>3</td>\n",
       "      <td>4</td>\n",
       "    </tr>\n",
       "    <tr>\n",
       "      <th>479</th>\n",
       "      <td>2</td>\n",
       "      <td>2</td>\n",
       "      <td>3</td>\n",
       "      <td>2</td>\n",
       "      <td>3</td>\n",
       "      <td>3</td>\n",
       "      <td>2</td>\n",
       "      <td>2</td>\n",
       "      <td>3</td>\n",
       "      <td>4</td>\n",
       "      <td>4</td>\n",
       "      <td>5</td>\n",
       "      <td>4</td>\n",
       "    </tr>\n",
       "  </tbody>\n",
       "</table>\n",
       "<p>340 rows × 13 columns</p>\n",
       "</div>"
      ],
      "text/plain": [
       "     Time_Spent  Mindless Scrolling Frequency  \\\n",
       "0             2                             5   \n",
       "1             5                             4   \n",
       "2             3                             3   \n",
       "3             5                             4   \n",
       "4             2                             3   \n",
       "..          ...                           ...   \n",
       "469           4                             1   \n",
       "470           1                             2   \n",
       "471           5                             5   \n",
       "473           2                             4   \n",
       "479           2                             2   \n",
       "\n",
       "     Social Media distraction Frequency  Restlessness Frequency  \\\n",
       "0                                     3                       2   \n",
       "1                                     3                       2   \n",
       "2                                     2                       1   \n",
       "3                                     2                       1   \n",
       "4                                     5                       4   \n",
       "..                                  ...                     ...   \n",
       "469                                   1                       1   \n",
       "470                                   2                       1   \n",
       "471                                   4                       2   \n",
       "473                                   4                       3   \n",
       "479                                   3                       2   \n",
       "\n",
       "     Distracted frequency  Worry frequency  \\\n",
       "0                       5                2   \n",
       "1                       4                5   \n",
       "2                       2                5   \n",
       "3                       3                5   \n",
       "4                       4                5   \n",
       "..                    ...              ...   \n",
       "469                     3                3   \n",
       "470                     3                5   \n",
       "471                     4                5   \n",
       "473                     3                4   \n",
       "479                     3                3   \n",
       "\n",
       "     Concentration difficulty frequency  Self comparisons frequency  \\\n",
       "0                                     5                           2   \n",
       "1                                     4                           5   \n",
       "2                                     4                           3   \n",
       "3                                     3                           5   \n",
       "4                                     5                           3   \n",
       "..                                  ...                         ...   \n",
       "469                                   3                           3   \n",
       "470                                   3                           5   \n",
       "471                                   3                           1   \n",
       "473                                   4                           4   \n",
       "479                                   2                           2   \n",
       "\n",
       "     Self invalidation frequency  Social media validation seeking frequency  \\\n",
       "0                              3                                          2   \n",
       "1                              1                                          1   \n",
       "2                              3                                          1   \n",
       "3                              1                                          2   \n",
       "4                              3                                          3   \n",
       "..                           ...                                        ...   \n",
       "469                            3                                          3   \n",
       "470                            1                                          2   \n",
       "471                            3                                          2   \n",
       "473                            5                                          3   \n",
       "479                            3                                          4   \n",
       "\n",
       "     Depressed emotion frequency  \\\n",
       "0                              5   \n",
       "1                              5   \n",
       "2                              4   \n",
       "3                              4   \n",
       "4                              4   \n",
       "..                           ...   \n",
       "469                            1   \n",
       "470                            5   \n",
       "471                            4   \n",
       "473                            4   \n",
       "479                            4   \n",
       "\n",
       "     Daily activity interest fluctuation frequency  Sleep issue frequency  \n",
       "0                                                4                      5  \n",
       "1                                                4                      5  \n",
       "2                                                2                      5  \n",
       "3                                                3                      2  \n",
       "4                                                4                      1  \n",
       "..                                             ...                    ...  \n",
       "469                                              1                      1  \n",
       "470                                              4                      5  \n",
       "471                                              3                      4  \n",
       "473                                              3                      4  \n",
       "479                                              5                      4  \n",
       "\n",
       "[340 rows x 13 columns]"
      ]
     },
     "execution_count": 6,
     "metadata": {},
     "output_type": "execute_result"
    }
   ],
   "source": [
    "CleansedDF = student_noSocial.drop(['Relationship Status','Platforms Used','Gender' , 'Timestamp', 'Age','Occupation','Affiliations', 'Social Media User?'], axis=1)\n",
    "CleansedDF"
   ]
  },
  {
   "cell_type": "markdown",
   "metadata": {
    "cell_id": "00706db58d5e4aaebff586b7ba195874",
    "deepnote_cell_type": "markdown"
   },
   "source": [
    "## Merging of data columns to reduce skewness\n",
    "\n",
    "Noticing the spread of our user responses, we decided that merging datasets in order to make the dataset more balanced will result in a better dataset to train our model, which will enhance performance down the line."
   ]
  },
  {
   "cell_type": "code",
   "execution_count": 7,
   "metadata": {
    "cell_id": "2f0d5d9343c045e6b7fa612b2b3d4f62",
    "deepnote_cell_type": "code",
    "deepnote_to_be_reexecuted": false,
    "execution_millis": 436,
    "execution_start": 1713966483882,
    "source_hash": "ec5ddffa"
   },
   "outputs": [],
   "source": [
    "# Convert average time spent on social media to numeric value\n",
    "def convert_msf(msf):\n",
    "    if msf == 1:\n",
    "        return 1\n",
    "    elif msf == 2:\n",
    "        return 1\n",
    "    elif msf == 3:\n",
    "        return 2\n",
    "    elif msf == 4:\n",
    "        return 3\n",
    "    elif msf == 5:\n",
    "        return 4\n",
    "    else:\n",
    "        return None \n",
    "\n",
    "CleansedDF['Mindless Scrolling Frequency'] = CleansedDF['Mindless Scrolling Frequency'].apply(convert_msf)\n",
    "\n",
    "# Convert average time spent on social media to numeric value\n",
    "def convert_smdf(smdf):\n",
    "    if smdf == 1:\n",
    "        return 1\n",
    "    elif smdf == 2:\n",
    "        return 1\n",
    "    elif smdf == 3:\n",
    "        return 2\n",
    "    elif smdf == 4:\n",
    "        return 3\n",
    "    elif smdf == 5:\n",
    "        return 4\n",
    "    else:\n",
    "        return None \n",
    "\n",
    "CleansedDF['Social Media distraction Frequency'] = CleansedDF['Social Media distraction Frequency'].apply(convert_smdf)\n",
    "\n",
    "# Convert average time spent on social media to numeric value\n",
    "def convert_rf(rf):\n",
    "    if rf == 1:\n",
    "        return 1\n",
    "    elif rf == 2:\n",
    "        return 2\n",
    "    elif rf == 3:\n",
    "        return 3\n",
    "    elif rf == 4:\n",
    "        return 4\n",
    "    elif rf == 5:\n",
    "        return 4\n",
    "    else:\n",
    "        return None \n",
    "\n",
    "CleansedDF['Restlessness Frequency'] = CleansedDF['Restlessness Frequency'].apply(convert_rf)\n",
    "\n",
    "# Convert average time spent on social media to numeric value\n",
    "def convert_df(df):\n",
    "    if df == 1:\n",
    "        return 1\n",
    "    elif df == 2:\n",
    "        return 1\n",
    "    elif df == 3:\n",
    "        return 2\n",
    "    elif df == 4:\n",
    "        return 3\n",
    "    elif df == 5:\n",
    "        return 4\n",
    "    else:\n",
    "        return None \n",
    "\n",
    "CleansedDF['Distracted frequency'] = CleansedDF['Distracted frequency'].apply(convert_df)\n",
    "\n",
    "# Convert average time spent on social media to numeric value\n",
    "def convert_wf(wf):\n",
    "    if wf == 1:\n",
    "        return 1\n",
    "    elif wf == 2:\n",
    "        return 1\n",
    "    elif wf == 3:\n",
    "        return 1\n",
    "    elif wf == 4:\n",
    "        return 2\n",
    "    elif wf == 5:\n",
    "        return 3\n",
    "    else:\n",
    "        return None \n",
    "\n",
    "CleansedDF['Worry frequency'] = CleansedDF['Worry frequency'].apply(convert_wf)\n",
    "\n",
    "# Convert average time spent on social media to numeric value\n",
    "def convert_cdf(cdf):\n",
    "    if cdf == 1:\n",
    "        return 1\n",
    "    elif cdf == 2:\n",
    "        return 1\n",
    "    elif cdf == 3:\n",
    "        return 2\n",
    "    elif cdf == 4:\n",
    "        return 3\n",
    "    elif cdf == 5:\n",
    "        return 4\n",
    "    else:\n",
    "        return None \n",
    "\n",
    "CleansedDF['Concentration difficulty frequency'] = CleansedDF['Concentration difficulty frequency'].apply(convert_cdf)\n",
    "\n",
    "# Convert average time spent on social media to numeric value\n",
    "def convert_scf(scf):\n",
    "    if scf == 1:\n",
    "        return 1\n",
    "    elif scf == 2:\n",
    "        return 2\n",
    "    elif scf == 3:\n",
    "        return 3\n",
    "    elif scf == 4:\n",
    "        return 4\n",
    "    elif scf == 5:\n",
    "        return 5\n",
    "    else:\n",
    "        return None \n",
    "\n",
    "CleansedDF['Self comparisons frequency'] = CleansedDF['Self comparisons frequency'].apply(convert_scf)\n",
    "\n",
    "# Convert average time spent on social media to numeric value\n",
    "def convert_sif(sif):\n",
    "    if sif == 1:\n",
    "        return 1\n",
    "    elif sif == 2:\n",
    "        return 1\n",
    "    elif sif == 3:\n",
    "        return 2\n",
    "    elif sif == 4:\n",
    "        return 3\n",
    "    elif sif == 5:\n",
    "        return 3\n",
    "    else:\n",
    "        return None \n",
    "\n",
    "CleansedDF['Self invalidation frequency'] = CleansedDF['Self invalidation frequency'].apply(convert_sif)\n",
    "\n",
    "# Convert average time spent on social media to numeric value\n",
    "def convert_smvsf(smvsf):\n",
    "    if smvsf == 1:\n",
    "        return 1\n",
    "    elif smvsf == 2:\n",
    "        return 2\n",
    "    elif smvsf == 3:\n",
    "        return 3\n",
    "    elif smvsf == 4:\n",
    "        return 4\n",
    "    elif smvsf == 5:\n",
    "        return 4\n",
    "    else:\n",
    "        return None \n",
    "\n",
    "CleansedDF['Social media validation seeking frequency'] = CleansedDF['Social media validation seeking frequency'].apply(convert_smvsf)\n",
    "\n",
    "# Convert average time spent on social media to numeric value\n",
    "def convert_def(de):\n",
    "    if de == 1:\n",
    "        return 1\n",
    "    elif de == 2:\n",
    "        return 1\n",
    "    elif de == 3:\n",
    "        return 2\n",
    "    elif de == 4:\n",
    "        return 3\n",
    "    elif de == 5:\n",
    "        return 4\n",
    "    else:\n",
    "        return None \n",
    "\n",
    "CleansedDF['Depressed emotion frequency'] = CleansedDF['Depressed emotion frequency'].apply(convert_def)\n",
    "\n",
    "# Convert average time spent on social media to numeric value\n",
    "def convert_daiff(daiff):\n",
    "    if daiff == 1:\n",
    "        return 1\n",
    "    elif daiff == 2:\n",
    "        return 1\n",
    "    elif daiff == 3:\n",
    "        return 2\n",
    "    elif daiff == 4:\n",
    "        return 3\n",
    "    elif daiff == 5:\n",
    "        return 4\n",
    "    else:\n",
    "        return None \n",
    "\n",
    "CleansedDF['Daily activity interest fluctuation frequency'] = CleansedDF['Daily activity interest fluctuation frequency'].apply(convert_daiff)\n",
    "\n",
    "# Convert average time spent on social media to numeric value\n",
    "def convert_sif(sif):\n",
    "    if sif == 1:\n",
    "        return 1\n",
    "    elif sif == 2:\n",
    "        return 2\n",
    "    elif sif == 3:\n",
    "        return 3\n",
    "    elif sif == 4:\n",
    "        return 4\n",
    "    elif sif == 5:\n",
    "        return 5\n",
    "    else:\n",
    "        return None \n",
    "\n",
    "CleansedDF['Sleep issue frequency'] = CleansedDF['Sleep issue frequency'].apply(convert_sif)"
   ]
  },
  {
   "cell_type": "markdown",
   "metadata": {
    "cell_id": "7954c5521e1a45f19563f91f34813f05",
    "deepnote_cell_type": "text-cell-p",
    "formattedRanges": []
   },
   "source": [
    "Now, we will examine individual variables by plotting it, ensuring that we managed to regulate the data."
   ]
  },
  {
   "cell_type": "code",
   "execution_count": 8,
   "metadata": {
    "cell_id": "33f72daccaca4bf598a0c3626d402113",
    "deepnote_cell_type": "code",
    "deepnote_to_be_reexecuted": false,
    "execution_millis": 6187,
    "execution_start": 1713966483903,
    "source_hash": "335fa0eb"
   },
   "outputs": [
    {
     "data": {
      "text/plain": [
       "<seaborn.axisgrid.FacetGrid at 0x7f51071606d0>"
      ]
     },
     "execution_count": 8,
     "metadata": {},
     "output_type": "execute_result"
    },
    {
     "data": {
      "image/png": "[encoded data removed]",
      "text/plain": [
       "<Figure size 512.222x500 with 1 Axes>"
      ]
     },
     "metadata": {
      "image/png": {
       "height": 484,
       "width": 505
      }
     },
     "output_type": "display_data"
    },
    {
     "data": {
      "image/png": "[encoded data removed]",
      "text/plain": [
       "<Figure size 512.222x500 with 1 Axes>"
      ]
     },
     "metadata": {
      "image/png": {
       "height": 484,
       "width": 505
      }
     },
     "output_type": "display_data"
    },
    {
     "data": {
      "image/png": "[encoded data removed]",
      "text/plain": [
       "<Figure size 512.222x500 with 1 Axes>"
      ]
     },
     "metadata": {
      "image/png": {
       "height": 484,
       "width": 505
      }
     },
     "output_type": "display_data"
    },
    {
     "data": {
      "image/png": "[encoded data removed]",
      "text/plain": [
       "<Figure size 512.222x500 with 1 Axes>"
      ]
     },
     "metadata": {
      "image/png": {
       "height": 484,
       "width": 506
      }
     },
     "output_type": "display_data"
    },
    {
     "data": {
      "image/png": "[encoded data removed]",
      "text/plain": [
       "<Figure size 512.222x500 with 1 Axes>"
      ]
     },
     "metadata": {
      "image/png": {
       "height": 484,
       "width": 505
      }
     },
     "output_type": "display_data"
    },
    {
     "data": {
      "image/png": "[encoded data removed]",
      "text/plain": [
       "<Figure size 512.222x500 with 1 Axes>"
      ]
     },
     "metadata": {
      "image/png": {
       "height": 484,
       "width": 505
      }
     },
     "output_type": "display_data"
    },
    {
     "data": {
      "image/png": "[encoded data removed]",
      "text/plain": [
       "<Figure size 512.222x500 with 1 Axes>"
      ]
     },
     "metadata": {
      "image/png": {
       "height": 484,
       "width": 505
      }
     },
     "output_type": "display_data"
    },
    {
     "data": {
      "image/png": "[encoded data removed]",
      "text/plain": [
       "<Figure size 512.222x500 with 1 Axes>"
      ]
     },
     "metadata": {
      "image/png": {
       "height": 484,
       "width": 505
      }
     },
     "output_type": "display_data"
    },
    {
     "data": {
      "image/png": "[encoded data removed]",
      "text/plain": [
       "<Figure size 512.222x500 with 1 Axes>"
      ]
     },
     "metadata": {
      "image/png": {
       "height": 484,
       "width": 505
      }
     },
     "output_type": "display_data"
    },
    {
     "data": {
      "image/png": "[encoded data removed]",
      "text/plain": [
       "<Figure size 512.222x500 with 1 Axes>"
      ]
     },
     "metadata": {
      "image/png": {
       "height": 484,
       "width": 505
      }
     },
     "output_type": "display_data"
    },
    {
     "data": {
      "image/png": "[encoded data removed]",
      "text/plain": [
       "<Figure size 512.222x500 with 1 Axes>"
      ]
     },
     "metadata": {
      "image/png": {
       "height": 484,
       "width": 505
      }
     },
     "output_type": "display_data"
    },
    {
     "data": {
      "image/png": "[encoded data removed]",
      "text/plain": [
       "<Figure size 512.222x500 with 1 Axes>"
      ]
     },
     "metadata": {
      "image/png": {
       "height": 484,
       "width": 505
      }
     },
     "output_type": "display_data"
    },
    {
     "data": {
      "image/png": "[encoded data removed]",
      "text/plain": [
       "<Figure size 512.222x500 with 1 Axes>"
      ]
     },
     "metadata": {
      "image/png": {
       "height": 484,
       "width": 505
      }
     },
     "output_type": "display_data"
    }
   ],
   "source": [
    "sb.catplot(y = 'Time_Spent', data = CleansedDF, kind = \"count\")\n",
    "sb.catplot(y = 'Mindless Scrolling Frequency', data = CleansedDF, kind = \"count\")\n",
    "sb.catplot(y = 'Social Media distraction Frequency', data = CleansedDF, kind = \"count\")\n",
    "sb.catplot(y = 'Restlessness Frequency', data = CleansedDF, kind = \"count\")\n",
    "sb.catplot(y = 'Distracted frequency', data = CleansedDF, kind = \"count\")\n",
    "sb.catplot(y = 'Worry frequency', data = CleansedDF, kind = \"count\")\n",
    "sb.catplot(y = 'Concentration difficulty frequency', data = CleansedDF, kind = \"count\")\n",
    "sb.catplot(y = 'Self comparisons frequency', data = CleansedDF, kind = \"count\")\n",
    "sb.catplot(y = 'Self invalidation frequency', data = CleansedDF, kind = \"count\")\n",
    "sb.catplot(y = 'Social media validation seeking frequency', data = CleansedDF, kind = \"count\")\n",
    "sb.catplot(y = 'Depressed emotion frequency', data = CleansedDF, kind = \"count\")\n",
    "sb.catplot(y = 'Daily activity interest fluctuation frequency', data = CleansedDF, kind = \"count\")\n",
    "sb.catplot(y = 'Sleep issue frequency', data = CleansedDF, kind = \"count\") "
   ]
  },
  {
   "cell_type": "markdown",
   "metadata": {
    "cell_id": "f185bf8fce37407da0d4e2c97385c9df",
    "deepnote_cell_type": "text-cell-p",
    "formattedRanges": []
   },
   "source": []
  },
  {
   "cell_type": "markdown",
   "metadata": {
    "cell_id": "15cd6b85cdd94bd2a95e1cbbd159f600",
    "deepnote_cell_type": "text-cell-h1",
    "formattedRanges": []
   },
   "source": [
    "# Part 2: Data analysis "
   ]
  },
  {
   "cell_type": "markdown",
   "metadata": {
    "cell_id": "d5c707d7126b4bdf8ff621d8f9e006b1",
    "deepnote_cell_type": "markdown"
   },
   "source": [
    "## Chi-Square Test"
   ]
  },
  {
   "cell_type": "markdown",
   "metadata": {
    "cell_id": "29026027f90a45d5b79702bb6872a13d",
    "deepnote_cell_type": "text-cell-p",
    "formattedRanges": []
   },
   "source": [
    "Chi-Square test is used to determine if there is any relationship between the 13 categorical features and time spent on social media "
   ]
  },
  {
   "cell_type": "markdown",
   "metadata": {
    "cell_id": "86190acea0334900ba87c35a81a82387",
    "deepnote_cell_type": "markdown"
   },
   "source": [
    "The significance level represents the threshold at which you're willing to reject the null hypothesis. It's the probability of rejecting the null hypothesis when it is actually true.\n",
    "\n",
    "The p-value is a measure of the strength of the evidence against the null hypothesis. It indicates the probability of obtaining a test statistic result as extreme as, or more extreme than, the one observed in the data, assuming that the null hypothesis is true.\n",
    "\n",
    "A small p-value (typically less than the chosen significance level α) suggests that the observed data is unlikely under the null hypothesis, leading to the rejection of the null hypothesis in favor of the alternative hypothesis.\n",
    "\n",
    "Conversely, a large p-value suggests that the observed data is likely under the null hypothesis, indicating that there is not enough evidence to reject the null hypothesis.\n"
   ]
  },
  {
   "cell_type": "markdown",
   "metadata": {
    "cell_id": "dda252c0410c4169a110e44e5087e7b7",
    "deepnote_cell_type": "markdown"
   },
   "source": [
    "In our problem, we let the Null hypothesis (H0) to be no significant association between categorical variables and Alternative hypothesis (H1) to be significant association between categorical variables. "
   ]
  },
  {
   "cell_type": "code",
   "execution_count": 9,
   "metadata": {
    "cell_id": "f82ba2dc00b740bd96471bd1a904f175",
    "deepnote_cell_type": "code",
    "deepnote_to_be_reexecuted": false,
    "execution_millis": 5731,
    "execution_start": 1713966492731,
    "source_hash": "839125a6"
   },
   "outputs": [
    {
     "name": "stdout",
     "output_type": "stream",
     "text": [
      "There is a significant association between Time Spent and Mindless Scrolling Frequency\n",
      "There is a significant association between Time Spent and Social Media distraction Frequency\n",
      "There is a significant association between Time Spent and Restlessness Frequency\n",
      "There is a significant association between Time Spent and Worry frequency\n",
      "There is a significant association between Time Spent and Self comparisons frequency\n",
      "There is a significant association between Time Spent and Depressed emotion frequency\n"
     ]
    },
    {
     "data": {
      "image/png": "[encoded data removed]",
      "text/plain": [
       "<Figure size 800x600 with 2 Axes>"
      ]
     },
     "metadata": {
      "image/png": {
       "height": 533,
       "width": 654
      }
     },
     "output_type": "display_data"
    },
    {
     "data": {
      "image/png": "[encoded data removed]",
      "text/plain": [
       "<Figure size 800x600 with 2 Axes>"
      ]
     },
     "metadata": {
      "image/png": {
       "height": 539,
       "width": 654
      }
     },
     "output_type": "display_data"
    },
    {
     "data": {
      "image/png": "[encoded data removed]",
      "text/plain": [
       "<Figure size 800x600 with 2 Axes>"
      ]
     },
     "metadata": {
      "image/png": {
       "height": 533,
       "width": 654
      }
     },
     "output_type": "display_data"
    },
    {
     "data": {
      "image/png": "[encoded data removed]",
      "text/plain": [
       "<Figure size 800x600 with 2 Axes>"
      ]
     },
     "metadata": {
      "image/png": {
       "height": 533,
       "width": 654
      }
     },
     "output_type": "display_data"
    },
    {
     "data": {
      "image/png": "[encoded data removed]",
      "text/plain": [
       "<Figure size 800x600 with 2 Axes>"
      ]
     },
     "metadata": {
      "image/png": {
       "height": 533,
       "width": 654
      }
     },
     "output_type": "display_data"
    },
    {
     "data": {
      "image/png": "[encoded data removed]",
      "text/plain": [
       "<Figure size 800x600 with 2 Axes>"
      ]
     },
     "metadata": {
      "image/png": {
       "height": 533,
       "width": 654
      }
     },
     "output_type": "display_data"
    },
    {
     "data": {
      "image/png": "[encoded data removed]",
      "text/plain": [
       "<Figure size 800x600 with 2 Axes>"
      ]
     },
     "metadata": {
      "image/png": {
       "height": 539,
       "width": 669
      }
     },
     "output_type": "display_data"
    },
    {
     "data": {
      "image/png": "[encoded data removed]",
      "text/plain": [
       "<Figure size 800x600 with 2 Axes>"
      ]
     },
     "metadata": {
      "image/png": {
       "height": 533,
       "width": 654
      }
     },
     "output_type": "display_data"
    },
    {
     "data": {
      "image/png": "[encoded data removed]",
      "text/plain": [
       "<Figure size 800x600 with 2 Axes>"
      ]
     },
     "metadata": {
      "image/png": {
       "height": 533,
       "width": 654
      }
     },
     "output_type": "display_data"
    },
    {
     "data": {
      "image/png": "[encoded data removed]",
      "text/plain": [
       "<Figure size 800x600 with 2 Axes>"
      ]
     },
     "metadata": {
      "image/png": {
       "height": 539,
       "width": 654
      }
     },
     "output_type": "display_data"
    },
    {
     "data": {
      "image/png": "[encoded data removed]",
      "text/plain": [
       "<Figure size 800x600 with 2 Axes>"
      ]
     },
     "metadata": {
      "image/png": {
       "height": 533,
       "width": 654
      }
     },
     "output_type": "display_data"
    },
    {
     "data": {
      "image/png": "[encoded data removed]",
      "text/plain": [
       "<Figure size 800x600 with 2 Axes>"
      ]
     },
     "metadata": {
      "image/png": {
       "height": 539,
       "width": 654
      }
     },
     "output_type": "display_data"
    }
   ],
   "source": [
    "features = ['Mindless Scrolling Frequency', 'Social Media distraction Frequency','Restlessness Frequency', 'Distracted frequency','Worry frequency', 'Concentration difficulty frequency', 'Self comparisons frequency','Self invalidation frequency','Social media validation seeking frequency','Depressed emotion frequency','Daily activity interest fluctuation frequency', 'Sleep issue frequency']\n",
    "\n",
    "for element in features:\n",
    "    contingency_table1 = pd.crosstab(CleansedDF['Time_Spent'], CleansedDF[element])  #contingency table plotted in heatmap\n",
    "    plt.figure(figsize=(8, 6))\n",
    "    sb.heatmap(contingency_table1, annot=True, cmap='YlGnBu', fmt='d')\n",
    "    chi2_stat, p_val, dof, expected = chi2_contingency(contingency_table1)\n",
    "    if p_val < 0.05:   \n",
    "        print(\"There is a significant association between Time Spent and\", element) "
   ]
  },
  {
   "cell_type": "markdown",
   "metadata": {
    "cell_id": "9c7868487d974febb377e9c2b65d30c2",
    "deepnote_cell_type": "markdown"
   },
   "source": [
    "From the result of the chi-square test, we have identified the following features to have significant assocaition with Time Spent on Social Media \n",
    "\n",
    "\n",
    "1) Mindless Scrolling Frequency\n",
    "2) Social Media distraction Frequency \n",
    "3) Restlessness Frequency\n",
    "4) Worry frequency\n",
    "5) Self comparisons frequency\n",
    "6) Depressed emotion frequency"
   ]
  },
  {
   "cell_type": "markdown",
   "metadata": {
    "cell_id": "a97d43520ac04d4e9fffa3886e8fc1c1",
    "deepnote_cell_type": "markdown"
   },
   "source": [
    "## K-Modes Algorithm"
   ]
  },
  {
   "cell_type": "markdown",
   "metadata": {
    "cell_id": "590c004158ad4cf0923a1fddc38322d7",
    "deepnote_cell_type": "markdown"
   },
   "source": [
    "The K-modes algorithm is a clustering technique used to group data points with similar characteristics, especially when dealing with categorical data. \n",
    "\n",
    "Here's how it works:\n",
    "\n",
    "It begins with an initial guess of the cluster centers (centroids). From these initial centroids, the algorithm iterates to refine their positions by:\n",
    "\n",
    "1. Assigning each data point to the closest centroid based on a specified distance or dissimilarity measure.\n",
    "2. Updating the centroids based on the assigned data points. In k-modes, this involves setting each centroid to the most common category for each feature within the cluster.\n",
    "3. Repeating these steps until the centroids stabilize—when their positions and the cluster assignments stop changing significantly with further iterations.\n",
    "\n",
    "In our problem, the goal is to cluster respondents with similar characteristics, allowing us to gain insights from groups of respondents rather than examining them individually. By clustering, we can better understand common patterns and behaviors within each group, leading to more robust analyses and conclusions."
   ]
  },
  {
   "cell_type": "code",
   "execution_count": 10,
   "metadata": {
    "cell_id": "04aff86db69c4504b95219a8002fc9a1",
    "deepnote_cell_type": "code",
    "deepnote_to_be_reexecuted": false,
    "execution_millis": 16416,
    "execution_start": 1713966498483,
    "source_hash": "1afb298d"
   },
   "outputs": [
    {
     "data": {
      "image/png": "[encoded data removed]",
      "text/plain": [
       "<Figure size 800x600 with 1 Axes>"
      ]
     },
     "metadata": {
      "image/png": {
       "height": 556,
       "width": 715
      }
     },
     "output_type": "display_data"
    }
   ],
   "source": [
    "# 6 variables from chi-sqaure test\n",
    "features = ['Mindless Scrolling Frequency', 'Social Media distraction Frequency', 'Restlessness Frequency', 'Worry frequency', 'Self comparisons frequency', 'Depressed emotion frequency']\n",
    "\n",
    "df_features = CleansedDF[features]\n",
    "\n",
    "# List to store the costs for different numbers of clusters\n",
    "costs = []\n",
    "\n",
    "# Testing cluster counts from 1 to 10\n",
    "cluster_range = range(1, 11)  \n",
    "\n",
    "# Test different numbers of clusters and store the cost for each\n",
    "for k in cluster_range:\n",
    "    km = KModes(n_clusters=k, init='Huang', n_init=10, verbose=1, random_state=42)  # Initialize k-modes\n",
    "    km.fit(df_features)  # Fit the model to the data\n",
    "    costs.append(km.cost_)  # Store the cost for the current number of clusters\n",
    "clear_output()\n",
    "# Plot the elbow curve to visualize the optimal number of clusters\n",
    "plt.figure(figsize=(8, 6))\n",
    "plt.plot(cluster_range, costs, marker='o')  # Plot the costs against the number of clusters\n",
    "plt.xlabel('Number of Clusters')  # X-axis label\n",
    "plt.ylabel('Cost')  # Y-axis label\n",
    "plt.title('Elbow Method for Optimal Cluster Count')  # Plot title\n",
    "plt.show()  # Display the plot\n"
   ]
  },
  {
   "cell_type": "code",
   "execution_count": 11,
   "metadata": {
    "cell_id": "98a18c594d714153bce19608e3fb6953",
    "deepnote_cell_type": "code",
    "deepnote_to_be_reexecuted": false,
    "execution_millis": 1161,
    "execution_start": 1713966514906,
    "source_hash": "f311a10e"
   },
   "outputs": [
    {
     "name": "stdout",
     "output_type": "stream",
     "text": [
      "Cost of clustering: 959.0\n",
      "Cluster centroids:\n",
      "Cluster 0: [2 1 2 1 1 1]\n",
      "Cluster 1: [3 3 3 2 2 3]\n",
      "Cluster 2: [3 4 4 3 5 4]\n"
     ]
    }
   ],
   "source": [
    "# 6 variables from chi-sqaure test\n",
    "features = ['Mindless Scrolling Frequency', 'Social Media distraction Frequency', 'Restlessness Frequency', 'Worry frequency', 'Self comparisons frequency', 'Depressed emotion frequency']\n",
    "\n",
    "df_features = CleansedDF[features]\n",
    "\n",
    "# Initialize KModes with the desired number of clusters, using the 'Huang' initialization method which is suitable for categorical data\n",
    "n_clusters = 3  # 3 is the optimal clusters\n",
    "km = KModes(n_clusters=n_clusters, init='Huang', n_init=10, verbose=1, random_state=42) #use random state to fix the choice of the cluster centroids \n",
    "\n",
    "clusters = km.fit_predict(df_features)\n",
    "clear_output()\n",
    "#Cost: Represents the total dissimilarity of all points to their respective centroids. Lower costs indicate better clustering.\n",
    "# Optionally, calculate the cost (a measure of dissimilarity) to see how well the data fits into the clusters\n",
    "print('Cost of clustering:', km.cost_)\n",
    "\n",
    "print('Cluster centroids:')\n",
    "for i, centroid in enumerate(km.cluster_centroids_):\n",
    "    print(f'Cluster {i}: {centroid}')\n",
    "# prints out 3 clusters with 6 digits, each digit represents the most frequency level from each feature \n",
    "\n",
    "#Add cluster labels back to the original DataFrame for further analysis\n",
    "CleansedDF['Cluster'] = clusters\n"
   ]
  },
  {
   "cell_type": "code",
   "execution_count": 12,
   "metadata": {
    "cell_id": "375190eed09c4e2cb20f243205287b09",
    "deepnote_cell_type": "code",
    "deepnote_to_be_reexecuted": false,
    "execution_millis": 389,
    "execution_start": 1713966516096,
    "source_hash": "484924ca"
   },
   "outputs": [
    {
     "data": {
      "application/vnd.deepnote.dataframe.v3+json": {
       "column_count": 14,
       "columns": [
        {
         "dtype": "int64",
         "name": "Time_Spent",
         "stats": {
          "histogram": [
           {
            "bin_end": 1.4,
            "bin_start": 1,
            "count": 44
           },
           {
            "bin_end": 1.8,
            "bin_start": 1.4,
            "count": 0
           },
           {
            "bin_end": 2.2,
            "bin_start": 1.8,
            "count": 67
           },
           {
            "bin_end": 2.6,
            "bin_start": 2.2,
            "count": 0
           },
           {
            "bin_end": 3,
            "bin_start": 2.6,
            "count": 0
           },
           {
            "bin_end": 3.4000000000000004,
            "bin_start": 3,
            "count": 77
           },
           {
            "bin_end": 3.8000000000000003,
            "bin_start": 3.4000000000000004,
            "count": 0
           },
           {
            "bin_end": 4.2,
            "bin_start": 3.8000000000000003,
            "count": 52
           },
           {
            "bin_end": 4.6,
            "bin_start": 4.2,
            "count": 0
           },
           {
            "bin_end": 5,
            "bin_start": 4.6,
            "count": 100
           }
          ],
          "max": "5",
          "min": "1",
          "nan_count": 0,
          "unique_count": 5
         }
        },
        {
         "dtype": "int64",
         "name": "Mindless Scrolling Frequency",
         "stats": {
          "histogram": [
           {
            "bin_end": 1.3,
            "bin_start": 1,
            "count": 47
           },
           {
            "bin_end": 1.6,
            "bin_start": 1.3,
            "count": 0
           },
           {
            "bin_end": 1.9,
            "bin_start": 1.6,
            "count": 0
           },
           {
            "bin_end": 2.2,
            "bin_start": 1.9,
            "count": 89
           },
           {
            "bin_end": 2.5,
            "bin_start": 2.2,
            "count": 0
           },
           {
            "bin_end": 2.8,
            "bin_start": 2.5,
            "count": 0
           },
           {
            "bin_end": 3.1,
            "bin_start": 2.8,
            "count": 126
           },
           {
            "bin_end": 3.4,
            "bin_start": 3.1,
            "count": 0
           },
           {
            "bin_end": 3.6999999999999997,
            "bin_start": 3.4,
            "count": 0
           },
           {
            "bin_end": 4,
            "bin_start": 3.6999999999999997,
            "count": 78
           }
          ],
          "max": "4",
          "min": "1",
          "nan_count": 0,
          "unique_count": 4
         }
        },
        {
         "dtype": "int64",
         "name": "Social Media distraction Frequency",
         "stats": {
          "histogram": [
           {
            "bin_end": 1.3,
            "bin_start": 1,
            "count": 81
           },
           {
            "bin_end": 1.6,
            "bin_start": 1.3,
            "count": 0
           },
           {
            "bin_end": 1.9,
            "bin_start": 1.6,
            "count": 0
           },
           {
            "bin_end": 2.2,
            "bin_start": 1.9,
            "count": 72
           },
           {
            "bin_end": 2.5,
            "bin_start": 2.2,
            "count": 0
           },
           {
            "bin_end": 2.8,
            "bin_start": 2.5,
            "count": 0
           },
           {
            "bin_end": 3.1,
            "bin_start": 2.8,
            "count": 94
           },
           {
            "bin_end": 3.4,
            "bin_start": 3.1,
            "count": 0
           },
           {
            "bin_end": 3.6999999999999997,
            "bin_start": 3.4,
            "count": 0
           },
           {
            "bin_end": 4,
            "bin_start": 3.6999999999999997,
            "count": 93
           }
          ],
          "max": "4",
          "min": "1",
          "nan_count": 0,
          "unique_count": 4
         }
        },
        {
         "dtype": "int64",
         "name": "Restlessness Frequency",
         "stats": {
          "histogram": [
           {
            "bin_end": 1.3,
            "bin_start": 1,
            "count": 65
           },
           {
            "bin_end": 1.6,
            "bin_start": 1.3,
            "count": 0
           },
           {
            "bin_end": 1.9,
            "bin_start": 1.6,
            "count": 0
           },
           {
            "bin_end": 2.2,
            "bin_start": 1.9,
            "count": 96
           },
           {
            "bin_end": 2.5,
            "bin_start": 2.2,
            "count": 0
           },
           {
            "bin_end": 2.8,
            "bin_start": 2.5,
            "count": 0
           },
           {
            "bin_end": 3.1,
            "bin_start": 2.8,
            "count": 88
           },
           {
            "bin_end": 3.4,
            "bin_start": 3.1,
            "count": 0
           },
           {
            "bin_end": 3.6999999999999997,
            "bin_start": 3.4,
            "count": 0
           },
           {
            "bin_end": 4,
            "bin_start": 3.6999999999999997,
            "count": 91
           }
          ],
          "max": "4",
          "min": "1",
          "nan_count": 0,
          "unique_count": 4
         }
        },
        {
         "dtype": "int64",
         "name": "Distracted frequency",
         "stats": {
          "histogram": [
           {
            "bin_end": 1.3,
            "bin_start": 1,
            "count": 63
           },
           {
            "bin_end": 1.6,
            "bin_start": 1.3,
            "count": 0
           },
           {
            "bin_end": 1.9,
            "bin_start": 1.6,
            "count": 0
           },
           {
            "bin_end": 2.2,
            "bin_start": 1.9,
            "count": 106
           },
           {
            "bin_end": 2.5,
            "bin_start": 2.2,
            "count": 0
           },
           {
            "bin_end": 2.8,
            "bin_start": 2.5,
            "count": 0
           },
           {
            "bin_end": 3.1,
            "bin_start": 2.8,
            "count": 93
           },
           {
            "bin_end": 3.4,
            "bin_start": 3.1,
            "count": 0
           },
           {
            "bin_end": 3.6999999999999997,
            "bin_start": 3.4,
            "count": 0
           },
           {
            "bin_end": 4,
            "bin_start": 3.6999999999999997,
            "count": 78
           }
          ],
          "max": "4",
          "min": "1",
          "nan_count": 0,
          "unique_count": 4
         }
        },
        {
         "dtype": "int64",
         "name": "Worry frequency",
         "stats": {
          "histogram": [
           {
            "bin_end": 1.2,
            "bin_start": 1,
            "count": 119
           },
           {
            "bin_end": 1.4,
            "bin_start": 1.2,
            "count": 0
           },
           {
            "bin_end": 1.6,
            "bin_start": 1.4,
            "count": 0
           },
           {
            "bin_end": 1.8,
            "bin_start": 1.6,
            "count": 0
           },
           {
            "bin_end": 2,
            "bin_start": 1.8,
            "count": 0
           },
           {
            "bin_end": 2.2,
            "bin_start": 2,
            "count": 100
           },
           {
            "bin_end": 2.4000000000000004,
            "bin_start": 2.2,
            "count": 0
           },
           {
            "bin_end": 2.6,
            "bin_start": 2.4000000000000004,
            "count": 0
           },
           {
            "bin_end": 2.8,
            "bin_start": 2.6,
            "count": 0
           },
           {
            "bin_end": 3,
            "bin_start": 2.8,
            "count": 121
           }
          ],
          "max": "3",
          "min": "1",
          "nan_count": 0,
          "unique_count": 3
         }
        },
        {
         "dtype": "int64",
         "name": "Concentration difficulty frequency",
         "stats": {
          "histogram": [
           {
            "bin_end": 1.3,
            "bin_start": 1,
            "count": 79
           },
           {
            "bin_end": 1.6,
            "bin_start": 1.3,
            "count": 0
           },
           {
            "bin_end": 1.9,
            "bin_start": 1.6,
            "count": 0
           },
           {
            "bin_end": 2.2,
            "bin_start": 1.9,
            "count": 81
           },
           {
            "bin_end": 2.5,
            "bin_start": 2.2,
            "count": 0
           },
           {
            "bin_end": 2.8,
            "bin_start": 2.5,
            "count": 0
           },
           {
            "bin_end": 3.1,
            "bin_start": 2.8,
            "count": 91
           },
           {
            "bin_end": 3.4,
            "bin_start": 3.1,
            "count": 0
           },
           {
            "bin_end": 3.6999999999999997,
            "bin_start": 3.4,
            "count": 0
           },
           {
            "bin_end": 4,
            "bin_start": 3.6999999999999997,
            "count": 89
           }
          ],
          "max": "4",
          "min": "1",
          "nan_count": 0,
          "unique_count": 4
         }
        },
        {
         "dtype": "int64",
         "name": "Self comparisons frequency",
         "stats": {
          "histogram": [
           {
            "bin_end": 1.4,
            "bin_start": 1,
            "count": 69
           },
           {
            "bin_end": 1.8,
            "bin_start": 1.4,
            "count": 0
           },
           {
            "bin_end": 2.2,
            "bin_start": 1.8,
            "count": 76
           },
           {
            "bin_end": 2.6,
            "bin_start": 2.2,
            "count": 0
           },
           {
            "bin_end": 3,
            "bin_start": 2.6,
            "count": 0
           },
           {
            "bin_end": 3.4000000000000004,
            "bin_start": 3,
            "count": 69
           },
           {
            "bin_end": 3.8000000000000003,
            "bin_start": 3.4000000000000004,
            "count": 0
           },
           {
            "bin_end": 4.2,
            "bin_start": 3.8000000000000003,
            "count": 53
           },
           {
            "bin_end": 4.6,
            "bin_start": 4.2,
            "count": 0
           },
           {
            "bin_end": 5,
            "bin_start": 4.6,
            "count": 73
           }
          ],
          "max": "5",
          "min": "1",
          "nan_count": 0,
          "unique_count": 5
         }
        },
        {
         "dtype": "int64",
         "name": "Self invalidation frequency",
         "stats": {
          "histogram": [
           {
            "bin_end": 1.2,
            "bin_start": 1,
            "count": 119
           },
           {
            "bin_end": 1.4,
            "bin_start": 1.2,
            "count": 0
           },
           {
            "bin_end": 1.6,
            "bin_start": 1.4,
            "count": 0
           },
           {
            "bin_end": 1.8,
            "bin_start": 1.6,
            "count": 0
           },
           {
            "bin_end": 2,
            "bin_start": 1.8,
            "count": 0
           },
           {
            "bin_end": 2.2,
            "bin_start": 2,
            "count": 158
           },
           {
            "bin_end": 2.4000000000000004,
            "bin_start": 2.2,
            "count": 0
           },
           {
            "bin_end": 2.6,
            "bin_start": 2.4000000000000004,
            "count": 0
           },
           {
            "bin_end": 2.8,
            "bin_start": 2.6,
            "count": 0
           },
           {
            "bin_end": 3,
            "bin_start": 2.8,
            "count": 63
           }
          ],
          "max": "3",
          "min": "1",
          "nan_count": 0,
          "unique_count": 3
         }
        },
        {
         "dtype": "int64",
         "name": "Social media validation seeking frequency",
         "stats": {
          "histogram": [
           {
            "bin_end": 1.3,
            "bin_start": 1,
            "count": 98
           },
           {
            "bin_end": 1.6,
            "bin_start": 1.3,
            "count": 0
           },
           {
            "bin_end": 1.9,
            "bin_start": 1.6,
            "count": 0
           },
           {
            "bin_end": 2.2,
            "bin_start": 1.9,
            "count": 72
           },
           {
            "bin_end": 2.5,
            "bin_start": 2.2,
            "count": 0
           },
           {
            "bin_end": 2.8,
            "bin_start": 2.5,
            "count": 0
           },
           {
            "bin_end": 3.1,
            "bin_start": 2.8,
            "count": 86
           },
           {
            "bin_end": 3.4,
            "bin_start": 3.1,
            "count": 0
           },
           {
            "bin_end": 3.6999999999999997,
            "bin_start": 3.4,
            "count": 0
           },
           {
            "bin_end": 4,
            "bin_start": 3.6999999999999997,
            "count": 84
           }
          ],
          "max": "4",
          "min": "1",
          "nan_count": 0,
          "unique_count": 4
         }
        },
        {
         "dtype": "int64",
         "name": "Depressed emotion frequency",
         "stats": {
          "histogram": [
           {
            "bin_end": 1.3,
            "bin_start": 1,
            "count": 71
           },
           {
            "bin_end": 1.6,
            "bin_start": 1.3,
            "count": 0
           },
           {
            "bin_end": 1.9,
            "bin_start": 1.6,
            "count": 0
           },
           {
            "bin_end": 2.2,
            "bin_start": 1.9,
            "count": 88
           },
           {
            "bin_end": 2.5,
            "bin_start": 2.2,
            "count": 0
           },
           {
            "bin_end": 2.8,
            "bin_start": 2.5,
            "count": 0
           },
           {
            "bin_end": 3.1,
            "bin_start": 2.8,
            "count": 94
           },
           {
            "bin_end": 3.4,
            "bin_start": 3.1,
            "count": 0
           },
           {
            "bin_end": 3.6999999999999997,
            "bin_start": 3.4,
            "count": 0
           },
           {
            "bin_end": 4,
            "bin_start": 3.6999999999999997,
            "count": 87
           }
          ],
          "max": "4",
          "min": "1",
          "nan_count": 0,
          "unique_count": 4
         }
        },
        {
         "dtype": "int64",
         "name": "Daily activity interest fluctuation frequency",
         "stats": {
          "histogram": [
           {
            "bin_end": 1.3,
            "bin_start": 1,
            "count": 87
           },
           {
            "bin_end": 1.6,
            "bin_start": 1.3,
            "count": 0
           },
           {
            "bin_end": 1.9,
            "bin_start": 1.6,
            "count": 0
           },
           {
            "bin_end": 2.2,
            "bin_start": 1.9,
            "count": 86
           },
           {
            "bin_end": 2.5,
            "bin_start": 2.2,
            "count": 0
           },
           {
            "bin_end": 2.8,
            "bin_start": 2.5,
            "count": 0
           },
           {
            "bin_end": 3.1,
            "bin_start": 2.8,
            "count": 101
           },
           {
            "bin_end": 3.4,
            "bin_start": 3.1,
            "count": 0
           },
           {
            "bin_end": 3.6999999999999997,
            "bin_start": 3.4,
            "count": 0
           },
           {
            "bin_end": 4,
            "bin_start": 3.6999999999999997,
            "count": 66
           }
          ],
          "max": "4",
          "min": "1",
          "nan_count": 0,
          "unique_count": 4
         }
        },
        {
         "dtype": "int64",
         "name": "Sleep issue frequency",
         "stats": {
          "histogram": [
           {
            "bin_end": 1.4,
            "bin_start": 1,
            "count": 47
           },
           {
            "bin_end": 1.8,
            "bin_start": 1.4,
            "count": 0
           },
           {
            "bin_end": 2.2,
            "bin_start": 1.8,
            "count": 58
           },
           {
            "bin_end": 2.6,
            "bin_start": 2.2,
            "count": 0
           },
           {
            "bin_end": 3,
            "bin_start": 2.6,
            "count": 0
           },
           {
            "bin_end": 3.4000000000000004,
            "bin_start": 3,
            "count": 53
           },
           {
            "bin_end": 3.8000000000000003,
            "bin_start": 3.4000000000000004,
            "count": 0
           },
           {
            "bin_end": 4.2,
            "bin_start": 3.8000000000000003,
            "count": 76
           },
           {
            "bin_end": 4.6,
            "bin_start": 4.2,
            "count": 0
           },
           {
            "bin_end": 5,
            "bin_start": 4.6,
            "count": 106
           }
          ],
          "max": "5",
          "min": "1",
          "nan_count": 0,
          "unique_count": 5
         }
        },
        {
         "dtype": "uint16",
         "name": "Cluster",
         "stats": {
          "histogram": [
           {
            "bin_end": 0.2,
            "bin_start": 0,
            "count": 135
           },
           {
            "bin_end": 0.4,
            "bin_start": 0.2,
            "count": 0
           },
           {
            "bin_end": 0.6000000000000001,
            "bin_start": 0.4,
            "count": 0
           },
           {
            "bin_end": 0.8,
            "bin_start": 0.6000000000000001,
            "count": 0
           },
           {
            "bin_end": 1,
            "bin_start": 0.8,
            "count": 0
           },
           {
            "bin_end": 1.2000000000000002,
            "bin_start": 1,
            "count": 102
           },
           {
            "bin_end": 1.4000000000000001,
            "bin_start": 1.2000000000000002,
            "count": 0
           },
           {
            "bin_end": 1.6,
            "bin_start": 1.4000000000000001,
            "count": 0
           },
           {
            "bin_end": 1.8,
            "bin_start": 1.6,
            "count": 0
           },
           {
            "bin_end": 2,
            "bin_start": 1.8,
            "count": 103
           }
          ],
          "max": "2",
          "min": "0",
          "nan_count": 0,
          "unique_count": 3
         }
        },
        {
         "dtype": "int64",
         "name": "_deepnote_index_column"
        }
       ],
       "row_count": 340,
       "rows": [
        {
         "Cluster": 0,
         "Concentration difficulty frequency": 4,
         "Daily activity interest fluctuation frequency": 3,
         "Depressed emotion frequency": 4,
         "Distracted frequency": 4,
         "Mindless Scrolling Frequency": 4,
         "Restlessness Frequency": 2,
         "Self comparisons frequency": 2,
         "Self invalidation frequency": 2,
         "Sleep issue frequency": 5,
         "Social Media distraction Frequency": 2,
         "Social media validation seeking frequency": 2,
         "Time_Spent": 2,
         "Worry frequency": 1,
         "_deepnote_index_column": 0
        },
        {
         "Cluster": 2,
         "Concentration difficulty frequency": 3,
         "Daily activity interest fluctuation frequency": 3,
         "Depressed emotion frequency": 4,
         "Distracted frequency": 3,
         "Mindless Scrolling Frequency": 3,
         "Restlessness Frequency": 2,
         "Self comparisons frequency": 5,
         "Self invalidation frequency": 1,
         "Sleep issue frequency": 5,
         "Social Media distraction Frequency": 2,
         "Social media validation seeking frequency": 1,
         "Time_Spent": 5,
         "Worry frequency": 3,
         "_deepnote_index_column": 1
        },
        {
         "Cluster": 0,
         "Concentration difficulty frequency": 3,
         "Daily activity interest fluctuation frequency": 1,
         "Depressed emotion frequency": 3,
         "Distracted frequency": 1,
         "Mindless Scrolling Frequency": 2,
         "Restlessness Frequency": 1,
         "Self comparisons frequency": 3,
         "Self invalidation frequency": 2,
         "Sleep issue frequency": 5,
         "Social Media distraction Frequency": 1,
         "Social media validation seeking frequency": 1,
         "Time_Spent": 3,
         "Worry frequency": 3,
         "_deepnote_index_column": 2
        },
        {
         "Cluster": 2,
         "Concentration difficulty frequency": 2,
         "Daily activity interest fluctuation frequency": 2,
         "Depressed emotion frequency": 3,
         "Distracted frequency": 2,
         "Mindless Scrolling Frequency": 3,
         "Restlessness Frequency": 1,
         "Self comparisons frequency": 5,
         "Self invalidation frequency": 1,
         "Sleep issue frequency": 2,
         "Social Media distraction Frequency": 1,
         "Social media validation seeking frequency": 2,
         "Time_Spent": 5,
         "Worry frequency": 3,
         "_deepnote_index_column": 3
        },
        {
         "Cluster": 2,
         "Concentration difficulty frequency": 4,
         "Daily activity interest fluctuation frequency": 3,
         "Depressed emotion frequency": 3,
         "Distracted frequency": 3,
         "Mindless Scrolling Frequency": 2,
         "Restlessness Frequency": 4,
         "Self comparisons frequency": 3,
         "Self invalidation frequency": 2,
         "Sleep issue frequency": 1,
         "Social Media distraction Frequency": 4,
         "Social media validation seeking frequency": 3,
         "Time_Spent": 2,
         "Worry frequency": 3,
         "_deepnote_index_column": 4
        },
        {
         "Cluster": 1,
         "Concentration difficulty frequency": 2,
         "Daily activity interest fluctuation frequency": 1,
         "Depressed emotion frequency": 2,
         "Distracted frequency": 2,
         "Mindless Scrolling Frequency": 3,
         "Restlessness Frequency": 2,
         "Self comparisons frequency": 4,
         "Self invalidation frequency": 3,
         "Sleep issue frequency": 4,
         "Social Media distraction Frequency": 3,
         "Social media validation seeking frequency": 3,
         "Time_Spent": 2,
         "Worry frequency": 2,
         "_deepnote_index_column": 5
        },
        {
         "Cluster": 2,
         "Concentration difficulty frequency": 2,
         "Daily activity interest fluctuation frequency": 4,
         "Depressed emotion frequency": 4,
         "Distracted frequency": 1,
         "Mindless Scrolling Frequency": 3,
         "Restlessness Frequency": 2,
         "Self comparisons frequency": 5,
         "Self invalidation frequency": 2,
         "Sleep issue frequency": 3,
         "Social Media distraction Frequency": 2,
         "Social media validation seeking frequency": 4,
         "Time_Spent": 3,
         "Worry frequency": 2,
         "_deepnote_index_column": 6
        },
        {
         "Cluster": 0,
         "Concentration difficulty frequency": 1,
         "Daily activity interest fluctuation frequency": 4,
         "Depressed emotion frequency": 4,
         "Distracted frequency": 2,
         "Mindless Scrolling Frequency": 4,
         "Restlessness Frequency": 3,
         "Self comparisons frequency": 1,
         "Self invalidation frequency": 2,
         "Sleep issue frequency": 1,
         "Social Media distraction Frequency": 1,
         "Social media validation seeking frequency": 1,
         "Time_Spent": 5,
         "Worry frequency": 1,
         "_deepnote_index_column": 7
        },
        {
         "Cluster": 0,
         "Concentration difficulty frequency": 1,
         "Daily activity interest fluctuation frequency": 4,
         "Depressed emotion frequency": 4,
         "Distracted frequency": 2,
         "Mindless Scrolling Frequency": 4,
         "Restlessness Frequency": 3,
         "Self comparisons frequency": 1,
         "Self invalidation frequency": 2,
         "Sleep issue frequency": 1,
         "Social Media distraction Frequency": 1,
         "Social media validation seeking frequency": 1,
         "Time_Spent": 5,
         "Worry frequency": 1,
         "_deepnote_index_column": 8
        },
        {
         "Cluster": 0,
         "Concentration difficulty frequency": 4,
         "Daily activity interest fluctuation frequency": 3,
         "Depressed emotion frequency": 4,
         "Distracted frequency": 3,
         "Mindless Scrolling Frequency": 4,
         "Restlessness Frequency": 2,
         "Self comparisons frequency": 4,
         "Self invalidation frequency": 1,
         "Sleep issue frequency": 5,
         "Social Media distraction Frequency": 4,
         "Social media validation seeking frequency": 3,
         "Time_Spent": 2,
         "Worry frequency": 1,
         "_deepnote_index_column": 10
        }
       ]
      },
      "text/html": [
       "<div>\n",
       "<style scoped>\n",
       "    .dataframe tbody tr th:only-of-type {\n",
       "        vertical-align: middle;\n",
       "    }\n",
       "\n",
       "    .dataframe tbody tr th {\n",
       "        vertical-align: top;\n",
       "    }\n",
       "\n",
       "    .dataframe thead th {\n",
       "        text-align: right;\n",
       "    }\n",
       "</style>\n",
       "<table border=\"1\" class=\"dataframe\">\n",
       "  <thead>\n",
       "    <tr style=\"text-align: right;\">\n",
       "      <th></th>\n",
       "      <th>Time_Spent</th>\n",
       "      <th>Mindless Scrolling Frequency</th>\n",
       "      <th>Social Media distraction Frequency</th>\n",
       "      <th>Restlessness Frequency</th>\n",
       "      <th>Distracted frequency</th>\n",
       "      <th>Worry frequency</th>\n",
       "      <th>Concentration difficulty frequency</th>\n",
       "      <th>Self comparisons frequency</th>\n",
       "      <th>Self invalidation frequency</th>\n",
       "      <th>Social media validation seeking frequency</th>\n",
       "      <th>Depressed emotion frequency</th>\n",
       "      <th>Daily activity interest fluctuation frequency</th>\n",
       "      <th>Sleep issue frequency</th>\n",
       "      <th>Cluster</th>\n",
       "    </tr>\n",
       "  </thead>\n",
       "  <tbody>\n",
       "    <tr>\n",
       "      <th>0</th>\n",
       "      <td>2</td>\n",
       "      <td>4</td>\n",
       "      <td>2</td>\n",
       "      <td>2</td>\n",
       "      <td>4</td>\n",
       "      <td>1</td>\n",
       "      <td>4</td>\n",
       "      <td>2</td>\n",
       "      <td>2</td>\n",
       "      <td>2</td>\n",
       "      <td>4</td>\n",
       "      <td>3</td>\n",
       "      <td>5</td>\n",
       "      <td>0</td>\n",
       "    </tr>\n",
       "    <tr>\n",
       "      <th>1</th>\n",
       "      <td>5</td>\n",
       "      <td>3</td>\n",
       "      <td>2</td>\n",
       "      <td>2</td>\n",
       "      <td>3</td>\n",
       "      <td>3</td>\n",
       "      <td>3</td>\n",
       "      <td>5</td>\n",
       "      <td>1</td>\n",
       "      <td>1</td>\n",
       "      <td>4</td>\n",
       "      <td>3</td>\n",
       "      <td>5</td>\n",
       "      <td>2</td>\n",
       "    </tr>\n",
       "    <tr>\n",
       "      <th>2</th>\n",
       "      <td>3</td>\n",
       "      <td>2</td>\n",
       "      <td>1</td>\n",
       "      <td>1</td>\n",
       "      <td>1</td>\n",
       "      <td>3</td>\n",
       "      <td>3</td>\n",
       "      <td>3</td>\n",
       "      <td>2</td>\n",
       "      <td>1</td>\n",
       "      <td>3</td>\n",
       "      <td>1</td>\n",
       "      <td>5</td>\n",
       "      <td>0</td>\n",
       "    </tr>\n",
       "    <tr>\n",
       "      <th>3</th>\n",
       "      <td>5</td>\n",
       "      <td>3</td>\n",
       "      <td>1</td>\n",
       "      <td>1</td>\n",
       "      <td>2</td>\n",
       "      <td>3</td>\n",
       "      <td>2</td>\n",
       "      <td>5</td>\n",
       "      <td>1</td>\n",
       "      <td>2</td>\n",
       "      <td>3</td>\n",
       "      <td>2</td>\n",
       "      <td>2</td>\n",
       "      <td>2</td>\n",
       "    </tr>\n",
       "    <tr>\n",
       "      <th>4</th>\n",
       "      <td>2</td>\n",
       "      <td>2</td>\n",
       "      <td>4</td>\n",
       "      <td>4</td>\n",
       "      <td>3</td>\n",
       "      <td>3</td>\n",
       "      <td>4</td>\n",
       "      <td>3</td>\n",
       "      <td>2</td>\n",
       "      <td>3</td>\n",
       "      <td>3</td>\n",
       "      <td>3</td>\n",
       "      <td>1</td>\n",
       "      <td>2</td>\n",
       "    </tr>\n",
       "    <tr>\n",
       "      <th>...</th>\n",
       "      <td>...</td>\n",
       "      <td>...</td>\n",
       "      <td>...</td>\n",
       "      <td>...</td>\n",
       "      <td>...</td>\n",
       "      <td>...</td>\n",
       "      <td>...</td>\n",
       "      <td>...</td>\n",
       "      <td>...</td>\n",
       "      <td>...</td>\n",
       "      <td>...</td>\n",
       "      <td>...</td>\n",
       "      <td>...</td>\n",
       "      <td>...</td>\n",
       "    </tr>\n",
       "    <tr>\n",
       "      <th>469</th>\n",
       "      <td>4</td>\n",
       "      <td>1</td>\n",
       "      <td>1</td>\n",
       "      <td>1</td>\n",
       "      <td>2</td>\n",
       "      <td>1</td>\n",
       "      <td>2</td>\n",
       "      <td>3</td>\n",
       "      <td>2</td>\n",
       "      <td>3</td>\n",
       "      <td>1</td>\n",
       "      <td>1</td>\n",
       "      <td>1</td>\n",
       "      <td>0</td>\n",
       "    </tr>\n",
       "    <tr>\n",
       "      <th>470</th>\n",
       "      <td>1</td>\n",
       "      <td>1</td>\n",
       "      <td>1</td>\n",
       "      <td>1</td>\n",
       "      <td>2</td>\n",
       "      <td>3</td>\n",
       "      <td>2</td>\n",
       "      <td>5</td>\n",
       "      <td>1</td>\n",
       "      <td>2</td>\n",
       "      <td>4</td>\n",
       "      <td>3</td>\n",
       "      <td>5</td>\n",
       "      <td>2</td>\n",
       "    </tr>\n",
       "    <tr>\n",
       "      <th>471</th>\n",
       "      <td>5</td>\n",
       "      <td>4</td>\n",
       "      <td>3</td>\n",
       "      <td>2</td>\n",
       "      <td>3</td>\n",
       "      <td>3</td>\n",
       "      <td>2</td>\n",
       "      <td>1</td>\n",
       "      <td>2</td>\n",
       "      <td>2</td>\n",
       "      <td>3</td>\n",
       "      <td>2</td>\n",
       "      <td>4</td>\n",
       "      <td>0</td>\n",
       "    </tr>\n",
       "    <tr>\n",
       "      <th>473</th>\n",
       "      <td>2</td>\n",
       "      <td>3</td>\n",
       "      <td>3</td>\n",
       "      <td>3</td>\n",
       "      <td>2</td>\n",
       "      <td>2</td>\n",
       "      <td>3</td>\n",
       "      <td>4</td>\n",
       "      <td>3</td>\n",
       "      <td>3</td>\n",
       "      <td>3</td>\n",
       "      <td>2</td>\n",
       "      <td>4</td>\n",
       "      <td>1</td>\n",
       "    </tr>\n",
       "    <tr>\n",
       "      <th>479</th>\n",
       "      <td>2</td>\n",
       "      <td>1</td>\n",
       "      <td>2</td>\n",
       "      <td>2</td>\n",
       "      <td>2</td>\n",
       "      <td>1</td>\n",
       "      <td>1</td>\n",
       "      <td>2</td>\n",
       "      <td>2</td>\n",
       "      <td>4</td>\n",
       "      <td>3</td>\n",
       "      <td>4</td>\n",
       "      <td>4</td>\n",
       "      <td>0</td>\n",
       "    </tr>\n",
       "  </tbody>\n",
       "</table>\n",
       "<p>340 rows × 14 columns</p>\n",
       "</div>"
      ],
      "text/plain": [
       "     Time_Spent  Mindless Scrolling Frequency  \\\n",
       "0             2                             4   \n",
       "1             5                             3   \n",
       "2             3                             2   \n",
       "3             5                             3   \n",
       "4             2                             2   \n",
       "..          ...                           ...   \n",
       "469           4                             1   \n",
       "470           1                             1   \n",
       "471           5                             4   \n",
       "473           2                             3   \n",
       "479           2                             1   \n",
       "\n",
       "     Social Media distraction Frequency  Restlessness Frequency  \\\n",
       "0                                     2                       2   \n",
       "1                                     2                       2   \n",
       "2                                     1                       1   \n",
       "3                                     1                       1   \n",
       "4                                     4                       4   \n",
       "..                                  ...                     ...   \n",
       "469                                   1                       1   \n",
       "470                                   1                       1   \n",
       "471                                   3                       2   \n",
       "473                                   3                       3   \n",
       "479                                   2                       2   \n",
       "\n",
       "     Distracted frequency  Worry frequency  \\\n",
       "0                       4                1   \n",
       "1                       3                3   \n",
       "2                       1                3   \n",
       "3                       2                3   \n",
       "4                       3                3   \n",
       "..                    ...              ...   \n",
       "469                     2                1   \n",
       "470                     2                3   \n",
       "471                     3                3   \n",
       "473                     2                2   \n",
       "479                     2                1   \n",
       "\n",
       "     Concentration difficulty frequency  Self comparisons frequency  \\\n",
       "0                                     4                           2   \n",
       "1                                     3                           5   \n",
       "2                                     3                           3   \n",
       "3                                     2                           5   \n",
       "4                                     4                           3   \n",
       "..                                  ...                         ...   \n",
       "469                                   2                           3   \n",
       "470                                   2                           5   \n",
       "471                                   2                           1   \n",
       "473                                   3                           4   \n",
       "479                                   1                           2   \n",
       "\n",
       "     Self invalidation frequency  Social media validation seeking frequency  \\\n",
       "0                              2                                          2   \n",
       "1                              1                                          1   \n",
       "2                              2                                          1   \n",
       "3                              1                                          2   \n",
       "4                              2                                          3   \n",
       "..                           ...                                        ...   \n",
       "469                            2                                          3   \n",
       "470                            1                                          2   \n",
       "471                            2                                          2   \n",
       "473                            3                                          3   \n",
       "479                            2                                          4   \n",
       "\n",
       "     Depressed emotion frequency  \\\n",
       "0                              4   \n",
       "1                              4   \n",
       "2                              3   \n",
       "3                              3   \n",
       "4                              3   \n",
       "..                           ...   \n",
       "469                            1   \n",
       "470                            4   \n",
       "471                            3   \n",
       "473                            3   \n",
       "479                            3   \n",
       "\n",
       "     Daily activity interest fluctuation frequency  Sleep issue frequency  \\\n",
       "0                                                3                      5   \n",
       "1                                                3                      5   \n",
       "2                                                1                      5   \n",
       "3                                                2                      2   \n",
       "4                                                3                      1   \n",
       "..                                             ...                    ...   \n",
       "469                                              1                      1   \n",
       "470                                              3                      5   \n",
       "471                                              2                      4   \n",
       "473                                              2                      4   \n",
       "479                                              4                      4   \n",
       "\n",
       "     Cluster  \n",
       "0          0  \n",
       "1          2  \n",
       "2          0  \n",
       "3          2  \n",
       "4          2  \n",
       "..       ...  \n",
       "469        0  \n",
       "470        2  \n",
       "471        0  \n",
       "473        1  \n",
       "479        0  \n",
       "\n",
       "[340 rows x 14 columns]"
      ]
     },
     "execution_count": 12,
     "metadata": {},
     "output_type": "execute_result"
    }
   ],
   "source": [
    "#Check that the cluster number has been added to every data in the dataset (labelled 0,1 ,2)\n",
    "CleansedDF"
   ]
  },
  {
   "cell_type": "markdown",
   "metadata": {
    "cell_id": "d833ffe140844461aaf28ce559334b7d",
    "deepnote_cell_type": "text-cell-h2",
    "formattedRanges": []
   },
   "source": [
    "## Graph of Cluster Distribution against Time Spent on Social Media"
   ]
  },
  {
   "cell_type": "code",
   "execution_count": 13,
   "metadata": {
    "cell_id": "975b7116813f437f9c194c2000bfb438",
    "deepnote_cell_type": "code",
    "deepnote_to_be_reexecuted": false,
    "execution_millis": 656,
    "execution_start": 1713966516129,
    "source_hash": "8046ab16"
   },
   "outputs": [
    {
     "data": {
      "image/png": "[encoded data removed]",
      "text/plain": [
       "<Figure size 1000x600 with 1 Axes>"
      ]
     },
     "metadata": {
      "image/png": {
       "height": 584,
       "width": 984
      }
     },
     "output_type": "display_data"
    }
   ],
   "source": [
    "# Count the number of instances in each time spent category within each cluster\n",
    "cluster_time_spent_counts = CleansedDF.groupby(['Cluster', 'Time_Spent']).size().reset_index(name='counts')\n",
    "\n",
    "# Create a bar chart\n",
    "plt.figure(figsize=(10, 6))\n",
    "sb.barplot(x='Time_Spent', y='counts', hue='Cluster', data=cluster_time_spent_counts, palette='viridis')\n",
    "\n",
    "plt.title('Cluster Distribution Against Time Spent on Social Media')\n",
    "plt.xlabel('Time Spent Categories on Social Media')\n",
    "plt.ylabel('Count')\n",
    "plt.legend(title='Cluster')\n",
    "plt.tight_layout()  # Adjust the layout to fit the figure neatly\n",
    "plt.show()\n"
   ]
  },
  {
   "cell_type": "markdown",
   "metadata": {
    "cell_id": "7d49047e08b148f5a8f246c850746395",
    "deepnote_cell_type": "text-cell-h2",
    "formattedRanges": []
   },
   "source": [
    "## Analysis of results "
   ]
  },
  {
   "cell_type": "markdown",
   "metadata": {
    "cell_id": "b17f91ad02e342fd87ced3396615ddfd",
    "deepnote_cell_type": "markdown"
   },
   "source": [
    "### Cluster Centroids Interpretation\n",
    "Cluster Centroids is represented by 6 digits, each digit represents the most frequency level for each of the 6 features \n",
    "\n",
    "- **Cluster 0**: [2, 1, 2, 1, 1, 1]. This cluster generally represents respondents with low frequencies across the measured features.\n",
    "- **Cluster 1**: [3, 3, 3, 2, 2, 3]. This group exhibits moderate levels for all features, with frequencies typically ranging from 2 to 3.\n",
    "- **Cluster 2**: [3, 4, 4, 3, 5, 4]. This cluster represents respondents with moderate to high frequency levels for all measured features.\n",
    "\n",
    "### Time Spent on Social Media Analysis\n",
    "Looking at the bar chart, which shows the distribution of respondents across different levels of \"Time Spent on Social Media,\" we can draw the following insights:\n",
    "\n",
    "- **Cluster 1**: With centroids [3, 3, 3, 2, 2, 3], more than half of the respondents fall into levels 4 and 5 of time spent on social media, indicating significant usage among this group.\n",
    "- **Cluster 2**: The centroids [3, 4, 4, 3, 5, 4] also show that more than half of the respondents are in levels 4 and 5, suggesting that this group has a similar pattern of high social media usage.\n",
    "- **Cluster 0**: The centroid [2, 1, 2, 1, 1, 1] represents a more evenly distributed group regarding time spent on social media. This cluster shows a lower tendency for high social media usage, with respondents spread across different time-spent levels.\n",
    "\n",
    "By analyzing the clusters, we can see clear distinctions in behavior patterns related to social media usage. Clusters 1 and 2 are characterized by higher frequencies of usage, while Cluster 0 displays a more balanced and lower level of usage.\n",
    "\n"
   ]
  },
  {
   "cell_type": "markdown",
   "metadata": {
    "cell_id": "c7f284d49d4841fba3f90af76b64151e",
    "deepnote_cell_type": "markdown"
   },
   "source": [
    "# Part 3: Support Vector Machine"
   ]
  },
  {
   "cell_type": "markdown",
   "metadata": {
    "cell_id": "e6d0a0a920bf48fe8278a8e41c47f19c",
    "deepnote_cell_type": "text-cell-h2",
    "formattedRanges": []
   },
   "source": [
    "## Introducing Total Score and Outcome"
   ]
  },
  {
   "cell_type": "markdown",
   "metadata": {
    "cell_id": "6a785ea9843647afbd98fcb64eac0bd0",
    "deepnote_cell_type": "markdown"
   },
   "source": [
    "### Purpose of SVM\n",
    "Support Vector Machines (SVMs) are used for classification tasks. They find the best line or boundary to separate different groups of data. In general, SVMs are powerful because they can handle complex data and still create clear separations between groups, which makes them useful for a variety of classification problems. In our analysis, the SVM helps classify survey participants into distinct clusters based on their social media usage and related behaviors. The goal is to determine whether a person belongs to Cluster 0, which indicates lower engagement with social media, or to Clusters 1 and 2, suggesting higher engagement with potentially negative outcomes. If a participant is classified into Clusters 1 and 2, it might be an indication that they need to reduce their social media usage.\n",
    "\n",
    "### How SVM Works\n",
    "SVMs work by identifying a \"hyperplane,\" or a line in simpler terms, that best separates different categories of data. In our case, we use the SVM to classify participants based on a total score derived from their responses to a survey. The SVM learns from the data by figuring out the best way to split it into two distinct groups—those with lower social media activity (Cluster 0) and those with higher activity (Clusters 1 and 2). The SVM can handle a range of data complexities and can be tuned to give the best results in classification.\n",
    "\n",
    "### How We Get the Benchmark\n",
    "The benchmark of 16 comes from summing the central centroids of Cluster 1: [3, 3, 3, 2, 2, 3]. The central centroid represents the typical characteristics of that cluster, indicating moderate social media-related behaviors. By using the total score from these characteristics, we create a simple measure to classify survey participants.\n",
    "\n",
    "### Why We Use the Benchmark\n",
    "We use the benchmark of 16 because it creates a clear threshold to categorize people into distinct groups. This benchmark is valuable because it allows the SVM to find a consistent boundary between low-engagement (Cluster 0) and high-engagement groups (Clusters 1 and 2). Low engagement cluster is represented by 0 under outcome, while high-engegement cluster is represented by 1 under outcome. If a person's total score is 16 or above, they will be in the high-engegement cluster, suggesting that they might benefit from reducing their social media usage. This clear division simplifies the process of classification and helps us focus on those who might need guidance to reduce their social media use."
   ]
  },
  {
   "cell_type": "code",
   "execution_count": 14,
   "metadata": {
    "cell_id": "3a93bb4e33dc4903a1e25f648ed06613",
    "deepnote_cell_type": "code",
    "deepnote_to_be_reexecuted": false,
    "execution_millis": 354,
    "execution_start": 1713966516787,
    "source_hash": "69c09dbe"
   },
   "outputs": [
    {
     "data": {
      "application/vnd.deepnote.dataframe.v3+json": {
       "column_count": 8,
       "columns": [
        {
         "dtype": "int64",
         "name": "Time_Spent",
         "stats": {
          "histogram": [
           {
            "bin_end": 1.4,
            "bin_start": 1,
            "count": 44
           },
           {
            "bin_end": 1.8,
            "bin_start": 1.4,
            "count": 0
           },
           {
            "bin_end": 2.2,
            "bin_start": 1.8,
            "count": 67
           },
           {
            "bin_end": 2.6,
            "bin_start": 2.2,
            "count": 0
           },
           {
            "bin_end": 3,
            "bin_start": 2.6,
            "count": 0
           },
           {
            "bin_end": 3.4000000000000004,
            "bin_start": 3,
            "count": 77
           },
           {
            "bin_end": 3.8000000000000003,
            "bin_start": 3.4000000000000004,
            "count": 0
           },
           {
            "bin_end": 4.2,
            "bin_start": 3.8000000000000003,
            "count": 52
           },
           {
            "bin_end": 4.6,
            "bin_start": 4.2,
            "count": 0
           },
           {
            "bin_end": 5,
            "bin_start": 4.6,
            "count": 100
           }
          ],
          "max": "5",
          "min": "1",
          "nan_count": 0,
          "unique_count": 5
         }
        },
        {
         "dtype": "int64",
         "name": "Mindless Scrolling Frequency",
         "stats": {
          "histogram": [
           {
            "bin_end": 1.3,
            "bin_start": 1,
            "count": 47
           },
           {
            "bin_end": 1.6,
            "bin_start": 1.3,
            "count": 0
           },
           {
            "bin_end": 1.9,
            "bin_start": 1.6,
            "count": 0
           },
           {
            "bin_end": 2.2,
            "bin_start": 1.9,
            "count": 89
           },
           {
            "bin_end": 2.5,
            "bin_start": 2.2,
            "count": 0
           },
           {
            "bin_end": 2.8,
            "bin_start": 2.5,
            "count": 0
           },
           {
            "bin_end": 3.1,
            "bin_start": 2.8,
            "count": 126
           },
           {
            "bin_end": 3.4,
            "bin_start": 3.1,
            "count": 0
           },
           {
            "bin_end": 3.6999999999999997,
            "bin_start": 3.4,
            "count": 0
           },
           {
            "bin_end": 4,
            "bin_start": 3.6999999999999997,
            "count": 78
           }
          ],
          "max": "4",
          "min": "1",
          "nan_count": 0,
          "unique_count": 4
         }
        },
        {
         "dtype": "int64",
         "name": "Social Media distraction Frequency",
         "stats": {
          "histogram": [
           {
            "bin_end": 1.3,
            "bin_start": 1,
            "count": 81
           },
           {
            "bin_end": 1.6,
            "bin_start": 1.3,
            "count": 0
           },
           {
            "bin_end": 1.9,
            "bin_start": 1.6,
            "count": 0
           },
           {
            "bin_end": 2.2,
            "bin_start": 1.9,
            "count": 72
           },
           {
            "bin_end": 2.5,
            "bin_start": 2.2,
            "count": 0
           },
           {
            "bin_end": 2.8,
            "bin_start": 2.5,
            "count": 0
           },
           {
            "bin_end": 3.1,
            "bin_start": 2.8,
            "count": 94
           },
           {
            "bin_end": 3.4,
            "bin_start": 3.1,
            "count": 0
           },
           {
            "bin_end": 3.6999999999999997,
            "bin_start": 3.4,
            "count": 0
           },
           {
            "bin_end": 4,
            "bin_start": 3.6999999999999997,
            "count": 93
           }
          ],
          "max": "4",
          "min": "1",
          "nan_count": 0,
          "unique_count": 4
         }
        },
        {
         "dtype": "int64",
         "name": "Restlessness Frequency",
         "stats": {
          "histogram": [
           {
            "bin_end": 1.3,
            "bin_start": 1,
            "count": 65
           },
           {
            "bin_end": 1.6,
            "bin_start": 1.3,
            "count": 0
           },
           {
            "bin_end": 1.9,
            "bin_start": 1.6,
            "count": 0
           },
           {
            "bin_end": 2.2,
            "bin_start": 1.9,
            "count": 96
           },
           {
            "bin_end": 2.5,
            "bin_start": 2.2,
            "count": 0
           },
           {
            "bin_end": 2.8,
            "bin_start": 2.5,
            "count": 0
           },
           {
            "bin_end": 3.1,
            "bin_start": 2.8,
            "count": 88
           },
           {
            "bin_end": 3.4,
            "bin_start": 3.1,
            "count": 0
           },
           {
            "bin_end": 3.6999999999999997,
            "bin_start": 3.4,
            "count": 0
           },
           {
            "bin_end": 4,
            "bin_start": 3.6999999999999997,
            "count": 91
           }
          ],
          "max": "4",
          "min": "1",
          "nan_count": 0,
          "unique_count": 4
         }
        },
        {
         "dtype": "int64",
         "name": "Worry frequency",
         "stats": {
          "histogram": [
           {
            "bin_end": 1.2,
            "bin_start": 1,
            "count": 119
           },
           {
            "bin_end": 1.4,
            "bin_start": 1.2,
            "count": 0
           },
           {
            "bin_end": 1.6,
            "bin_start": 1.4,
            "count": 0
           },
           {
            "bin_end": 1.8,
            "bin_start": 1.6,
            "count": 0
           },
           {
            "bin_end": 2,
            "bin_start": 1.8,
            "count": 0
           },
           {
            "bin_end": 2.2,
            "bin_start": 2,
            "count": 100
           },
           {
            "bin_end": 2.4000000000000004,
            "bin_start": 2.2,
            "count": 0
           },
           {
            "bin_end": 2.6,
            "bin_start": 2.4000000000000004,
            "count": 0
           },
           {
            "bin_end": 2.8,
            "bin_start": 2.6,
            "count": 0
           },
           {
            "bin_end": 3,
            "bin_start": 2.8,
            "count": 121
           }
          ],
          "max": "3",
          "min": "1",
          "nan_count": 0,
          "unique_count": 3
         }
        },
        {
         "dtype": "int64",
         "name": "Self comparisons frequency",
         "stats": {
          "histogram": [
           {
            "bin_end": 1.4,
            "bin_start": 1,
            "count": 69
           },
           {
            "bin_end": 1.8,
            "bin_start": 1.4,
            "count": 0
           },
           {
            "bin_end": 2.2,
            "bin_start": 1.8,
            "count": 76
           },
           {
            "bin_end": 2.6,
            "bin_start": 2.2,
            "count": 0
           },
           {
            "bin_end": 3,
            "bin_start": 2.6,
            "count": 0
           },
           {
            "bin_end": 3.4000000000000004,
            "bin_start": 3,
            "count": 69
           },
           {
            "bin_end": 3.8000000000000003,
            "bin_start": 3.4000000000000004,
            "count": 0
           },
           {
            "bin_end": 4.2,
            "bin_start": 3.8000000000000003,
            "count": 53
           },
           {
            "bin_end": 4.6,
            "bin_start": 4.2,
            "count": 0
           },
           {
            "bin_end": 5,
            "bin_start": 4.6,
            "count": 73
           }
          ],
          "max": "5",
          "min": "1",
          "nan_count": 0,
          "unique_count": 5
         }
        },
        {
         "dtype": "int64",
         "name": "Depressed emotion frequency",
         "stats": {
          "histogram": [
           {
            "bin_end": 1.3,
            "bin_start": 1,
            "count": 71
           },
           {
            "bin_end": 1.6,
            "bin_start": 1.3,
            "count": 0
           },
           {
            "bin_end": 1.9,
            "bin_start": 1.6,
            "count": 0
           },
           {
            "bin_end": 2.2,
            "bin_start": 1.9,
            "count": 88
           },
           {
            "bin_end": 2.5,
            "bin_start": 2.2,
            "count": 0
           },
           {
            "bin_end": 2.8,
            "bin_start": 2.5,
            "count": 0
           },
           {
            "bin_end": 3.1,
            "bin_start": 2.8,
            "count": 94
           },
           {
            "bin_end": 3.4,
            "bin_start": 3.1,
            "count": 0
           },
           {
            "bin_end": 3.6999999999999997,
            "bin_start": 3.4,
            "count": 0
           },
           {
            "bin_end": 4,
            "bin_start": 3.6999999999999997,
            "count": 87
           }
          ],
          "max": "4",
          "min": "1",
          "nan_count": 0,
          "unique_count": 4
         }
        },
        {
         "dtype": "int64",
         "name": "Total Score",
         "stats": {
          "histogram": [
           {
            "bin_end": 7.8,
            "bin_start": 6,
            "count": 10
           },
           {
            "bin_end": 9.6,
            "bin_start": 7.8,
            "count": 22
           },
           {
            "bin_end": 11.4,
            "bin_start": 9.6,
            "count": 34
           },
           {
            "bin_end": 13.2,
            "bin_start": 11.4,
            "count": 42
           },
           {
            "bin_end": 15,
            "bin_start": 13.2,
            "count": 26
           },
           {
            "bin_end": 16.8,
            "bin_start": 15,
            "count": 68
           },
           {
            "bin_end": 18.6,
            "bin_start": 16.8,
            "count": 53
           },
           {
            "bin_end": 20.4,
            "bin_start": 18.6,
            "count": 45
           },
           {
            "bin_end": 22.2,
            "bin_start": 20.4,
            "count": 27
           },
           {
            "bin_end": 24,
            "bin_start": 22.2,
            "count": 13
           }
          ],
          "max": "24",
          "min": "6",
          "nan_count": 0,
          "unique_count": 19
         }
        },
        {
         "dtype": "int64",
         "name": "_deepnote_index_column"
        }
       ],
       "row_count": 340,
       "rows": [
        {
         "Depressed emotion frequency": 4,
         "Mindless Scrolling Frequency": 4,
         "Restlessness Frequency": 2,
         "Self comparisons frequency": 2,
         "Social Media distraction Frequency": 2,
         "Time_Spent": 2,
         "Total Score": 15,
         "Worry frequency": 1,
         "_deepnote_index_column": 0
        },
        {
         "Depressed emotion frequency": 4,
         "Mindless Scrolling Frequency": 3,
         "Restlessness Frequency": 2,
         "Self comparisons frequency": 5,
         "Social Media distraction Frequency": 2,
         "Time_Spent": 5,
         "Total Score": 19,
         "Worry frequency": 3,
         "_deepnote_index_column": 1
        },
        {
         "Depressed emotion frequency": 3,
         "Mindless Scrolling Frequency": 2,
         "Restlessness Frequency": 1,
         "Self comparisons frequency": 3,
         "Social Media distraction Frequency": 1,
         "Time_Spent": 3,
         "Total Score": 13,
         "Worry frequency": 3,
         "_deepnote_index_column": 2
        },
        {
         "Depressed emotion frequency": 3,
         "Mindless Scrolling Frequency": 3,
         "Restlessness Frequency": 1,
         "Self comparisons frequency": 5,
         "Social Media distraction Frequency": 1,
         "Time_Spent": 5,
         "Total Score": 16,
         "Worry frequency": 3,
         "_deepnote_index_column": 3
        },
        {
         "Depressed emotion frequency": 3,
         "Mindless Scrolling Frequency": 2,
         "Restlessness Frequency": 4,
         "Self comparisons frequency": 3,
         "Social Media distraction Frequency": 4,
         "Time_Spent": 2,
         "Total Score": 19,
         "Worry frequency": 3,
         "_deepnote_index_column": 4
        },
        {
         "Depressed emotion frequency": 2,
         "Mindless Scrolling Frequency": 3,
         "Restlessness Frequency": 2,
         "Self comparisons frequency": 4,
         "Social Media distraction Frequency": 3,
         "Time_Spent": 2,
         "Total Score": 16,
         "Worry frequency": 2,
         "_deepnote_index_column": 5
        },
        {
         "Depressed emotion frequency": 4,
         "Mindless Scrolling Frequency": 3,
         "Restlessness Frequency": 2,
         "Self comparisons frequency": 5,
         "Social Media distraction Frequency": 2,
         "Time_Spent": 3,
         "Total Score": 18,
         "Worry frequency": 2,
         "_deepnote_index_column": 6
        },
        {
         "Depressed emotion frequency": 4,
         "Mindless Scrolling Frequency": 4,
         "Restlessness Frequency": 3,
         "Self comparisons frequency": 1,
         "Social Media distraction Frequency": 1,
         "Time_Spent": 5,
         "Total Score": 14,
         "Worry frequency": 1,
         "_deepnote_index_column": 7
        },
        {
         "Depressed emotion frequency": 4,
         "Mindless Scrolling Frequency": 4,
         "Restlessness Frequency": 3,
         "Self comparisons frequency": 1,
         "Social Media distraction Frequency": 1,
         "Time_Spent": 5,
         "Total Score": 14,
         "Worry frequency": 1,
         "_deepnote_index_column": 8
        },
        {
         "Depressed emotion frequency": 4,
         "Mindless Scrolling Frequency": 4,
         "Restlessness Frequency": 2,
         "Self comparisons frequency": 4,
         "Social Media distraction Frequency": 4,
         "Time_Spent": 2,
         "Total Score": 19,
         "Worry frequency": 1,
         "_deepnote_index_column": 10
        }
       ]
      },
      "text/html": [
       "<div>\n",
       "<style scoped>\n",
       "    .dataframe tbody tr th:only-of-type {\n",
       "        vertical-align: middle;\n",
       "    }\n",
       "\n",
       "    .dataframe tbody tr th {\n",
       "        vertical-align: top;\n",
       "    }\n",
       "\n",
       "    .dataframe thead th {\n",
       "        text-align: right;\n",
       "    }\n",
       "</style>\n",
       "<table border=\"1\" class=\"dataframe\">\n",
       "  <thead>\n",
       "    <tr style=\"text-align: right;\">\n",
       "      <th></th>\n",
       "      <th>Time_Spent</th>\n",
       "      <th>Mindless Scrolling Frequency</th>\n",
       "      <th>Social Media distraction Frequency</th>\n",
       "      <th>Restlessness Frequency</th>\n",
       "      <th>Worry frequency</th>\n",
       "      <th>Self comparisons frequency</th>\n",
       "      <th>Depressed emotion frequency</th>\n",
       "      <th>Total Score</th>\n",
       "    </tr>\n",
       "  </thead>\n",
       "  <tbody>\n",
       "    <tr>\n",
       "      <th>0</th>\n",
       "      <td>2</td>\n",
       "      <td>4</td>\n",
       "      <td>2</td>\n",
       "      <td>2</td>\n",
       "      <td>1</td>\n",
       "      <td>2</td>\n",
       "      <td>4</td>\n",
       "      <td>15</td>\n",
       "    </tr>\n",
       "    <tr>\n",
       "      <th>1</th>\n",
       "      <td>5</td>\n",
       "      <td>3</td>\n",
       "      <td>2</td>\n",
       "      <td>2</td>\n",
       "      <td>3</td>\n",
       "      <td>5</td>\n",
       "      <td>4</td>\n",
       "      <td>19</td>\n",
       "    </tr>\n",
       "    <tr>\n",
       "      <th>2</th>\n",
       "      <td>3</td>\n",
       "      <td>2</td>\n",
       "      <td>1</td>\n",
       "      <td>1</td>\n",
       "      <td>3</td>\n",
       "      <td>3</td>\n",
       "      <td>3</td>\n",
       "      <td>13</td>\n",
       "    </tr>\n",
       "    <tr>\n",
       "      <th>3</th>\n",
       "      <td>5</td>\n",
       "      <td>3</td>\n",
       "      <td>1</td>\n",
       "      <td>1</td>\n",
       "      <td>3</td>\n",
       "      <td>5</td>\n",
       "      <td>3</td>\n",
       "      <td>16</td>\n",
       "    </tr>\n",
       "    <tr>\n",
       "      <th>4</th>\n",
       "      <td>2</td>\n",
       "      <td>2</td>\n",
       "      <td>4</td>\n",
       "      <td>4</td>\n",
       "      <td>3</td>\n",
       "      <td>3</td>\n",
       "      <td>3</td>\n",
       "      <td>19</td>\n",
       "    </tr>\n",
       "    <tr>\n",
       "      <th>...</th>\n",
       "      <td>...</td>\n",
       "      <td>...</td>\n",
       "      <td>...</td>\n",
       "      <td>...</td>\n",
       "      <td>...</td>\n",
       "      <td>...</td>\n",
       "      <td>...</td>\n",
       "      <td>...</td>\n",
       "    </tr>\n",
       "    <tr>\n",
       "      <th>469</th>\n",
       "      <td>4</td>\n",
       "      <td>1</td>\n",
       "      <td>1</td>\n",
       "      <td>1</td>\n",
       "      <td>1</td>\n",
       "      <td>3</td>\n",
       "      <td>1</td>\n",
       "      <td>8</td>\n",
       "    </tr>\n",
       "    <tr>\n",
       "      <th>470</th>\n",
       "      <td>1</td>\n",
       "      <td>1</td>\n",
       "      <td>1</td>\n",
       "      <td>1</td>\n",
       "      <td>3</td>\n",
       "      <td>5</td>\n",
       "      <td>4</td>\n",
       "      <td>15</td>\n",
       "    </tr>\n",
       "    <tr>\n",
       "      <th>471</th>\n",
       "      <td>5</td>\n",
       "      <td>4</td>\n",
       "      <td>3</td>\n",
       "      <td>2</td>\n",
       "      <td>3</td>\n",
       "      <td>1</td>\n",
       "      <td>3</td>\n",
       "      <td>16</td>\n",
       "    </tr>\n",
       "    <tr>\n",
       "      <th>473</th>\n",
       "      <td>2</td>\n",
       "      <td>3</td>\n",
       "      <td>3</td>\n",
       "      <td>3</td>\n",
       "      <td>2</td>\n",
       "      <td>4</td>\n",
       "      <td>3</td>\n",
       "      <td>18</td>\n",
       "    </tr>\n",
       "    <tr>\n",
       "      <th>479</th>\n",
       "      <td>2</td>\n",
       "      <td>1</td>\n",
       "      <td>2</td>\n",
       "      <td>2</td>\n",
       "      <td>1</td>\n",
       "      <td>2</td>\n",
       "      <td>3</td>\n",
       "      <td>11</td>\n",
       "    </tr>\n",
       "  </tbody>\n",
       "</table>\n",
       "<p>340 rows × 8 columns</p>\n",
       "</div>"
      ],
      "text/plain": [
       "     Time_Spent  Mindless Scrolling Frequency  \\\n",
       "0             2                             4   \n",
       "1             5                             3   \n",
       "2             3                             2   \n",
       "3             5                             3   \n",
       "4             2                             2   \n",
       "..          ...                           ...   \n",
       "469           4                             1   \n",
       "470           1                             1   \n",
       "471           5                             4   \n",
       "473           2                             3   \n",
       "479           2                             1   \n",
       "\n",
       "     Social Media distraction Frequency  Restlessness Frequency  \\\n",
       "0                                     2                       2   \n",
       "1                                     2                       2   \n",
       "2                                     1                       1   \n",
       "3                                     1                       1   \n",
       "4                                     4                       4   \n",
       "..                                  ...                     ...   \n",
       "469                                   1                       1   \n",
       "470                                   1                       1   \n",
       "471                                   3                       2   \n",
       "473                                   3                       3   \n",
       "479                                   2                       2   \n",
       "\n",
       "     Worry frequency  Self comparisons frequency  Depressed emotion frequency  \\\n",
       "0                  1                           2                            4   \n",
       "1                  3                           5                            4   \n",
       "2                  3                           3                            3   \n",
       "3                  3                           5                            3   \n",
       "4                  3                           3                            3   \n",
       "..               ...                         ...                          ...   \n",
       "469                1                           3                            1   \n",
       "470                3                           5                            4   \n",
       "471                3                           1                            3   \n",
       "473                2                           4                            3   \n",
       "479                1                           2                            3   \n",
       "\n",
       "     Total Score  \n",
       "0             15  \n",
       "1             19  \n",
       "2             13  \n",
       "3             16  \n",
       "4             19  \n",
       "..           ...  \n",
       "469            8  \n",
       "470           15  \n",
       "471           16  \n",
       "473           18  \n",
       "479           11  \n",
       "\n",
       "[340 rows x 8 columns]"
      ]
     },
     "execution_count": 14,
     "metadata": {},
     "output_type": "execute_result"
    }
   ],
   "source": [
    "# 6 variables determined to be significantly related to Time Spent on Socila Media from chi-sqaure test \n",
    "features = ['Mindless Scrolling Frequency', 'Social Media distraction Frequency', 'Restlessness Frequency', 'Worry frequency', 'Self comparisons frequency', 'Depressed emotion frequency']\n",
    "# drop the other variables\n",
    "CleansedDF=CleansedDF.drop(['Self invalidation frequency','Cluster','Concentration difficulty frequency','Social media validation seeking frequency','Daily activity interest fluctuation frequency','Sleep issue frequency', 'Distracted frequency'], axis=1)\n",
    "\n",
    "#Input Total Score into CleansedDF\n",
    "CleansedDF['Total Score'] = CleansedDF[features].sum(axis=1)\n",
    "CleansedDF\n"
   ]
  },
  {
   "cell_type": "code",
   "execution_count": 15,
   "metadata": {
    "cell_id": "b934007eb0224dfcbc71719e36d24e22",
    "deepnote_cell_type": "code",
    "deepnote_to_be_reexecuted": false,
    "execution_millis": 578,
    "execution_start": 1713966516844,
    "source_hash": "30c78010"
   },
   "outputs": [],
   "source": [
    "#Transform Total Score into Categorical Data stored under Outcome\n",
    "def map_score(score):\n",
    "  if score < 16:\n",
    "    return \"0\"\n",
    "  elif score >= 16:\n",
    "    return \"1\"\n",
    "\n",
    "CleansedDF['Outcome']= CleansedDF['Total Score'].apply(lambda score: map_score(score))\n",
    "CleansedDF['Outcome'] = CleansedDF['Outcome'].astype('int64')"
   ]
  },
  {
   "cell_type": "code",
   "execution_count": 16,
   "metadata": {
    "cell_id": "0f6690653da5423da3a37cc5444238d3",
    "deepnote_cell_type": "code",
    "deepnote_table_loading": false,
    "deepnote_table_state": {
     "filters": [],
     "pageIndex": 4,
     "pageSize": 10,
     "sortBy": []
    },
    "deepnote_to_be_reexecuted": false,
    "execution_millis": 578,
    "execution_start": 1713966516845,
    "source_hash": "976a04df"
   },
   "outputs": [
    {
     "data": {
      "application/vnd.deepnote.dataframe.v3+json": {
       "column_count": 9,
       "columns": [
        {
         "dtype": "int64",
         "name": "Time_Spent",
         "stats": {
          "histogram": [
           {
            "bin_end": 1.4,
            "bin_start": 1,
            "count": 44
           },
           {
            "bin_end": 1.8,
            "bin_start": 1.4,
            "count": 0
           },
           {
            "bin_end": 2.2,
            "bin_start": 1.8,
            "count": 67
           },
           {
            "bin_end": 2.6,
            "bin_start": 2.2,
            "count": 0
           },
           {
            "bin_end": 3,
            "bin_start": 2.6,
            "count": 0
           },
           {
            "bin_end": 3.4000000000000004,
            "bin_start": 3,
            "count": 77
           },
           {
            "bin_end": 3.8000000000000003,
            "bin_start": 3.4000000000000004,
            "count": 0
           },
           {
            "bin_end": 4.2,
            "bin_start": 3.8000000000000003,
            "count": 52
           },
           {
            "bin_end": 4.6,
            "bin_start": 4.2,
            "count": 0
           },
           {
            "bin_end": 5,
            "bin_start": 4.6,
            "count": 100
           }
          ],
          "max": "5",
          "min": "1",
          "nan_count": 0,
          "unique_count": 5
         }
        },
        {
         "dtype": "int64",
         "name": "Mindless Scrolling Frequency",
         "stats": {
          "histogram": [
           {
            "bin_end": 1.3,
            "bin_start": 1,
            "count": 47
           },
           {
            "bin_end": 1.6,
            "bin_start": 1.3,
            "count": 0
           },
           {
            "bin_end": 1.9,
            "bin_start": 1.6,
            "count": 0
           },
           {
            "bin_end": 2.2,
            "bin_start": 1.9,
            "count": 89
           },
           {
            "bin_end": 2.5,
            "bin_start": 2.2,
            "count": 0
           },
           {
            "bin_end": 2.8,
            "bin_start": 2.5,
            "count": 0
           },
           {
            "bin_end": 3.1,
            "bin_start": 2.8,
            "count": 126
           },
           {
            "bin_end": 3.4,
            "bin_start": 3.1,
            "count": 0
           },
           {
            "bin_end": 3.6999999999999997,
            "bin_start": 3.4,
            "count": 0
           },
           {
            "bin_end": 4,
            "bin_start": 3.6999999999999997,
            "count": 78
           }
          ],
          "max": "4",
          "min": "1",
          "nan_count": 0,
          "unique_count": 4
         }
        },
        {
         "dtype": "int64",
         "name": "Social Media distraction Frequency",
         "stats": {
          "histogram": [
           {
            "bin_end": 1.3,
            "bin_start": 1,
            "count": 81
           },
           {
            "bin_end": 1.6,
            "bin_start": 1.3,
            "count": 0
           },
           {
            "bin_end": 1.9,
            "bin_start": 1.6,
            "count": 0
           },
           {
            "bin_end": 2.2,
            "bin_start": 1.9,
            "count": 72
           },
           {
            "bin_end": 2.5,
            "bin_start": 2.2,
            "count": 0
           },
           {
            "bin_end": 2.8,
            "bin_start": 2.5,
            "count": 0
           },
           {
            "bin_end": 3.1,
            "bin_start": 2.8,
            "count": 94
           },
           {
            "bin_end": 3.4,
            "bin_start": 3.1,
            "count": 0
           },
           {
            "bin_end": 3.6999999999999997,
            "bin_start": 3.4,
            "count": 0
           },
           {
            "bin_end": 4,
            "bin_start": 3.6999999999999997,
            "count": 93
           }
          ],
          "max": "4",
          "min": "1",
          "nan_count": 0,
          "unique_count": 4
         }
        },
        {
         "dtype": "int64",
         "name": "Restlessness Frequency",
         "stats": {
          "histogram": [
           {
            "bin_end": 1.3,
            "bin_start": 1,
            "count": 65
           },
           {
            "bin_end": 1.6,
            "bin_start": 1.3,
            "count": 0
           },
           {
            "bin_end": 1.9,
            "bin_start": 1.6,
            "count": 0
           },
           {
            "bin_end": 2.2,
            "bin_start": 1.9,
            "count": 96
           },
           {
            "bin_end": 2.5,
            "bin_start": 2.2,
            "count": 0
           },
           {
            "bin_end": 2.8,
            "bin_start": 2.5,
            "count": 0
           },
           {
            "bin_end": 3.1,
            "bin_start": 2.8,
            "count": 88
           },
           {
            "bin_end": 3.4,
            "bin_start": 3.1,
            "count": 0
           },
           {
            "bin_end": 3.6999999999999997,
            "bin_start": 3.4,
            "count": 0
           },
           {
            "bin_end": 4,
            "bin_start": 3.6999999999999997,
            "count": 91
           }
          ],
          "max": "4",
          "min": "1",
          "nan_count": 0,
          "unique_count": 4
         }
        },
        {
         "dtype": "int64",
         "name": "Worry frequency",
         "stats": {
          "histogram": [
           {
            "bin_end": 1.2,
            "bin_start": 1,
            "count": 119
           },
           {
            "bin_end": 1.4,
            "bin_start": 1.2,
            "count": 0
           },
           {
            "bin_end": 1.6,
            "bin_start": 1.4,
            "count": 0
           },
           {
            "bin_end": 1.8,
            "bin_start": 1.6,
            "count": 0
           },
           {
            "bin_end": 2,
            "bin_start": 1.8,
            "count": 0
           },
           {
            "bin_end": 2.2,
            "bin_start": 2,
            "count": 100
           },
           {
            "bin_end": 2.4000000000000004,
            "bin_start": 2.2,
            "count": 0
           },
           {
            "bin_end": 2.6,
            "bin_start": 2.4000000000000004,
            "count": 0
           },
           {
            "bin_end": 2.8,
            "bin_start": 2.6,
            "count": 0
           },
           {
            "bin_end": 3,
            "bin_start": 2.8,
            "count": 121
           }
          ],
          "max": "3",
          "min": "1",
          "nan_count": 0,
          "unique_count": 3
         }
        },
        {
         "dtype": "int64",
         "name": "Self comparisons frequency",
         "stats": {
          "histogram": [
           {
            "bin_end": 1.4,
            "bin_start": 1,
            "count": 69
           },
           {
            "bin_end": 1.8,
            "bin_start": 1.4,
            "count": 0
           },
           {
            "bin_end": 2.2,
            "bin_start": 1.8,
            "count": 76
           },
           {
            "bin_end": 2.6,
            "bin_start": 2.2,
            "count": 0
           },
           {
            "bin_end": 3,
            "bin_start": 2.6,
            "count": 0
           },
           {
            "bin_end": 3.4000000000000004,
            "bin_start": 3,
            "count": 69
           },
           {
            "bin_end": 3.8000000000000003,
            "bin_start": 3.4000000000000004,
            "count": 0
           },
           {
            "bin_end": 4.2,
            "bin_start": 3.8000000000000003,
            "count": 53
           },
           {
            "bin_end": 4.6,
            "bin_start": 4.2,
            "count": 0
           },
           {
            "bin_end": 5,
            "bin_start": 4.6,
            "count": 73
           }
          ],
          "max": "5",
          "min": "1",
          "nan_count": 0,
          "unique_count": 5
         }
        },
        {
         "dtype": "int64",
         "name": "Depressed emotion frequency",
         "stats": {
          "histogram": [
           {
            "bin_end": 1.3,
            "bin_start": 1,
            "count": 71
           },
           {
            "bin_end": 1.6,
            "bin_start": 1.3,
            "count": 0
           },
           {
            "bin_end": 1.9,
            "bin_start": 1.6,
            "count": 0
           },
           {
            "bin_end": 2.2,
            "bin_start": 1.9,
            "count": 88
           },
           {
            "bin_end": 2.5,
            "bin_start": 2.2,
            "count": 0
           },
           {
            "bin_end": 2.8,
            "bin_start": 2.5,
            "count": 0
           },
           {
            "bin_end": 3.1,
            "bin_start": 2.8,
            "count": 94
           },
           {
            "bin_end": 3.4,
            "bin_start": 3.1,
            "count": 0
           },
           {
            "bin_end": 3.6999999999999997,
            "bin_start": 3.4,
            "count": 0
           },
           {
            "bin_end": 4,
            "bin_start": 3.6999999999999997,
            "count": 87
           }
          ],
          "max": "4",
          "min": "1",
          "nan_count": 0,
          "unique_count": 4
         }
        },
        {
         "dtype": "int64",
         "name": "Total Score",
         "stats": {
          "histogram": [
           {
            "bin_end": 7.8,
            "bin_start": 6,
            "count": 10
           },
           {
            "bin_end": 9.6,
            "bin_start": 7.8,
            "count": 22
           },
           {
            "bin_end": 11.4,
            "bin_start": 9.6,
            "count": 34
           },
           {
            "bin_end": 13.2,
            "bin_start": 11.4,
            "count": 42
           },
           {
            "bin_end": 15,
            "bin_start": 13.2,
            "count": 26
           },
           {
            "bin_end": 16.8,
            "bin_start": 15,
            "count": 68
           },
           {
            "bin_end": 18.6,
            "bin_start": 16.8,
            "count": 53
           },
           {
            "bin_end": 20.4,
            "bin_start": 18.6,
            "count": 45
           },
           {
            "bin_end": 22.2,
            "bin_start": 20.4,
            "count": 27
           },
           {
            "bin_end": 24,
            "bin_start": 22.2,
            "count": 13
           }
          ],
          "max": "24",
          "min": "6",
          "nan_count": 0,
          "unique_count": 19
         }
        },
        {
         "dtype": "int64",
         "name": "Outcome",
         "stats": {
          "histogram": [
           {
            "bin_end": 0.1,
            "bin_start": 0,
            "count": 171
           },
           {
            "bin_end": 0.2,
            "bin_start": 0.1,
            "count": 0
           },
           {
            "bin_end": 0.30000000000000004,
            "bin_start": 0.2,
            "count": 0
           },
           {
            "bin_end": 0.4,
            "bin_start": 0.30000000000000004,
            "count": 0
           },
           {
            "bin_end": 0.5,
            "bin_start": 0.4,
            "count": 0
           },
           {
            "bin_end": 0.6000000000000001,
            "bin_start": 0.5,
            "count": 0
           },
           {
            "bin_end": 0.7000000000000001,
            "bin_start": 0.6000000000000001,
            "count": 0
           },
           {
            "bin_end": 0.8,
            "bin_start": 0.7000000000000001,
            "count": 0
           },
           {
            "bin_end": 0.9,
            "bin_start": 0.8,
            "count": 0
           },
           {
            "bin_end": 1,
            "bin_start": 0.9,
            "count": 169
           }
          ],
          "max": "1",
          "min": "0",
          "nan_count": 0,
          "unique_count": 2
         }
        },
        {
         "dtype": "int64",
         "name": "_deepnote_index_column"
        }
       ],
       "row_count": 340,
       "rows": [
        {
         "Depressed emotion frequency": 4,
         "Mindless Scrolling Frequency": 2,
         "Outcome": 1,
         "Restlessness Frequency": 3,
         "Self comparisons frequency": 5,
         "Social Media distraction Frequency": 4,
         "Time_Spent": 1,
         "Total Score": 21,
         "Worry frequency": 3,
         "_deepnote_index_column": 52
        },
        {
         "Depressed emotion frequency": 4,
         "Mindless Scrolling Frequency": 1,
         "Outcome": 1,
         "Restlessness Frequency": 4,
         "Self comparisons frequency": 3,
         "Social Media distraction Frequency": 4,
         "Time_Spent": 5,
         "Total Score": 18,
         "Worry frequency": 2,
         "_deepnote_index_column": 55
        },
        {
         "Depressed emotion frequency": 2,
         "Mindless Scrolling Frequency": 2,
         "Outcome": 0,
         "Restlessness Frequency": 1,
         "Self comparisons frequency": 1,
         "Social Media distraction Frequency": 1,
         "Time_Spent": 5,
         "Total Score": 9,
         "Worry frequency": 2,
         "_deepnote_index_column": 56
        },
        {
         "Depressed emotion frequency": 3,
         "Mindless Scrolling Frequency": 2,
         "Outcome": 0,
         "Restlessness Frequency": 2,
         "Self comparisons frequency": 3,
         "Social Media distraction Frequency": 1,
         "Time_Spent": 2,
         "Total Score": 13,
         "Worry frequency": 2,
         "_deepnote_index_column": 57
        },
        {
         "Depressed emotion frequency": 4,
         "Mindless Scrolling Frequency": 3,
         "Outcome": 1,
         "Restlessness Frequency": 2,
         "Self comparisons frequency": 3,
         "Social Media distraction Frequency": 4,
         "Time_Spent": 2,
         "Total Score": 18,
         "Worry frequency": 2,
         "_deepnote_index_column": 58
        },
        {
         "Depressed emotion frequency": 1,
         "Mindless Scrolling Frequency": 1,
         "Outcome": 0,
         "Restlessness Frequency": 1,
         "Self comparisons frequency": 1,
         "Social Media distraction Frequency": 1,
         "Time_Spent": 1,
         "Total Score": 6,
         "Worry frequency": 1,
         "_deepnote_index_column": 59
        },
        {
         "Depressed emotion frequency": 3,
         "Mindless Scrolling Frequency": 3,
         "Outcome": 0,
         "Restlessness Frequency": 3,
         "Self comparisons frequency": 2,
         "Social Media distraction Frequency": 2,
         "Time_Spent": 5,
         "Total Score": 15,
         "Worry frequency": 2,
         "_deepnote_index_column": 60
        },
        {
         "Depressed emotion frequency": 3,
         "Mindless Scrolling Frequency": 1,
         "Outcome": 0,
         "Restlessness Frequency": 1,
         "Self comparisons frequency": 5,
         "Social Media distraction Frequency": 1,
         "Time_Spent": 1,
         "Total Score": 14,
         "Worry frequency": 3,
         "_deepnote_index_column": 61
        },
        {
         "Depressed emotion frequency": 4,
         "Mindless Scrolling Frequency": 3,
         "Outcome": 1,
         "Restlessness Frequency": 3,
         "Self comparisons frequency": 1,
         "Social Media distraction Frequency": 3,
         "Time_Spent": 5,
         "Total Score": 16,
         "Worry frequency": 2,
         "_deepnote_index_column": 62
        },
        {
         "Depressed emotion frequency": 1,
         "Mindless Scrolling Frequency": 1,
         "Outcome": 0,
         "Restlessness Frequency": 1,
         "Self comparisons frequency": 1,
         "Social Media distraction Frequency": 2,
         "Time_Spent": 2,
         "Total Score": 7,
         "Worry frequency": 1,
         "_deepnote_index_column": 64
        }
       ]
      },
      "text/html": [
       "<div>\n",
       "<style scoped>\n",
       "    .dataframe tbody tr th:only-of-type {\n",
       "        vertical-align: middle;\n",
       "    }\n",
       "\n",
       "    .dataframe tbody tr th {\n",
       "        vertical-align: top;\n",
       "    }\n",
       "\n",
       "    .dataframe thead th {\n",
       "        text-align: right;\n",
       "    }\n",
       "</style>\n",
       "<table border=\"1\" class=\"dataframe\">\n",
       "  <thead>\n",
       "    <tr style=\"text-align: right;\">\n",
       "      <th></th>\n",
       "      <th>Time_Spent</th>\n",
       "      <th>Mindless Scrolling Frequency</th>\n",
       "      <th>Social Media distraction Frequency</th>\n",
       "      <th>Restlessness Frequency</th>\n",
       "      <th>Worry frequency</th>\n",
       "      <th>Self comparisons frequency</th>\n",
       "      <th>Depressed emotion frequency</th>\n",
       "      <th>Total Score</th>\n",
       "      <th>Outcome</th>\n",
       "    </tr>\n",
       "  </thead>\n",
       "  <tbody>\n",
       "    <tr>\n",
       "      <th>0</th>\n",
       "      <td>2</td>\n",
       "      <td>4</td>\n",
       "      <td>2</td>\n",
       "      <td>2</td>\n",
       "      <td>1</td>\n",
       "      <td>2</td>\n",
       "      <td>4</td>\n",
       "      <td>15</td>\n",
       "      <td>0</td>\n",
       "    </tr>\n",
       "    <tr>\n",
       "      <th>1</th>\n",
       "      <td>5</td>\n",
       "      <td>3</td>\n",
       "      <td>2</td>\n",
       "      <td>2</td>\n",
       "      <td>3</td>\n",
       "      <td>5</td>\n",
       "      <td>4</td>\n",
       "      <td>19</td>\n",
       "      <td>1</td>\n",
       "    </tr>\n",
       "    <tr>\n",
       "      <th>2</th>\n",
       "      <td>3</td>\n",
       "      <td>2</td>\n",
       "      <td>1</td>\n",
       "      <td>1</td>\n",
       "      <td>3</td>\n",
       "      <td>3</td>\n",
       "      <td>3</td>\n",
       "      <td>13</td>\n",
       "      <td>0</td>\n",
       "    </tr>\n",
       "    <tr>\n",
       "      <th>3</th>\n",
       "      <td>5</td>\n",
       "      <td>3</td>\n",
       "      <td>1</td>\n",
       "      <td>1</td>\n",
       "      <td>3</td>\n",
       "      <td>5</td>\n",
       "      <td>3</td>\n",
       "      <td>16</td>\n",
       "      <td>1</td>\n",
       "    </tr>\n",
       "    <tr>\n",
       "      <th>4</th>\n",
       "      <td>2</td>\n",
       "      <td>2</td>\n",
       "      <td>4</td>\n",
       "      <td>4</td>\n",
       "      <td>3</td>\n",
       "      <td>3</td>\n",
       "      <td>3</td>\n",
       "      <td>19</td>\n",
       "      <td>1</td>\n",
       "    </tr>\n",
       "    <tr>\n",
       "      <th>...</th>\n",
       "      <td>...</td>\n",
       "      <td>...</td>\n",
       "      <td>...</td>\n",
       "      <td>...</td>\n",
       "      <td>...</td>\n",
       "      <td>...</td>\n",
       "      <td>...</td>\n",
       "      <td>...</td>\n",
       "      <td>...</td>\n",
       "    </tr>\n",
       "    <tr>\n",
       "      <th>469</th>\n",
       "      <td>4</td>\n",
       "      <td>1</td>\n",
       "      <td>1</td>\n",
       "      <td>1</td>\n",
       "      <td>1</td>\n",
       "      <td>3</td>\n",
       "      <td>1</td>\n",
       "      <td>8</td>\n",
       "      <td>0</td>\n",
       "    </tr>\n",
       "    <tr>\n",
       "      <th>470</th>\n",
       "      <td>1</td>\n",
       "      <td>1</td>\n",
       "      <td>1</td>\n",
       "      <td>1</td>\n",
       "      <td>3</td>\n",
       "      <td>5</td>\n",
       "      <td>4</td>\n",
       "      <td>15</td>\n",
       "      <td>0</td>\n",
       "    </tr>\n",
       "    <tr>\n",
       "      <th>471</th>\n",
       "      <td>5</td>\n",
       "      <td>4</td>\n",
       "      <td>3</td>\n",
       "      <td>2</td>\n",
       "      <td>3</td>\n",
       "      <td>1</td>\n",
       "      <td>3</td>\n",
       "      <td>16</td>\n",
       "      <td>1</td>\n",
       "    </tr>\n",
       "    <tr>\n",
       "      <th>473</th>\n",
       "      <td>2</td>\n",
       "      <td>3</td>\n",
       "      <td>3</td>\n",
       "      <td>3</td>\n",
       "      <td>2</td>\n",
       "      <td>4</td>\n",
       "      <td>3</td>\n",
       "      <td>18</td>\n",
       "      <td>1</td>\n",
       "    </tr>\n",
       "    <tr>\n",
       "      <th>479</th>\n",
       "      <td>2</td>\n",
       "      <td>1</td>\n",
       "      <td>2</td>\n",
       "      <td>2</td>\n",
       "      <td>1</td>\n",
       "      <td>2</td>\n",
       "      <td>3</td>\n",
       "      <td>11</td>\n",
       "      <td>0</td>\n",
       "    </tr>\n",
       "  </tbody>\n",
       "</table>\n",
       "<p>340 rows × 9 columns</p>\n",
       "</div>"
      ],
      "text/plain": [
       "     Time_Spent  Mindless Scrolling Frequency  \\\n",
       "0             2                             4   \n",
       "1             5                             3   \n",
       "2             3                             2   \n",
       "3             5                             3   \n",
       "4             2                             2   \n",
       "..          ...                           ...   \n",
       "469           4                             1   \n",
       "470           1                             1   \n",
       "471           5                             4   \n",
       "473           2                             3   \n",
       "479           2                             1   \n",
       "\n",
       "     Social Media distraction Frequency  Restlessness Frequency  \\\n",
       "0                                     2                       2   \n",
       "1                                     2                       2   \n",
       "2                                     1                       1   \n",
       "3                                     1                       1   \n",
       "4                                     4                       4   \n",
       "..                                  ...                     ...   \n",
       "469                                   1                       1   \n",
       "470                                   1                       1   \n",
       "471                                   3                       2   \n",
       "473                                   3                       3   \n",
       "479                                   2                       2   \n",
       "\n",
       "     Worry frequency  Self comparisons frequency  Depressed emotion frequency  \\\n",
       "0                  1                           2                            4   \n",
       "1                  3                           5                            4   \n",
       "2                  3                           3                            3   \n",
       "3                  3                           5                            3   \n",
       "4                  3                           3                            3   \n",
       "..               ...                         ...                          ...   \n",
       "469                1                           3                            1   \n",
       "470                3                           5                            4   \n",
       "471                3                           1                            3   \n",
       "473                2                           4                            3   \n",
       "479                1                           2                            3   \n",
       "\n",
       "     Total Score  Outcome  \n",
       "0             15        0  \n",
       "1             19        1  \n",
       "2             13        0  \n",
       "3             16        1  \n",
       "4             19        1  \n",
       "..           ...      ...  \n",
       "469            8        0  \n",
       "470           15        0  \n",
       "471           16        1  \n",
       "473           18        1  \n",
       "479           11        0  \n",
       "\n",
       "[340 rows x 9 columns]"
      ]
     },
     "execution_count": 16,
     "metadata": {},
     "output_type": "execute_result"
    }
   ],
   "source": [
    "CleansedDF"
   ]
  },
  {
   "cell_type": "code",
   "execution_count": 17,
   "metadata": {
    "cell_id": "80c4a1488c4e4c6ea01851b20a7f173b",
    "deepnote_cell_type": "code",
    "deepnote_to_be_reexecuted": false,
    "execution_millis": 540,
    "execution_start": 1713966516883,
    "source_hash": "51c96e4f"
   },
   "outputs": [
    {
     "name": "stdout",
     "output_type": "stream",
     "text": [
      "Accuracy: 0.9019607843137255\n"
     ]
    }
   ],
   "source": [
    "X = CleansedDF[features]\n",
    "y = CleansedDF['Outcome']\n",
    "\n",
    "X_train, X_test, y_train, y_test = train_test_split(X, y, test_size=0.15, random_state=42)\n",
    "\n",
    "svm_model = SVC(kernel='rbf', C=1.0, gamma='scale', random_state=42)\n",
    "svm_model.fit(X_train, y_train)\n",
    "\n",
    "\n",
    "# Model Prediction against test set\n",
    "predictions = svm_model.predict(X_test)\n",
    "\n",
    "# Model Evaluation\n",
    "accuracy = accuracy_score(y_test, predictions)\n",
    "print(\"Accuracy:\",accuracy)"
   ]
  },
  {
   "cell_type": "markdown",
   "metadata": {
    "cell_id": "3655472f3ea34654b36667cc32108dd0",
    "deepnote_cell_type": "text-cell-h2",
    "formattedRanges": []
   },
   "source": [
    "## Analysis of results"
   ]
  },
  {
   "cell_type": "markdown",
   "metadata": {
    "cell_id": "5205fa94aa7346b18a15962dee32029c",
    "deepnote_cell_type": "markdown"
   },
   "source": [
    "With an accuracy of 0.902, our model is fairly accurate in classifying if the user belongs in cluster 0, or 1 and 2, based off our K-Modes clustering. \n",
    "\n",
    "Below is our implementation of the SVM, that will retrive the user input and determine which cluster they belong in. Please do give this a try yourself, and see if you should be reducing your social media usage,"
   ]
  },
  {
   "cell_type": "code",
   "execution_count": 18,
   "metadata": {
    "cell_id": "cd42cc261fa543b0b74f956623c2a0a6",
    "deepnote_cell_type": "code",
    "deepnote_to_be_reexecuted": false,
    "execution_millis": 63923,
    "execution_start": 1713966516917,
    "source_hash": "41fdda17"
   },
   "outputs": [
    {
     "name": "stdout",
     "output_type": "stream",
     "text": [
      "Answer all the questions from a scale of 1-5\n",
      "\n",
      "Prediction Result:\n",
      "Based on the provided information, you are not at risk of mental health illness over social media.\n"
     ]
    }
   ],
   "source": [
    "# Prepare user data for prediction\n",
    "def user_submit():\n",
    "    #retrive input, and convert all of them to our normalized data form.\n",
    "    print(\"Answer all the questions from a scale of 1-5\\n\")\n",
    "    msf = convert_msf(int(input(\"How often do you find yourself using Social media without a specific purpose?\\n\")))\n",
    "    smd= convert_smdf(int(input(\"How often do you get distracted by Social media when you are busy doing something?\\n\")))\n",
    "    rf= convert_rf(int(input(\"How often you feel restless if you haven't used Social media in a while?\\n\")))\n",
    "    wf= convert_wf(int(input(\"How much are you bothered by worries?\\n\")))\n",
    "    scf= convert_scf(int(input(\"How often do you compare yourself to other successful people through the use of social media?\\n\")))\n",
    "    de= convert_def(int(input(\"How often do you feel depressed or down?\\n\")))\n",
    "\n",
    "    # Create a DataFrame using user input\n",
    "    usr = pd.DataFrame({\n",
    "        \"Mindless Scrolling Frequency\":[msf],\n",
    "        \"Social Media distraction Frequency\":[smd],\n",
    "        \"Restlessness Frequency\":[rf],\n",
    "        \"Worry frequency\":[wf],\n",
    "        \"Self comparisons frequency\":[scf],\n",
    "        \"Depressed emotion frequency\":[de]\n",
    "    })\n",
    "    # Make predictions using the loaded model\n",
    "    prediction = svm_model.predict(usr)\n",
    "    \n",
    "    if prediction == 1:\n",
    "        prediction_text = \"at risk\"\n",
    "    else:\n",
    "        prediction_text = \"not at risk\"\n",
    "    \n",
    "    print(\"Prediction Result:\")\n",
    "    print(\"Based on the provided information, you are\", prediction_text, \"of mental health illness over social media.\")\n",
    "\n",
    "user_submit()"
   ]
  },
  {
   "cell_type": "markdown",
   "metadata": {
    "cell_id": "1a099b00e5e44dcd8486f4304f43b386",
    "deepnote_cell_type": "text-cell-h2",
    "formattedRanges": []
   },
   "source": [
    "## Limitations "
   ]
  },
  {
   "cell_type": "markdown",
   "metadata": {
    "cell_id": "efd082e2f9e44011bd93bf9a8a8119ea",
    "deepnote_cell_type": "markdown"
   },
   "source": [
    "The flaw of SVM is that it takes the assumption where all items have the same weightage. We will now explore 1 more model, namely the Multi Logistic Regression, which will take the idea that every input has a weightage, and provide a regression model for it."
   ]
  },
  {
   "cell_type": "markdown",
   "metadata": {
    "cell_id": "c101c144653443ac9c09426cfe8e193c",
    "deepnote_cell_type": "markdown"
   },
   "source": [
    "# Part 4: Multinomial Logistic Regression"
   ]
  },
  {
   "cell_type": "markdown",
   "metadata": {
    "cell_id": "96f3423533f84093b081346355939990",
    "deepnote_cell_type": "text-cell-p",
    "formattedRanges": []
   },
   "source": [
    "Multinomial logistic regression is a statistical technique used to model relationships between multiple categorical dependent and independent variables. It allows predicting the probability of each category of the dependent variable, thereby classifying observations or categories."
   ]
  },
  {
   "cell_type": "markdown",
   "metadata": {
    "cell_id": "9ef754b8629b4de8b9698d94e6f16c79",
    "deepnote_cell_type": "text-cell-p",
    "formattedRanges": []
   },
   "source": [
    "Here we set the independent variable to time (T) to observe the relationship between the different time people spend on social media with each dependent variable"
   ]
  },
  {
   "cell_type": "code",
   "execution_count": 19,
   "metadata": {
    "cell_id": "cfb059fdee96482392e6a66fb44e5483",
    "deepnote_cell_type": "code",
    "deepnote_to_be_reexecuted": false,
    "execution_millis": 344,
    "execution_start": 1713966580851,
    "source_hash": "b6ac293f"
   },
   "outputs": [
    {
     "name": "stdout",
     "output_type": "stream",
     "text": [
      "Remaining cols in X\n",
      "['Mindless Scrolling Frequency', 'Social Media distraction Frequency', 'Restlessness Frequency', 'Worry frequency', 'Self comparisons frequency', 'Depressed emotion frequency']\n",
      "{'C': 1.0, 'class_weight': None, 'dual': False, 'fit_intercept': True, 'intercept_scaling': 1, 'l1_ratio': None, 'max_iter': 100, 'multi_class': 'multinomial', 'n_jobs': None, 'penalty': 'none', 'random_state': 42, 'solver': 'newton-cg', 'tol': 0.0001, 'verbose': 0, 'warm_start': False}\n",
      "Optimization terminated successfully.\n",
      "         Current function value: 1.440295\n",
      "         Iterations 6\n"
     ]
    },
    {
     "data": {
      "text/html": [
       "<table class=\"simpletable\">\n",
       "<tr>\n",
       "        <td>Model:</td>             <td>MNLogit</td>          <td>Method:</td>          <td>MLE</td>   \n",
       "</tr>\n",
       "<tr>\n",
       "  <td>Dependent Variable:</td>    <td>Time_Spent</td>    <td>Pseudo R-squared:</td>    <td>0.084</td>  \n",
       "</tr>\n",
       "<tr>\n",
       "         <td>Date:</td>        <td>2024-04-24 13:49</td>       <td>AIC:</td>         <td>888.4906</td> \n",
       "</tr>\n",
       "<tr>\n",
       "   <td>No. Observations:</td>         <td>289</td>             <td>BIC:</td>         <td>991.1505</td> \n",
       "</tr>\n",
       "<tr>\n",
       "       <td>Df Model:</td>             <td>24</td>         <td>Log-Likelihood:</td>    <td>-416.25</td> \n",
       "</tr>\n",
       "<tr>\n",
       "     <td>Df Residuals:</td>           <td>261</td>           <td>LL-Null:</td>        <td>-454.63</td> \n",
       "</tr>\n",
       "<tr>\n",
       "      <td>Converged:</td>           <td>1.0000</td>        <td>LLR p-value:</td>    <td>1.9731e-07</td>\n",
       "</tr>\n",
       "<tr>\n",
       "    <td>No. Iterations:</td>        <td>6.0000</td>           <td>Scale:</td>         <td>1.0000</td>  \n",
       "</tr>\n",
       "</table>\n",
       "<table class=\"simpletable\">\n",
       "<tr>\n",
       "            <th>Time_Spent = 0</th>            <th>Coef.</th>  <th>Std.Err.</th>    <th>t</th>     <th>P>|t|</th> <th>[0.025</th>  <th>0.975]</th> \n",
       "</tr>\n",
       "<tr>\n",
       "                 <td>const</td>               <td>-2.3903</td>  <td>0.8185</td>  <td>-2.9202</td> <td>0.0035</td> <td>-3.9946</td> <td>-0.7860</td>\n",
       "</tr>\n",
       "<tr>\n",
       "     <td>Mindless Scrolling Frequency</td>    <td>0.4605</td>   <td>0.2574</td>  <td>1.7891</td>  <td>0.0736</td> <td>-0.0440</td> <td>0.9649</td> \n",
       "</tr>\n",
       "<tr>\n",
       "  <td>Social Media distraction Frequency</td> <td>0.1844</td>   <td>0.2510</td>  <td>0.7345</td>  <td>0.4627</td> <td>-0.3076</td> <td>0.6763</td> \n",
       "</tr>\n",
       "<tr>\n",
       "        <td>Restlessness Frequency</td>       <td>0.6892</td>   <td>0.2751</td>  <td>2.5053</td>  <td>0.0122</td> <td>0.1500</td>  <td>1.2285</td> \n",
       "</tr>\n",
       "<tr>\n",
       "            <td>Worry frequency</td>          <td>-0.2630</td>  <td>0.3257</td>  <td>-0.8073</td> <td>0.4195</td> <td>-0.9013</td> <td>0.3754</td> \n",
       "</tr>\n",
       "<tr>\n",
       "      <td>Self comparisons frequency</td>     <td>-0.1337</td>  <td>0.1851</td>  <td>-0.7224</td> <td>0.4701</td> <td>-0.4964</td> <td>0.2290</td> \n",
       "</tr>\n",
       "<tr>\n",
       "      <td>Depressed emotion frequency</td>    <td>0.2534</td>   <td>0.2512</td>  <td>1.0088</td>  <td>0.3131</td> <td>-0.2389</td> <td>0.7456</td> \n",
       "</tr>\n",
       "</table>\n",
       "<table class=\"simpletable\">\n",
       "<tr>\n",
       "            <th>Time_Spent = 1</th>            <th>Coef.</th>  <th>Std.Err.</th>    <th>t</th>     <th>P>|t|</th> <th>[0.025</th>  <th>0.975]</th> \n",
       "</tr>\n",
       "<tr>\n",
       "                 <td>const</td>               <td>-2.8599</td>  <td>0.8070</td>  <td>-3.5441</td> <td>0.0004</td> <td>-4.4415</td> <td>-1.2783</td>\n",
       "</tr>\n",
       "<tr>\n",
       "     <td>Mindless Scrolling Frequency</td>    <td>0.6869</td>   <td>0.2500</td>  <td>2.7480</td>  <td>0.0060</td> <td>0.1970</td>  <td>1.1768</td> \n",
       "</tr>\n",
       "<tr>\n",
       "  <td>Social Media distraction Frequency</td> <td>0.0763</td>   <td>0.2440</td>  <td>0.3129</td>  <td>0.7544</td> <td>-0.4018</td> <td>0.5545</td> \n",
       "</tr>\n",
       "<tr>\n",
       "        <td>Restlessness Frequency</td>       <td>0.4294</td>   <td>0.2650</td>  <td>1.6203</td>  <td>0.1052</td> <td>-0.0900</td> <td>0.9487</td> \n",
       "</tr>\n",
       "<tr>\n",
       "            <td>Worry frequency</td>          <td>0.1603</td>   <td>0.3144</td>  <td>0.5098</td>  <td>0.6102</td> <td>-0.4559</td> <td>0.7765</td> \n",
       "</tr>\n",
       "<tr>\n",
       "      <td>Self comparisons frequency</td>     <td>0.1447</td>   <td>0.1745</td>  <td>0.8289</td>  <td>0.4072</td> <td>-0.1974</td> <td>0.4868</td> \n",
       "</tr>\n",
       "<tr>\n",
       "      <td>Depressed emotion frequency</td>    <td>-0.0010</td>  <td>0.2441</td>  <td>-0.0041</td> <td>0.9968</td> <td>-0.4794</td> <td>0.4774</td> \n",
       "</tr>\n",
       "</table>\n",
       "<table class=\"simpletable\">\n",
       "<tr>\n",
       "            <th>Time_Spent = 2</th>            <th>Coef.</th>  <th>Std.Err.</th>    <th>t</th>     <th>P>|t|</th> <th>[0.025</th>  <th>0.975]</th> \n",
       "</tr>\n",
       "<tr>\n",
       "                 <td>const</td>               <td>-3.0484</td>  <td>0.8751</td>  <td>-3.4833</td> <td>0.0005</td> <td>-4.7637</td> <td>-1.3332</td>\n",
       "</tr>\n",
       "<tr>\n",
       "     <td>Mindless Scrolling Frequency</td>    <td>0.6124</td>   <td>0.2672</td>  <td>2.2921</td>  <td>0.0219</td> <td>0.0887</td>  <td>1.1361</td> \n",
       "</tr>\n",
       "<tr>\n",
       "  <td>Social Media distraction Frequency</td> <td>0.2484</td>   <td>0.2584</td>  <td>0.9610</td>  <td>0.3365</td> <td>-0.2582</td> <td>0.7549</td> \n",
       "</tr>\n",
       "<tr>\n",
       "        <td>Restlessness Frequency</td>       <td>0.6843</td>   <td>0.2811</td>  <td>2.4339</td>  <td>0.0149</td> <td>0.1333</td>  <td>1.2353</td> \n",
       "</tr>\n",
       "<tr>\n",
       "            <td>Worry frequency</td>          <td>-0.3189</td>  <td>0.3373</td>  <td>-0.9453</td> <td>0.3445</td> <td>-0.9800</td> <td>0.3423</td> \n",
       "</tr>\n",
       "<tr>\n",
       "      <td>Self comparisons frequency</td>     <td>0.0566</td>   <td>0.1904</td>  <td>0.2972</td>  <td>0.7663</td> <td>-0.3166</td> <td>0.4297</td> \n",
       "</tr>\n",
       "<tr>\n",
       "      <td>Depressed emotion frequency</td>    <td>0.0676</td>   <td>0.2599</td>  <td>0.2600</td>  <td>0.7948</td> <td>-0.4419</td> <td>0.5771</td> \n",
       "</tr>\n",
       "</table>\n",
       "<table class=\"simpletable\">\n",
       "<tr>\n",
       "            <th>Time_Spent = 3</th>            <th>Coef.</th>  <th>Std.Err.</th>    <th>t</th>     <th>P>|t|</th> <th>[0.025</th>  <th>0.975]</th> \n",
       "</tr>\n",
       "<tr>\n",
       "                 <td>const</td>               <td>-4.5876</td>  <td>0.8820</td>  <td>-5.2012</td> <td>0.0000</td> <td>-6.3163</td> <td>-2.8589</td>\n",
       "</tr>\n",
       "<tr>\n",
       "     <td>Mindless Scrolling Frequency</td>    <td>0.9481</td>   <td>0.2555</td>  <td>3.7112</td>  <td>0.0002</td> <td>0.4474</td>  <td>1.4489</td> \n",
       "</tr>\n",
       "<tr>\n",
       "  <td>Social Media distraction Frequency</td> <td>0.0440</td>   <td>0.2436</td>  <td>0.1807</td>  <td>0.8566</td> <td>-0.4335</td> <td>0.5215</td> \n",
       "</tr>\n",
       "<tr>\n",
       "        <td>Restlessness Frequency</td>       <td>0.9185</td>   <td>0.2681</td>  <td>3.4261</td>  <td>0.0006</td> <td>0.3931</td>  <td>1.4440</td> \n",
       "</tr>\n",
       "<tr>\n",
       "            <td>Worry frequency</td>          <td>0.0813</td>   <td>0.3163</td>  <td>0.2571</td>  <td>0.7971</td> <td>-0.5386</td> <td>0.7012</td> \n",
       "</tr>\n",
       "<tr>\n",
       "      <td>Self comparisons frequency</td>     <td>-0.0533</td>  <td>0.1773</td>  <td>-0.3008</td> <td>0.7636</td> <td>-0.4009</td> <td>0.2942</td> \n",
       "</tr>\n",
       "<tr>\n",
       "      <td>Depressed emotion frequency</td>    <td>0.2755</td>   <td>0.2456</td>  <td>1.1217</td>  <td>0.2620</td> <td>-0.2059</td> <td>0.7568</td> \n",
       "</tr>\n",
       "</table><br/>\n"
      ],
      "text/latex": [
       "\\begin{table}\n",
       "\\caption{Results: MNLogit}\n",
       "\\label{}\n",
       "\\begin{center}\n",
       "\\begin{tabular}{llll}\n",
       "\\hline\n",
       "Model:              & MNLogit          & Method:           & MLE         \\\\\n",
       "Dependent Variable: & Time\\_Spent      & Pseudo R-squared: & 0.084       \\\\\n",
       "Date:               & 2024-04-24 13:49 & AIC:              & 888.4906    \\\\\n",
       "No. Observations:   & 289              & BIC:              & 991.1505    \\\\\n",
       "Df Model:           & 24               & Log-Likelihood:   & -416.25     \\\\\n",
       "Df Residuals:       & 261              & LL-Null:          & -454.63     \\\\\n",
       "Converged:          & 1.0000           & LLR p-value:      & 1.9731e-07  \\\\\n",
       "No. Iterations:     & 6.0000           & Scale:            & 1.0000      \\\\\n",
       "\\hline\n",
       "\\end{tabular}\n",
       "\\end{center}\n",
       "\n",
       "\\begin{center}\n",
       "\\begin{tabular}{rrrrrrr}\n",
       "\\hline\n",
       "                   Time\\_Spent = 0 &   Coef. & Std.Err. &       t & P$> |$t$|$ &  [0.025 &  0.975]  \\\\\n",
       "\\hline\n",
       "                             const & -2.3903 &   0.8185 & -2.9202 &      0.0035 & -3.9946 & -0.7860  \\\\\n",
       "      Mindless Scrolling Frequency &  0.4605 &   0.2574 &  1.7891 &      0.0736 & -0.0440 &  0.9649  \\\\\n",
       "Social Media distraction Frequency &  0.1844 &   0.2510 &  0.7345 &      0.4627 & -0.3076 &  0.6763  \\\\\n",
       "            Restlessness Frequency &  0.6892 &   0.2751 &  2.5053 &      0.0122 &  0.1500 &  1.2285  \\\\\n",
       "                   Worry frequency & -0.2630 &   0.3257 & -0.8073 &      0.4195 & -0.9013 &  0.3754  \\\\\n",
       "        Self comparisons frequency & -0.1337 &   0.1851 & -0.7224 &      0.4701 & -0.4964 &  0.2290  \\\\\n",
       "       Depressed emotion frequency &  0.2534 &   0.2512 &  1.0088 &      0.3131 & -0.2389 &  0.7456  \\\\\n",
       "\\hline\n",
       "\\end{tabular}\n",
       "\\end{center}\n",
       "\n",
       "\\begin{center}\n",
       "\\begin{tabular}{rrrrrrr}\n",
       "\\hline\n",
       "                   Time\\_Spent = 1 &   Coef. & Std.Err. &       t & P$> |$t$|$ &  [0.025 &  0.975]  \\\\\n",
       "\\hline\n",
       "                             const & -2.8599 &   0.8070 & -3.5441 &      0.0004 & -4.4415 & -1.2783  \\\\\n",
       "      Mindless Scrolling Frequency &  0.6869 &   0.2500 &  2.7480 &      0.0060 &  0.1970 &  1.1768  \\\\\n",
       "Social Media distraction Frequency &  0.0763 &   0.2440 &  0.3129 &      0.7544 & -0.4018 &  0.5545  \\\\\n",
       "            Restlessness Frequency &  0.4294 &   0.2650 &  1.6203 &      0.1052 & -0.0900 &  0.9487  \\\\\n",
       "                   Worry frequency &  0.1603 &   0.3144 &  0.5098 &      0.6102 & -0.4559 &  0.7765  \\\\\n",
       "        Self comparisons frequency &  0.1447 &   0.1745 &  0.8289 &      0.4072 & -0.1974 &  0.4868  \\\\\n",
       "       Depressed emotion frequency & -0.0010 &   0.2441 & -0.0041 &      0.9968 & -0.4794 &  0.4774  \\\\\n",
       "\\hline\n",
       "\\end{tabular}\n",
       "\\end{center}\n",
       "\n",
       "\\begin{center}\n",
       "\\begin{tabular}{rrrrrrr}\n",
       "\\hline\n",
       "                   Time\\_Spent = 2 &   Coef. & Std.Err. &       t & P$> |$t$|$ &  [0.025 &  0.975]  \\\\\n",
       "\\hline\n",
       "                             const & -3.0484 &   0.8751 & -3.4833 &      0.0005 & -4.7637 & -1.3332  \\\\\n",
       "      Mindless Scrolling Frequency &  0.6124 &   0.2672 &  2.2921 &      0.0219 &  0.0887 &  1.1361  \\\\\n",
       "Social Media distraction Frequency &  0.2484 &   0.2584 &  0.9610 &      0.3365 & -0.2582 &  0.7549  \\\\\n",
       "            Restlessness Frequency &  0.6843 &   0.2811 &  2.4339 &      0.0149 &  0.1333 &  1.2353  \\\\\n",
       "                   Worry frequency & -0.3189 &   0.3373 & -0.9453 &      0.3445 & -0.9800 &  0.3423  \\\\\n",
       "        Self comparisons frequency &  0.0566 &   0.1904 &  0.2972 &      0.7663 & -0.3166 &  0.4297  \\\\\n",
       "       Depressed emotion frequency &  0.0676 &   0.2599 &  0.2600 &      0.7948 & -0.4419 &  0.5771  \\\\\n",
       "\\hline\n",
       "\\end{tabular}\n",
       "\\end{center}\n",
       "\n",
       "\\begin{center}\n",
       "\\begin{tabular}{rrrrrrr}\n",
       "\\hline\n",
       "                   Time\\_Spent = 3 &   Coef. & Std.Err. &       t & P$> |$t$|$ &  [0.025 &  0.975]  \\\\\n",
       "\\hline\n",
       "                             const & -4.5876 &   0.8820 & -5.2012 &      0.0000 & -6.3163 & -2.8589  \\\\\n",
       "      Mindless Scrolling Frequency &  0.9481 &   0.2555 &  3.7112 &      0.0002 &  0.4474 &  1.4489  \\\\\n",
       "Social Media distraction Frequency &  0.0440 &   0.2436 &  0.1807 &      0.8566 & -0.4335 &  0.5215  \\\\\n",
       "            Restlessness Frequency &  0.9185 &   0.2681 &  3.4261 &      0.0006 &  0.3931 &  1.4440  \\\\\n",
       "                   Worry frequency &  0.0813 &   0.3163 &  0.2571 &      0.7971 & -0.5386 &  0.7012  \\\\\n",
       "        Self comparisons frequency & -0.0533 &   0.1773 & -0.3008 &      0.7636 & -0.4009 &  0.2942  \\\\\n",
       "       Depressed emotion frequency &  0.2755 &   0.2456 &  1.1217 &      0.2620 & -0.2059 &  0.7568  \\\\\n",
       "\\hline\n",
       "\\end{tabular}\n",
       "\\end{center}\n",
       "\\end{table}\n",
       "\\bigskip\n"
      ],
      "text/plain": [
       "<class 'statsmodels.iolib.summary2.Summary'>\n",
       "\"\"\"\n",
       "                                 Results: MNLogit\n",
       "==================================================================================\n",
       "Model:                     MNLogit               Method:                MLE       \n",
       "Dependent Variable:        Time_Spent            Pseudo R-squared:      0.084     \n",
       "Date:                      2024-04-24 13:49      AIC:                   888.4906  \n",
       "No. Observations:          289                   BIC:                   991.1505  \n",
       "Df Model:                  24                    Log-Likelihood:        -416.25   \n",
       "Df Residuals:              261                   LL-Null:               -454.63   \n",
       "Converged:                 1.0000                LLR p-value:           1.9731e-07\n",
       "No. Iterations:            6.0000                Scale:                 1.0000    \n",
       "----------------------------------------------------------------------------------\n",
       "          Time_Spent = 0            Coef.  Std.Err.    t    P>|t|   [0.025  0.975]\n",
       "----------------------------------------------------------------------------------\n",
       "                             const -2.3903   0.8185 -2.9202 0.0035 -3.9946 -0.7860\n",
       "      Mindless Scrolling Frequency  0.4605   0.2574  1.7891 0.0736 -0.0440  0.9649\n",
       "Social Media distraction Frequency  0.1844   0.2510  0.7345 0.4627 -0.3076  0.6763\n",
       "            Restlessness Frequency  0.6892   0.2751  2.5053 0.0122  0.1500  1.2285\n",
       "                   Worry frequency -0.2630   0.3257 -0.8073 0.4195 -0.9013  0.3754\n",
       "        Self comparisons frequency -0.1337   0.1851 -0.7224 0.4701 -0.4964  0.2290\n",
       "       Depressed emotion frequency  0.2534   0.2512  1.0088 0.3131 -0.2389  0.7456\n",
       "----------------------------------------------------------------------------------\n",
       "          Time_Spent = 1            Coef.  Std.Err.    t    P>|t|   [0.025  0.975]\n",
       "----------------------------------------------------------------------------------\n",
       "                             const -2.8599   0.8070 -3.5441 0.0004 -4.4415 -1.2783\n",
       "      Mindless Scrolling Frequency  0.6869   0.2500  2.7480 0.0060  0.1970  1.1768\n",
       "Social Media distraction Frequency  0.0763   0.2440  0.3129 0.7544 -0.4018  0.5545\n",
       "            Restlessness Frequency  0.4294   0.2650  1.6203 0.1052 -0.0900  0.9487\n",
       "                   Worry frequency  0.1603   0.3144  0.5098 0.6102 -0.4559  0.7765\n",
       "        Self comparisons frequency  0.1447   0.1745  0.8289 0.4072 -0.1974  0.4868\n",
       "       Depressed emotion frequency -0.0010   0.2441 -0.0041 0.9968 -0.4794  0.4774\n",
       "----------------------------------------------------------------------------------\n",
       "          Time_Spent = 2            Coef.  Std.Err.    t    P>|t|   [0.025  0.975]\n",
       "----------------------------------------------------------------------------------\n",
       "                             const -3.0484   0.8751 -3.4833 0.0005 -4.7637 -1.3332\n",
       "      Mindless Scrolling Frequency  0.6124   0.2672  2.2921 0.0219  0.0887  1.1361\n",
       "Social Media distraction Frequency  0.2484   0.2584  0.9610 0.3365 -0.2582  0.7549\n",
       "            Restlessness Frequency  0.6843   0.2811  2.4339 0.0149  0.1333  1.2353\n",
       "                   Worry frequency -0.3189   0.3373 -0.9453 0.3445 -0.9800  0.3423\n",
       "        Self comparisons frequency  0.0566   0.1904  0.2972 0.7663 -0.3166  0.4297\n",
       "       Depressed emotion frequency  0.0676   0.2599  0.2600 0.7948 -0.4419  0.5771\n",
       "----------------------------------------------------------------------------------\n",
       "          Time_Spent = 3            Coef.  Std.Err.    t    P>|t|   [0.025  0.975]\n",
       "----------------------------------------------------------------------------------\n",
       "                             const -4.5876   0.8820 -5.2012 0.0000 -6.3163 -2.8589\n",
       "      Mindless Scrolling Frequency  0.9481   0.2555  3.7112 0.0002  0.4474  1.4489\n",
       "Social Media distraction Frequency  0.0440   0.2436  0.1807 0.8566 -0.4335  0.5215\n",
       "            Restlessness Frequency  0.9185   0.2681  3.4261 0.0006  0.3931  1.4440\n",
       "                   Worry frequency  0.0813   0.3163  0.2571 0.7971 -0.5386  0.7012\n",
       "        Self comparisons frequency -0.0533   0.1773 -0.3008 0.7636 -0.4009  0.2942\n",
       "       Depressed emotion frequency  0.2755   0.2456  1.1217 0.2620 -0.2059  0.7568\n",
       "==================================================================================\n",
       "\n",
       "\"\"\""
      ]
     },
     "execution_count": 19,
     "metadata": {},
     "output_type": "execute_result"
    }
   ],
   "source": [
    "CleansedDF2=CleansedDF\n",
    "CleansedDF2\n",
    "\n",
    "#drop the unnecessary/low correlation tables\n",
    "X = CleansedDF2[features]\n",
    "y = CleansedDF2['Time_Spent']\n",
    "\n",
    "print(\"Remaining cols in X\")\n",
    "print(list(X.columns.values)) \n",
    "\n",
    "X_train, X_test, y_train, y_test = sklearn.model_selection.train_test_split(X, y, test_size = 0.15, random_state = 42)\n",
    "\n",
    "model1 = LogisticRegression(random_state=42, multi_class='multinomial', penalty='none', solver='newton-cg').fit(X_train, y_train)\n",
    "preds = model1.predict(X_test)\n",
    "\n",
    "#print the tunable parameters (They were not tuned in this example, everything kept as default)\n",
    "params = model1.get_params()\n",
    "print(params)\n",
    "\n",
    "\n",
    "logit_model=sm.MNLogit(y_train,sm.add_constant(X_train))\n",
    "logit_model\n",
    "\n",
    "result=logit_model.fit()\n",
    "result.summary()\n",
    "result.summary2()\n"
   ]
  },
  {
   "cell_type": "code",
   "execution_count": 20,
   "metadata": {
    "cell_id": "e86560af3a3a426289a75eb44d1ab602",
    "deepnote_cell_type": "code",
    "deepnote_to_be_reexecuted": false,
    "execution_millis": 352,
    "execution_start": 1713966581200,
    "source_hash": "15d5d5c6"
   },
   "outputs": [
    {
     "name": "stdout",
     "output_type": "stream",
     "text": [
      "Accuracy Score: 0.4117647058823529\n",
      "              precision    recall  f1-score   support\n",
      "\n",
      "           1       0.17      0.20      0.18         5\n",
      "           2       0.55      0.43      0.48        14\n",
      "           3       0.45      0.45      0.45        11\n",
      "           4       0.00      0.00      0.00         5\n",
      "           5       0.41      0.56      0.47        16\n",
      "\n",
      "    accuracy                           0.41        51\n",
      "   macro avg       0.32      0.33      0.32        51\n",
      "weighted avg       0.39      0.41      0.40        51\n",
      "\n",
      "Accuracy Score: 0.3944636678200692\n",
      "              precision    recall  f1-score   support\n",
      "\n",
      "           1       0.44      0.51      0.48        39\n",
      "           2       0.41      0.25      0.31        53\n",
      "           3       0.29      0.29      0.29        66\n",
      "           4       0.56      0.11      0.18        47\n",
      "           5       0.42      0.68      0.52        84\n",
      "\n",
      "    accuracy                           0.39       289\n",
      "   macro avg       0.42      0.37      0.35       289\n",
      "weighted avg       0.41      0.39      0.37       289\n",
      "\n"
     ]
    },
    {
     "data": {
      "application/vnd.deepnote.dataframe.v3+json": {
       "column_count": 5,
       "columns": [
        {
         "dtype": "int64",
         "name": "predicted_1",
         "stats": {
          "histogram": [
           {
            "bin_end": 0.2,
            "bin_start": 0,
            "count": 1
           },
           {
            "bin_end": 0.4,
            "bin_start": 0.2,
            "count": 0
           },
           {
            "bin_end": 0.6000000000000001,
            "bin_start": 0.4,
            "count": 0
           },
           {
            "bin_end": 0.8,
            "bin_start": 0.6000000000000001,
            "count": 0
           },
           {
            "bin_end": 1,
            "bin_start": 0.8,
            "count": 0
           },
           {
            "bin_end": 1.2000000000000002,
            "bin_start": 1,
            "count": 2
           },
           {
            "bin_end": 1.4000000000000001,
            "bin_start": 1.2000000000000002,
            "count": 0
           },
           {
            "bin_end": 1.6,
            "bin_start": 1.4000000000000001,
            "count": 0
           },
           {
            "bin_end": 1.8,
            "bin_start": 1.6,
            "count": 0
           },
           {
            "bin_end": 2,
            "bin_start": 1.8,
            "count": 2
           }
          ],
          "max": "2",
          "min": "0",
          "nan_count": 0,
          "unique_count": 3
         }
        },
        {
         "dtype": "int64",
         "name": "predicted_2",
         "stats": {
          "histogram": [
           {
            "bin_end": 1.5,
            "bin_start": 1,
            "count": 3
           },
           {
            "bin_end": 2,
            "bin_start": 1.5,
            "count": 0
           },
           {
            "bin_end": 2.5,
            "bin_start": 2,
            "count": 1
           },
           {
            "bin_end": 3,
            "bin_start": 2.5,
            "count": 0
           },
           {
            "bin_end": 3.5,
            "bin_start": 3,
            "count": 0
           },
           {
            "bin_end": 4,
            "bin_start": 3.5,
            "count": 0
           },
           {
            "bin_end": 4.5,
            "bin_start": 4,
            "count": 0
           },
           {
            "bin_end": 5,
            "bin_start": 4.5,
            "count": 0
           },
           {
            "bin_end": 5.5,
            "bin_start": 5,
            "count": 0
           },
           {
            "bin_end": 6,
            "bin_start": 5.5,
            "count": 1
           }
          ],
          "max": "6",
          "min": "1",
          "nan_count": 0,
          "unique_count": 3
         }
        },
        {
         "dtype": "int64",
         "name": "predicted_3",
         "stats": {
          "histogram": [
           {
            "bin_end": 0.5,
            "bin_start": 0,
            "count": 1
           },
           {
            "bin_end": 1,
            "bin_start": 0.5,
            "count": 0
           },
           {
            "bin_end": 1.5,
            "bin_start": 1,
            "count": 1
           },
           {
            "bin_end": 2,
            "bin_start": 1.5,
            "count": 0
           },
           {
            "bin_end": 2.5,
            "bin_start": 2,
            "count": 1
           },
           {
            "bin_end": 3,
            "bin_start": 2.5,
            "count": 0
           },
           {
            "bin_end": 3.5,
            "bin_start": 3,
            "count": 1
           },
           {
            "bin_end": 4,
            "bin_start": 3.5,
            "count": 0
           },
           {
            "bin_end": 4.5,
            "bin_start": 4,
            "count": 0
           },
           {
            "bin_end": 5,
            "bin_start": 4.5,
            "count": 1
           }
          ],
          "max": "5",
          "min": "0",
          "nan_count": 0,
          "unique_count": 5
         }
        },
        {
         "dtype": "int64",
         "name": "predicted_4",
         "stats": {
          "histogram": [
           {
            "bin_end": 0.1,
            "bin_start": 0,
            "count": 4
           },
           {
            "bin_end": 0.2,
            "bin_start": 0.1,
            "count": 0
           },
           {
            "bin_end": 0.30000000000000004,
            "bin_start": 0.2,
            "count": 0
           },
           {
            "bin_end": 0.4,
            "bin_start": 0.30000000000000004,
            "count": 0
           },
           {
            "bin_end": 0.5,
            "bin_start": 0.4,
            "count": 0
           },
           {
            "bin_end": 0.6000000000000001,
            "bin_start": 0.5,
            "count": 0
           },
           {
            "bin_end": 0.7000000000000001,
            "bin_start": 0.6000000000000001,
            "count": 0
           },
           {
            "bin_end": 0.8,
            "bin_start": 0.7000000000000001,
            "count": 0
           },
           {
            "bin_end": 0.9,
            "bin_start": 0.8,
            "count": 0
           },
           {
            "bin_end": 1,
            "bin_start": 0.9,
            "count": 1
           }
          ],
          "max": "1",
          "min": "0",
          "nan_count": 0,
          "unique_count": 2
         }
        },
        {
         "dtype": "int64",
         "name": "predicted_5",
         "stats": {
          "histogram": [
           {
            "bin_end": 1.8,
            "bin_start": 1,
            "count": 1
           },
           {
            "bin_end": 2.6,
            "bin_start": 1.8,
            "count": 1
           },
           {
            "bin_end": 3.4000000000000004,
            "bin_start": 2.6,
            "count": 0
           },
           {
            "bin_end": 4.2,
            "bin_start": 3.4000000000000004,
            "count": 0
           },
           {
            "bin_end": 5,
            "bin_start": 4.2,
            "count": 0
           },
           {
            "bin_end": 5.800000000000001,
            "bin_start": 5,
            "count": 2
           },
           {
            "bin_end": 6.6000000000000005,
            "bin_start": 5.800000000000001,
            "count": 0
           },
           {
            "bin_end": 7.4,
            "bin_start": 6.6000000000000005,
            "count": 0
           },
           {
            "bin_end": 8.2,
            "bin_start": 7.4,
            "count": 0
           },
           {
            "bin_end": 9,
            "bin_start": 8.2,
            "count": 1
           }
          ],
          "max": "9",
          "min": "1",
          "nan_count": 0,
          "unique_count": 4
         }
        },
        {
         "dtype": "object",
         "name": "_deepnote_index_column"
        }
       ],
       "row_count": 5,
       "rows": [
        {
         "_deepnote_index_column": "1",
         "predicted_1": 1,
         "predicted_2": 1,
         "predicted_3": 1,
         "predicted_4": 0,
         "predicted_5": 2
        },
        {
         "_deepnote_index_column": "2",
         "predicted_1": 1,
         "predicted_2": 6,
         "predicted_3": 2,
         "predicted_4": 0,
         "predicted_5": 5
        },
        {
         "_deepnote_index_column": "3",
         "predicted_1": 0,
         "predicted_2": 1,
         "predicted_3": 5,
         "predicted_4": 0,
         "predicted_5": 5
        },
        {
         "_deepnote_index_column": "4",
         "predicted_1": 2,
         "predicted_2": 2,
         "predicted_3": 0,
         "predicted_4": 0,
         "predicted_5": 1
        },
        {
         "_deepnote_index_column": "5",
         "predicted_1": 2,
         "predicted_2": 1,
         "predicted_3": 3,
         "predicted_4": 1,
         "predicted_5": 9
        }
       ]
      },
      "text/html": [
       "<div>\n",
       "<style scoped>\n",
       "    .dataframe tbody tr th:only-of-type {\n",
       "        vertical-align: middle;\n",
       "    }\n",
       "\n",
       "    .dataframe tbody tr th {\n",
       "        vertical-align: top;\n",
       "    }\n",
       "\n",
       "    .dataframe thead th {\n",
       "        text-align: right;\n",
       "    }\n",
       "</style>\n",
       "<table border=\"1\" class=\"dataframe\">\n",
       "  <thead>\n",
       "    <tr style=\"text-align: right;\">\n",
       "      <th></th>\n",
       "      <th>predicted_1</th>\n",
       "      <th>predicted_2</th>\n",
       "      <th>predicted_3</th>\n",
       "      <th>predicted_4</th>\n",
       "      <th>predicted_5</th>\n",
       "    </tr>\n",
       "  </thead>\n",
       "  <tbody>\n",
       "    <tr>\n",
       "      <th>1</th>\n",
       "      <td>1</td>\n",
       "      <td>1</td>\n",
       "      <td>1</td>\n",
       "      <td>0</td>\n",
       "      <td>2</td>\n",
       "    </tr>\n",
       "    <tr>\n",
       "      <th>2</th>\n",
       "      <td>1</td>\n",
       "      <td>6</td>\n",
       "      <td>2</td>\n",
       "      <td>0</td>\n",
       "      <td>5</td>\n",
       "    </tr>\n",
       "    <tr>\n",
       "      <th>3</th>\n",
       "      <td>0</td>\n",
       "      <td>1</td>\n",
       "      <td>5</td>\n",
       "      <td>0</td>\n",
       "      <td>5</td>\n",
       "    </tr>\n",
       "    <tr>\n",
       "      <th>4</th>\n",
       "      <td>2</td>\n",
       "      <td>2</td>\n",
       "      <td>0</td>\n",
       "      <td>0</td>\n",
       "      <td>1</td>\n",
       "    </tr>\n",
       "    <tr>\n",
       "      <th>5</th>\n",
       "      <td>2</td>\n",
       "      <td>1</td>\n",
       "      <td>3</td>\n",
       "      <td>1</td>\n",
       "      <td>9</td>\n",
       "    </tr>\n",
       "  </tbody>\n",
       "</table>\n",
       "</div>"
      ],
      "text/plain": [
       "   predicted_1  predicted_2  predicted_3  predicted_4  predicted_5\n",
       "1            1            1            1            0            2\n",
       "2            1            6            2            0            5\n",
       "3            0            1            5            0            5\n",
       "4            2            2            0            0            1\n",
       "5            2            1            3            1            9"
      ]
     },
     "execution_count": 20,
     "metadata": {},
     "output_type": "execute_result"
    }
   ],
   "source": [
    "print('Accuracy Score:', metrics.accuracy_score(y_test, preds))  \n",
    "class_report=classification_report(y_test, preds)\n",
    "print(class_report)\n",
    "\n",
    "preds1 = model1.predict(X_train)\n",
    "print('Accuracy Score:', metrics.accuracy_score(y_train, preds1))  \n",
    "class_report=classification_report(y_train, preds1)\n",
    "print(class_report)\n",
    "\n",
    "#transform confusion matrix into array\n",
    "#the matrix is stored in a vaiable called confmtrx\n",
    "#f1 score is a performance measure\n",
    "confmtrx = np.array(confusion_matrix(y_test, preds))\n",
    "#Create DataFrame from confmtrx array \n",
    "#rows for test: 0-5 as index \n",
    "#columns for preds: 0-5 as column\n",
    "\n",
    "pd.DataFrame(confmtrx, index=['1', '2','3','4', '5'],columns=['predicted_1', 'predicted_2','predicted_3', 'predicted_4', 'predicted_5'])\n",
    "\n"
   ]
  },
  {
   "cell_type": "markdown",
   "metadata": {
    "cell_id": "31bc6070b49f44969a7da04de4e5f3fa",
    "deepnote_cell_type": "text-cell-h2",
    "formattedRanges": []
   },
   "source": [
    "## Analysis of results "
   ]
  },
  {
   "cell_type": "markdown",
   "metadata": {
    "cell_id": "532f086f2766408f8a3cf02143f712c7",
    "deepnote_cell_type": "markdown"
   },
   "source": [
    "### Restlessness Frequency\n",
    "This variable is significant for Time_Spent = 0 and Time_Spent = 3.\n",
    "\n",
    "- **For Time_Spent = 0**:\n",
    "  - **Coef.**: 0.6892\n",
    "  - **P>|t|**: 0.0122\n",
    "  - **Explanation**: The positive coefficient indicates that higher restlessness frequency is associated with a higher likelihood of spending less time on social media (Cluster 0). The low p-value (0.0122) suggests this relationship is statistically significant.\n",
    "  - **Insights**: This finding suggests that restlessness might lead some individuals to spend less time on social media. This could be due to individuals seeking other activities or methods to cope with restlessness.\n",
    "\n",
    "- **For Time_Spent = 3**:\n",
    "  - **Coef.**: 0.9185\n",
    "  - **P>|t|**: 0.0006\n",
    "  - **Explanation**: The coefficient is positive, indicating that high restlessness frequency is associated with a higher likelihood of spending more time on social media (Cluster 3). The p-value (0.0006) is very low, confirming that this effect is statistically significant.\n",
    "  - **Insights**: This strong positive relationship suggests that restlessness might lead to increased social media usage. It implies that social media could be a form of distraction or coping mechanism for restlessness.\n",
    "\n",
    "### Mindless Scrolling Frequency\n",
    "This variable is significant for Time_Spent = 1, Time_Spent = 2, and Time_Spent = 3.\n",
    "\n",
    "- **For Time_Spent = 1**:\n",
    "  - **Coef.**: 0.6869\n",
    "  - **P>|t|**: 0.0060\n",
    "  - **Explanation**: A positive coefficient indicates that higher mindless scrolling frequency is associated with this level of social media usage (Cluster 1). The p-value (0.0060) suggests this is a statistically significant finding.\n",
    "  - **Insights**: This significant effect reinforces the notion that mindless scrolling can lead to moderate levels of social media usage.\n",
    "\n",
    "- **For Time_Spent = 2**:\n",
    "  - **Coef.**: 0.6124\n",
    "  - **P>|t|**: 0.0219\n",
    "  - **Explanation**: A positive coefficient suggests that mindless scrolling frequency correlates with this level of time spent on social media. The p-value (0.0219) indicates statistical significance.\n",
    "  - **Insights**: The finding supports the view that mindless scrolling plays a consistent role in influencing social media engagement.\n",
    "\n",
    "- **For Time_Spent = 3**:\n",
    "  - **Coef.**: 0.9481\n",
    "  - **P>|t|**: 0.0002\n",
    "  - **Explanation**: The significant positive coefficient shows a strong relationship between mindless scrolling frequency and the highest level of social media usage (Cluster 3). The p-value (0.0002) is very low, confirming the statistical significance of this effect.\n",
    "  - **Insights**: The large coefficient value and low p-value underscore the significant impact of mindless scrolling on high social media engagement, suggesting that addressing this behavior could be crucial in reducing time spent on social media.\n",
    "\n",
    "### Features with Limited Influence\n",
    "Variables such as \"Social Media distraction Frequency,\" \"Worry frequency,\" and \"Self comparisons frequency\" show mixed or low significance, indicating that they might not have a substantial impact on \"Time Spent on Social Media.\"\n"
   ]
  },
  {
   "cell_type": "markdown",
   "metadata": {
    "cell_id": "c281702788c74dab9926fbe986cb1c45",
    "deepnote_cell_type": "text-cell-h1",
    "formattedRanges": []
   },
   "source": [
    "# Behavioural Insights"
   ]
  },
  {
   "cell_type": "markdown",
   "metadata": {
    "cell_id": "62efa18d1eab4e5498c2f4e20fbaaae8",
    "deepnote_cell_type": "markdown"
   },
   "source": [
    "### Proposed Interventions\n",
    "A score above 16 indicates a need for action, based on our SVM Test Score. \n",
    "\n",
    "Based on our multinomial logistic regression model, the most significant factor affecting time spent on social media are \"Restlessness Frequency\" and \"Mindless Scrolling Frequency.\" If your total score exceeds 16, it's important to focus on these two features to address excessive social media use.\n",
    "\n",
    "**Addressing Restlessness Frequency**\n",
    "\n",
    "1) Physical Activity\n",
    "Engage in regular exercise, such as walking, jogging, or yoga, to channel restlessness into productive energy.\n",
    "\n",
    "2) Breathing Exercises and Meditation\n",
    "Learn simple breathing techniques or meditation practices to calm the mind and manage restlessness.\n",
    "\n",
    "3) Structured Routines: Develop a daily schedule with structured activities to maintain focus and reduce feelings of restlessness.\n",
    "\n",
    "**Reducing Mindless Scrolling**\n",
    "\n",
    "\n",
    "1) Set Time Limits\n",
    "Use apps or phone settings to limit social media usage to specific timeframes or a set number of hours per day.\n",
    "\n",
    "2) Structured Social Media Use\n",
    "Establish dedicated times for social media, such as during lunch breaks or after work, to reduce the urge for constant scrolling.\n",
    "\n",
    "3) No-Phone Zones \n",
    "Create spaces or times where phones are not allowed, like at the dinner table or during family time, to encourage meaningful interactions.\n",
    "\n",
    "4) Alternative Activities: Find engaging offline activities, such as reading, exercising, or pursuing hobbies, to replace mindless scrolling.\n",
    "\n",
    "For total score below 16, the focus will be on maintaining their current habits:\n",
    "\n",
    "\n",
    "**Reinforce Positive Behavior**\n",
    "\n",
    "For total score below 16, the focus will be on maintaining their current habits. \n",
    "\n",
    "\n",
    "\n"
   ]
  },
  {
   "cell_type": "markdown",
   "metadata": {
    "cell_id": "11059b5c42d248cd96e4aab27f3c1f1f",
    "deepnote_cell_type": "text-cell-h1",
    "formattedRanges": []
   },
   "source": [
    "# Conclusion "
   ]
  },
  {
   "cell_type": "markdown",
   "metadata": {
    "cell_id": "d2fa5520fdf34431a7a4f94b8bccc30f",
    "deepnote_cell_type": "text-cell-h3",
    "formattedRanges": []
   },
   "source": [
    "### Outcomes"
   ]
  },
  {
   "cell_type": "markdown",
   "metadata": {
    "cell_id": "701e0a078b6e4c318aae6646500d2ee4",
    "deepnote_cell_type": "text-cell-p",
    "formattedRanges": []
   },
   "source": [
    "1. There is a linear relationship between the amount of time students spend on social media and the impact on their mental health. The more time they spend on social media, the greater the impact on their mental health"
   ]
  },
  {
   "cell_type": "markdown",
   "metadata": {
    "cell_id": "7d1fb6a1f7e44ef4b14de3d16d33d059",
    "deepnote_cell_type": "text-cell-p",
    "formattedRanges": []
   },
   "source": [
    "2. Students need to manage the time they spend on social media appropriately and not overuse it. Social media is a double-edged sword. Wrong use can cause harm to the user’s mental health."
   ]
  },
  {
   "cell_type": "markdown",
   "metadata": {
    "cell_id": "82cc27bb5bcb4f6bae7d73762f928556",
    "deepnote_cell_type": "markdown"
   },
   "source": [
    "\n",
    "\n",
    "### Future possibilites \n",
    "1) Longitudinal Tracking: Monitoring changes in engagement and behavior over time could provide insights into the long-term effects of social media use and the stability of these clusters.\n",
    "\n",
    "2) Qualitative Research: Interviews or focus groups could delve deeper into underlying reasons behind individuals’ social media use patterns and the personal meaning of the behaviors measured. This allows for more targeted interventions other than jsut reducing time spent on social media. \n",
    "\n",
    "3) Comparative Analysis: Comparing these clusters with other factors such as demographic data, mental health status, or offline behaviors could enrich the understanding of the context and implications of these patterns.\n",
    "\n",
    "4) Possible improvements on our models through things like ensemble model, which combines SVM and Logistic Regression"
   ]
  },
  {
   "cell_type": "code",
   "execution_count": 21,
   "metadata": {
    "cell_id": "a84de0d19f6c44bdab1d2bcd7e974e62",
    "deepnote_cell_type": "code",
    "deepnote_to_be_reexecuted": false,
    "execution_millis": 320,
    "execution_start": 1713966581233,
    "source_hash": "a152d3b8"
   },
   "outputs": [
    {
     "data": {
      "text/plain": [
       "0.4117647058823529"
      ]
     },
     "execution_count": 21,
     "metadata": {},
     "output_type": "execute_result"
    }
   ],
   "source": [
    "\n",
    "\n",
    "# Fit the ensemble model with your trained models\n",
    "ensemble_model = VotingClassifier(estimators=[('svm', svm_model), ('logistic', model1)], voting='hard')\n",
    "ensemble_model.fit(X_train, y_train)  # Replace y_train with your training labels\n",
    "\n",
    "# Make predictions using the fitted ensemble model\n",
    "#ensemble_predictions = ensemble_model.predict(X_test)\n",
    "\n",
    "ensemble_model.score(X_test, y_test)"
   ]
  }
 ],
 "metadata": {
  "deepnote_execution_queue": [],
  "deepnote_notebook_id": "e43661bd25514d45906d224fc76f970f",
  "deepnote_persisted_session": {
   "createdAt": "2024-04-22T17:02:37.174Z"
  },
  "kernelspec": {
   "display_name": "Python 3 (ipykernel)",
   "language": "python",
   "name": "python3"
  },
  "language_info": {
   "codemirror_mode": {
    "name": "ipython",
    "version": 3
   },
   "file_extension": ".py",
   "mimetype": "text/x-python",
   "name": "python",
   "nbconvert_exporter": "python",
   "pygments_lexer": "ipython3",
   "version": "3.11.5"
  }
 },
 "nbformat": 4,
 "nbformat_minor": 1
}
